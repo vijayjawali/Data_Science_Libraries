{
 "cells": [
  {
   "cell_type": "markdown",
   "metadata": {},
   "source": [
    "### BEAUTIFULSOUP BASICS"
   ]
  },
  {
   "cell_type": "markdown",
   "metadata": {},
   "source": [
    "<img src=\"beautifulsoup_image.png\">"
   ]
  },
  {
   "cell_type": "markdown",
   "metadata": {},
   "source": [
    "Beautiful Soup is a Python library for pulling data out of HTML and XML files. It works with your favorite parser to provide idiomatic ways of navigating, searching, and modifying the parse tree."
   ]
  },
  {
   "cell_type": "markdown",
   "metadata": {},
   "source": [
    "<img src=\"process.png\">"
   ]
  },
  {
   "cell_type": "markdown",
   "metadata": {},
   "source": [
    "<img src=\"setting_environment.png\">"
   ]
  },
  {
   "cell_type": "markdown",
   "metadata": {},
   "source": [
    "<img src=\"fetching_html.png\">"
   ]
  },
  {
   "cell_type": "markdown",
   "metadata": {},
   "source": [
    "<img src=\"parsing_html.png\">"
   ]
  },
  {
   "cell_type": "markdown",
   "metadata": {},
   "source": [
    "<img src=\"traversing_html_tree.png\">"
   ]
  },
  {
   "cell_type": "markdown",
   "metadata": {},
   "source": [
    "There are mainly two ways to extract data from a website:\n",
    "\n",
    "<li>Use the API of the website (if it exists). For example, Facebook has the Facebook Graph API which allows retrieval of data posted on Facebook.</li>\n",
    "<li>Access the HTML of the webpage and extract useful information/data from it. This technique is called web scraping or web harvesting or web data extraction.</li>"
   ]
  },
  {
   "cell_type": "markdown",
   "metadata": {},
   "source": [
    "#### Step 0: Setting up Environment\n",
    "##### Install all the requirements\n",
    "pip install requests\n",
    "\n",
    "pip install bs4\n",
    "\n",
    "pip install html5lib"
   ]
  },
  {
   "cell_type": "code",
   "execution_count": 52,
   "metadata": {},
   "outputs": [],
   "source": [
    "import requests\n",
    "from bs4 import BeautifulSoup\n",
    "url = 'https://codewithharry.com/'"
   ]
  },
  {
   "cell_type": "markdown",
   "metadata": {},
   "source": [
    "#### Step 1: get the HTML"
   ]
  },
  {
   "cell_type": "code",
   "execution_count": 53,
   "metadata": {},
   "outputs": [
    {
     "data": {
      "text/plain": [
       "b'<!DOCTYPE html><html lang=\"en\"><head><meta name=\"viewport\" content=\"width=device-width\"/><meta charSet=\"utf-8\"/><script async=\"\" src=\"https://pagead2.googlesyndication.com/pagead/js/adsbygoogle.js?client=ca-pub-9655830461045889\" crossorigin=\"anonymous\"></script><script>(function(w,d,s,l,i){w[l]=w[l]||[];w[l].push({\\'gtm.start\\':\\n        new Date().getTime(),event:\\'gtm.js\\'});var f=d.getElementsByTagName(s)[0],\\n        j=d.createElement(s),dl=l!=\\'dataLayer\\'?\\'&l=\\'+l:\\'\\';j.async=true;j.src=\\n        \\'https://www.googletagmanager.com/gtm.js?id=\\'+i+dl;f.parentNode.insertBefore(j,f);\\n        })(window,document,\\'script\\',\\'dataLayer\\',\\'GTM-MCDDKRF\\');</script><title>Home | CodeWithHarry</title><meta name=\"description\" content=\"Welcome to Code With Harry. Code With Harry is my attempt to teach basics and those coding techniques to people in short time which took me ages to learn.\"/><link rel=\"icon\" href=\"/favicon.ico\"/><meta name=\"next-head-count\" content=\"7\"/><link rel=\"preload\" href=\"/_next/static/css/95fea26d92efb53e.css\" as=\"style\"/><link rel=\"stylesheet\" href=\"/_next/static/css/95fea26d92efb53e.css\" data-n-g=\"\"/><link rel=\"preload\" href=\"/_next/static/css/39f4d8aba4b66723.css\" as=\"style\"/><link rel=\"stylesheet\" href=\"/_next/static/css/39f4d8aba4b66723.css\" data-n-p=\"\"/><noscript data-n-css=\"\"></noscript><script defer=\"\" nomodule=\"\" src=\"/_next/static/chunks/polyfills-5cd94c89d3acac5f.js\"></script><script src=\"/_next/static/chunks/webpack-cb79fe2bfb796200.js\" defer=\"\"></script><script src=\"/_next/static/chunks/framework-91d7f78b5b4003c8.js\" defer=\"\"></script><script src=\"/_next/static/chunks/main-728af1fb3715c9e8.js\" defer=\"\"></script><script src=\"/_next/static/chunks/pages/_app-7ccd4159d18b03be.js\" defer=\"\"></script><script src=\"/_next/static/chunks/pages/index-afddd706d45453a5.js\" defer=\"\"></script><script src=\"/_next/static/NMIVj1Cr7P_Tk6BOc0NXN/_buildManifest.js\" defer=\"\"></script><script src=\"/_next/static/NMIVj1Cr7P_Tk6BOc0NXN/_ssgManifest.js\" defer=\"\"></script><script src=\"/_next/static/NMIVj1Cr7P_Tk6BOc0NXN/_middlewareManifest.js\" defer=\"\"></script></head><body><noscript><iframe src=\"https://www.googletagmanager.com/ns.html?id=GTM-MCDDKRF\" height=\"0\" width=\"0\" style=\"display:none;visibility:hidden\"></iframe></noscript><div id=\"__next\"><div class=\" w-full z-10 sticky bg-white top-0 border-b border-grey-light\"><div class=\"w-full flex flex-wrap items-center lg:justify-between mt-0 py-4 justify-center\"><div class=\" mx-0 px-0 lg:pl-4 flex items-center lg:mx-4\"><span class=\"text-teal-700 no-underline hover:no-underline font-bold text-xl text-purple-800\"><a href=\"/\">CodeWithHarry</a></span></div><div class=\"pr-4 absolute top-1 right-1 pt-3\"><button class=\"lg:hidden flex items-center px-3 py-2 border rounded text-grey border-grey-dark hover:text-black hover:border-purple appearance-none focus:outline-none\"><svg class=\"fill-current h-3 w-3\" viewBox=\"0 0 20 20\" xmlns=\"http://www.w3.org/2000/svg\"><title>Menu</title><path d=\"M0 3h20v2H0V3zm0 6h20v2H0V9zm0 6h20v2H0v-2z\"></path></svg></button></div><div class=\"w-full flex-grow lg:flex lg:flex-1 lg:content-center lg:justify-end lg:w-auto h-0 lg:h-auto overflow-hidden mt-2 lg:mt-0 z-20 transition-all\" id=\"nav-content\"><ul class=\"flex items-center flex-col lg:flex-row\"><div id=\"search-toggle\" class=\"search-icon cursor-pointer px-6 hidden\"><svg class=\"fill-current pointer-events-none text-grey-darkest w-4 h-4 inline\" xmlns=\"http://www.w3.org/2000/svg\" viewBox=\"0 0 20 20\"><path d=\"M12.9 14.32a8 8 0 1 1 1.41-1.41l5.35 5.33-1.42 1.42-5.33-5.34zM8 14A6 6 0 1 0 8 2a6 6 0 0 0 0 12z\"></path></svg></div><li class=\"mx-2 my-2\"><a href=\"/\">Home</a></li><li class=\"mx-2 my-2\"><a href=\"/videos/\">Courses</a></li><li class=\"mx-2 my-2\"><a href=\"/blog/\">Blog</a></li><li class=\"mx-2 my-2\"><a href=\"/contact/\">Contact</a></li></ul><div class=\"text-center my-2 px-4\"><button id=\"login\" class=\"text-white bg-purple-700 hover:bg-purple-800 focus:ring-4 focus:ring-purple-300 font-medium rounded-lg text-sm px-3 py-2 text-center inline-flex items-center mx-1\">Login</button><button id=\"signup\" class=\"text-white bg-purple-700 hover:bg-purple-800 focus:ring-4 focus:ring-purple-300 font-medium rounded-lg text-sm px-3 py-2 text-center inline-flex items-center mx-1\">Signup</button></div></div></div></div><div class=\"relative w-full hidden bg-white shadow-xl\" id=\"search-content\"><div class=\"container mx-auto py-4 text-black\"><input type=\"search\" id=\"searchfield\" placeholder=\"Search...\" autofocus=\"\" class=\"w-full text-grey-800 transition focus:outline-none focus:border-transparent p-2 appearance-none leading-normal text-xl lg:text-2xl\"/></div></div><div class=\"mx-auto my-1\"></div><div class=\"\" style=\"position:fixed;top:0;left:0;height:2px;background:transparent;z-index:99999999999;width:100%\"><div class=\"\" style=\"height:100%;background:purple;transition:all 500ms ease;width:0%\"><div style=\"box-shadow:0 0 10px purple, 0 0 10px purple;width:5%;opacity:1;position:absolute;height:100%;transition:all 500ms ease;transform:rotate(3deg) translate(0px, -4px);left:-10rem\"></div></div></div><div class=\"Home_container__bCOhY\"><div class=\"flex bg-white h-96 container mx-auto\"><div class=\"flex items-center text-center lg:text-left px-8 md:px-12 lg:w-1/2\"><div><h2 class=\"text-3xl font-semibold text-gray-800 md:text-4xl\">Welcome to <span class=\"text-indigo-600\">CodeWithHarry</span></h2><p class=\"mt-2 text-sm text-gray-500 md:text-base\">Confused on which course to take? I have got you covered. Browse courses and find out the best course for you. Its free! Code With Harry is my attempt to teach basics and those coding techniques to people in short time which took me ages to learn.</p><div class=\"flex justify-center lg:justify-start mt-6\"><button class=\"px-3 py-2 lg:px-4 lg:py-3 bg-gray-900 text-gray-200 text-xs font-semibold rounded hover:bg-gray-800\">Free Courses</button><button class=\"px-3 py-2 mx-4 lg:px-4 lg:py-3 bg-gray-300 text-gray-900 text-xs font-semibold rounded hover:bg-gray-400\">Explore Blog</button></div></div></div><div class=\"hidden lg:block lg:w-1/2\" style=\"clip-path:polygon(10% 0, 100% 0%, 100% 100%, 0 100%)\"><div class=\"h-full object-cover\" style=\"background-image:url(https://images.unsplash.com/photo-1498050108023-c5249f4df085?ixlib=rb-1.2.1&amp;ixid=eyJhcHBfaWQiOjEyMDd9&amp;auto=format&amp;fit=crop&amp;w=1352&amp;q=80)\"><div class=\"h-full bg-black opacity-25\"></div></div></div></div><div class=\"container mx-auto lg:my-2\"><h2 class=\"text-3xl font-medium title-font text-gray-900 my-10 text-center\">Recommended Courses</h2><div class=\"flex flex-wrap\"><div class=\"lg:p-4 md:w-1/3 flex justify-center\"><div class=\"max-w-sm rounded-2xl overflow-hidden shadow-lg\"><img class=\"w-full\" src=\"https://codewithharry.nyc3.cdn.digitaloceanspaces.com/assets/e1c843acc10c59c60504cd438a082c6d.png\" alt=\"Tailwind Course In Hindi\"/><div class=\"px-6 py-4 lg:h-52\"><span class=\"tracking-widest text-xs title-font font-medium text-gray-400 mb-1\">Free Course</span><div class=\"title-font text-lg font-medium text-gray-900 mb-3\"><a href=\"/videos/tailwind-course-in-hindi-1/\">Tailwind Course In Hindi</a></div><p class=\"text-gray-700 text-base\">Complete Tailwind CSS Course by CodeWithHarry in Hindi - Learn Tailwind CSS from scratch for free! </p></div><div class=\"px-6 pt-4 pb-2\"><span class=\"inline-block bg-purple-800 rounded-full px-3 py-2 text-sm font-semibold text-white mr-2 mb-2 hover:bg-purple-600 cursor-pointer\"> Start Watching</span></div></div></div><div class=\"lg:p-4 md:w-1/3 flex justify-center\"><div class=\"max-w-sm rounded-2xl overflow-hidden shadow-lg\"><img class=\"w-full\" src=\"https://codewithharry.nyc3.cdn.digitaloceanspaces.com/assets/62f60049963012281edcc77dd2ec031b.png\" alt=\"Next.js Tutorials For Beginners\"/><div class=\"px-6 py-4 lg:h-52\"><span class=\"tracking-widest text-xs title-font font-medium text-gray-400 mb-1\">Free Course</span><div class=\"title-font text-lg font-medium text-gray-900 mb-3\"><a href=\"/videos/nextjs-tutorial-in-hindi-1/\">Next.js Tutorials For Beginners</a></div><p class=\"text-gray-700 text-base\">Complete Next.js Course by CodeWithHarry in Hindi - Learn Next.js from Scratch.</p></div><div class=\"px-6 pt-4 pb-2\"><span class=\"inline-block bg-purple-800 rounded-full px-3 py-2 text-sm font-semibold text-white mr-2 mb-2 hover:bg-purple-600 cursor-pointer\"> Start Watching</span></div></div></div><div class=\"lg:p-4 md:w-1/3 flex justify-center\"><div class=\"max-w-sm rounded-2xl overflow-hidden shadow-lg\"><img class=\"w-full\" src=\"https://codewithharry.nyc3.cdn.digitaloceanspaces.com/assets/090fefe24d23d47584f6ddc7eb5a241e.png\" alt=\"React Js Tutorials For Beginners\"/><div class=\"px-6 py-4 lg:h-52\"><span class=\"tracking-widest text-xs title-font font-medium text-gray-400 mb-1\">Free Course</span><div class=\"title-font text-lg font-medium text-gray-900 mb-3\"><a href=\"/videos/react-tutorials-in-hindi-1/\">React Js Tutorials For Beginners</a></div><p class=\"text-gray-700 text-base\">React is a free and open-source front-end JavaScript library. This series will cover React from starting to the end. We will learn react from the ground up!</p></div><div class=\"px-6 pt-4 pb-2\"><span class=\"inline-block bg-purple-800 rounded-full px-3 py-2 text-sm font-semibold text-white mr-2 mb-2 hover:bg-purple-600 cursor-pointer\"> Start Watching</span></div></div></div></div></div><div class=\"container mx-auto\"><section class=\"text-gray-600 body-font\"><div class=\"container px-5 py-12 mx-auto\"><h2 class=\"text-3xl font-medium title-font text-gray-900 mb-12 text-center\">Testimonials</h2><div class=\"flex flex-wrap -m-4\"><div class=\"p-4 md:w-1/2 w-full\"><div class=\"h-full bg-gray-100 p-8 rounded\"><svg xmlns=\"http://www.w3.org/2000/svg\" fill=\"currentColor\" class=\"block w-5 h-5 text-gray-400 mb-4\" viewBox=\"0 0 975.036 975.036\"><path d=\"M925.036 57.197h-304c-27.6 0-50 22.4-50 50v304c0 27.601 22.4 50 50 50h145.5c-1.9 79.601-20.4 143.3-55.4 191.2-27.6 37.8-69.399 69.1-125.3 93.8-25.7 11.3-36.8 41.7-24.8 67.101l36 76c11.6 24.399 40.3 35.1 65.1 24.399 66.2-28.6 122.101-64.8 167.7-108.8 55.601-53.7 93.7-114.3 114.3-181.9 20.601-67.6 30.9-159.8 30.9-276.8v-239c0-27.599-22.401-50-50-50zM106.036 913.497c65.4-28.5 121-64.699 166.9-108.6 56.1-53.7 94.4-114.1 115-181.2 20.6-67.1 30.899-159.6 30.899-277.5v-239c0-27.6-22.399-50-50-50h-304c-27.6 0-50 22.4-50 50v304c0 27.601 22.4 50 50 50h145.5c-1.9 79.601-20.4 143.3-55.4 191.2-27.6 37.8-69.4 69.1-125.3 93.8-25.7 11.3-36.8 41.7-24.8 67.101l35.9 75.8c11.601 24.399 40.501 35.2 65.301 24.399z\"></path></svg><p class=\"leading-relaxed mb-6\">I don&#x27;t have words to thank this man, I&#x27;m really grateful to have this channel and website in my daily routine. If you&#x27;re a mere beginner, then you can trust this guy and can put your time into his content. I can assure you that it&#x27;ll be worth it.</p><span class=\"inline-flex items-center\"><span class=\"flex-grow flex flex-col pl-4\"><span class=\"title-font font-medium text-gray-900\">Mohit Kumar</span><span class=\"text-gray-500 text-sm\">Web Developer</span></span></span></div></div><div class=\"p-4 md:w-1/2 w-full\"><div class=\"h-full bg-gray-100 p-8 rounded\"><svg xmlns=\"http://www.w3.org/2000/svg\" fill=\"currentColor\" class=\"block w-5 h-5 text-gray-400 mb-4\" viewBox=\"0 0 975.036 975.036\"><path d=\"M925.036 57.197h-304c-27.6 0-50 22.4-50 50v304c0 27.601 22.4 50 50 50h145.5c-1.9 79.601-20.4 143.3-55.4 191.2-27.6 37.8-69.399 69.1-125.3 93.8-25.7 11.3-36.8 41.7-24.8 67.101l36 76c11.6 24.399 40.3 35.1 65.1 24.399 66.2-28.6 122.101-64.8 167.7-108.8 55.601-53.7 93.7-114.3 114.3-181.9 20.601-67.6 30.9-159.8 30.9-276.8v-239c0-27.599-22.401-50-50-50zM106.036 913.497c65.4-28.5 121-64.699 166.9-108.6 56.1-53.7 94.4-114.1 115-181.2 20.6-67.1 30.899-159.6 30.899-277.5v-239c0-27.6-22.399-50-50-50h-304c-27.6 0-50 22.4-50 50v304c0 27.601 22.4 50 50 50h145.5c-1.9 79.601-20.4 143.3-55.4 191.2-27.6 37.8-69.4 69.1-125.3 93.8-25.7 11.3-36.8 41.7-24.8 67.101l35.9 75.8c11.601 24.399 40.501 35.2 65.301 24.399z\"></path></svg><p class=\"leading-relaxed mb-6\">For everyone who wants to level up their #Coding and #Dev skills - seriously, this channel is for you! Both basic and advanced stacks are covered on this channel, and one can learn according to his skill levels. And the icing on the cake is, everything is available for free.</p><span class=\"inline-flex items-center\"><span class=\"flex-grow flex flex-col pl-4\"><span class=\"title-font font-medium text-gray-900\">Rakesh Shetty</span><span class=\"text-gray-500 text-sm\">Web Developer</span></span></span></div></div></div></div></section></div></div><div><footer class=\"text-gray-600 body-font mt-8 px-10 bg-white\"><div class=\"px-2 py-4 mx-auto flex items-center sm:flex-row flex-col\"><span class=\"flex title-font font-medium items-center md:justify-start justify-center text-gray-900\"><img src=\"/img/logo-blue.png\" class=\"rounded h-12\"/><span class=\"ml-3 text-xl\">CodeWithHarry</span></span><p class=\"text-sm text-gray-500 sm:ml-4 sm:pl-4 sm:border-l-2 sm:border-gray-200 sm:py-2 sm:mt-0 mt-4 text-center\">Copyright \\xc2\\xa9 2022 CodeWithHarry.com</p><span class=\"inline-flex sm:ml-auto sm:mt-0 mt-4 justify-center sm:justify-start\"><a href=\"https://www.facebook.com/CodeWithHarry/\" target=\"_blank\" rel=\"noreferrer\" class=\"text-gray-500\"><svg fill=\"currentColor\" stroke-linecap=\"round\" stroke-linejoin=\"round\" stroke-width=\"2\" class=\"w-5 h-5\" viewBox=\"0 0 24 24\"><path d=\"M18 2h-3a5 5 0 00-5 5v3H7v4h3v8h4v-8h3l1-4h-4V7a1 1 0 011-1h3z\"></path></svg></a><a href=\"https://www.instagram.com/CodeWithHarry/\" target=\"_blank\" rel=\"noreferrer\" class=\"ml-3 text-gray-500\"><svg fill=\"none\" stroke=\"currentColor\" stroke-linecap=\"round\" stroke-linejoin=\"round\" stroke-width=\"2\" class=\"w-5 h-5\" viewBox=\"0 0 24 24\"><rect width=\"20\" height=\"20\" x=\"2\" y=\"2\" rx=\"5\" ry=\"5\"></rect><path d=\"M16 11.37A4 4 0 1112.63 8 4 4 0 0116 11.37zm1.5-4.87h.01\"></path></svg></a></span></div></footer></div></div><script id=\"__NEXT_DATA__\" type=\"application/json\">{\"props\":{\"pageProps\":{\"url\":\"https://cwh-apis-strapi-c39h9.ondigitalocean.app\",\"courses\":[{\"previewimg\":[{\"_id\":\"61e70ca3f8fae000115a0eb0\",\"name\":\"tailwind.png\",\"alternativeText\":\"\",\"caption\":\"\",\"hash\":\"e1c843acc10c59c60504cd438a082c6d\",\"ext\":\".png\",\"mime\":\"image/png\",\"size\":629.53,\"width\":1280,\"height\":720,\"url\":\"https://codewithharry.nyc3.cdn.digitaloceanspaces.com/assets/e1c843acc10c59c60504cd438a082c6d.png\",\"formats\":{\"thumbnail\":{\"name\":\"thumbnail_tailwind.png\",\"hash\":\"b7784c44bdbb1e7b8ece1317b0fdc76b\",\"ext\":\".png\",\"mime\":\"image/png\",\"width\":245,\"height\":138,\"size\":64.67,\"path\":null,\"url\":\"https://codewithharry.nyc3.cdn.digitaloceanspaces.com/assets/b7784c44bdbb1e7b8ece1317b0fdc76b.png\"},\"large\":{\"name\":\"large_tailwind.png\",\"hash\":\"74e0ceaabaf311cd95b57023a9b2fe22\",\"ext\":\".png\",\"mime\":\"image/png\",\"width\":1000,\"height\":563,\"size\":694.47,\"path\":null,\"url\":\"https://codewithharry.nyc3.cdn.digitaloceanspaces.com/assets/74e0ceaabaf311cd95b57023a9b2fe22.png\"},\"medium\":{\"name\":\"medium_tailwind.png\",\"hash\":\"92680d2b9cf6eb586b0a84f851d0de74\",\"ext\":\".png\",\"mime\":\"image/png\",\"width\":750,\"height\":422,\"size\":425.65,\"path\":null,\"url\":\"https://codewithharry.nyc3.cdn.digitaloceanspaces.com/assets/92680d2b9cf6eb586b0a84f851d0de74.png\"},\"small\":{\"name\":\"small_tailwind.png\",\"hash\":\"406fa0451668f7448dfbb0e9ab7d4f95\",\"ext\":\".png\",\"mime\":\"image/png\",\"width\":500,\"height\":281,\"size\":212.8,\"path\":null,\"url\":\"https://codewithharry.nyc3.cdn.digitaloceanspaces.com/assets/406fa0451668f7448dfbb0e9ab7d4f95.png\"}},\"provider\":\"do\",\"related\":[\"61d069b36ff03b00118e19cb\"],\"createdAt\":\"2022-01-18T18:53:23.018Z\",\"updatedAt\":\"2022-01-18T19:09:13.557Z\",\"__v\":0,\"id\":\"61e70ca3f8fae000115a0eb0\"}],\"_id\":\"61d069b36ff03b00118e19cb\",\"ytplaylistid\":\"PLu0W_9lII9ahwFDuExCpPFHAK829Wto2O\",\"title\":\"Tailwind Course In Hindi\",\"description\":\"Complete Tailwind CSS Course by CodeWithHarry in Hindi - Learn Tailwind CSS from scratch for free! \",\"firstSlug\":\"tailwind-course-in-hindi-1\",\"published_at\":\"2022-01-01T14:50:36.984Z\",\"createdAt\":\"2022-01-01T14:48:19.035Z\",\"updatedAt\":\"2022-01-18T19:09:13.563Z\",\"__v\":0,\"id\":\"61d069b36ff03b00118e19cb\"},{\"previewimg\":[{\"_id\":\"61f8316049dac1001207e5d1\",\"name\":\"CourseThumb.png\",\"alternativeText\":\"\",\"caption\":\"\",\"hash\":\"62f60049963012281edcc77dd2ec031b\",\"ext\":\".png\",\"mime\":\"image/png\",\"size\":2820.81,\"width\":2933,\"height\":1650,\"url\":\"https://codewithharry.nyc3.cdn.digitaloceanspaces.com/assets/62f60049963012281edcc77dd2ec031b.png\",\"formats\":{\"thumbnail\":{\"name\":\"thumbnail_CourseThumb.png\",\"hash\":\"66f6ae490e06c5e6d59e7e1dcc7910ed\",\"ext\":\".png\",\"mime\":\"image/png\",\"width\":245,\"height\":138,\"size\":74.13,\"path\":null,\"url\":\"https://codewithharry.nyc3.cdn.digitaloceanspaces.com/assets/66f6ae490e06c5e6d59e7e1dcc7910ed.png\"},\"large\":{\"name\":\"large_CourseThumb.png\",\"hash\":\"9165bfd6283ecf476b99403abcb541e0\",\"ext\":\".png\",\"mime\":\"image/png\",\"width\":1000,\"height\":563,\"size\":740.14,\"path\":null,\"url\":\"https://codewithharry.nyc3.cdn.digitaloceanspaces.com/assets/9165bfd6283ecf476b99403abcb541e0.png\"},\"medium\":{\"name\":\"medium_CourseThumb.png\",\"hash\":\"33f7fb46e969d318a97cdd8cf089e041\",\"ext\":\".png\",\"mime\":\"image/png\",\"width\":750,\"height\":422,\"size\":453.67,\"path\":null,\"url\":\"https://codewithharry.nyc3.cdn.digitaloceanspaces.com/assets/33f7fb46e969d318a97cdd8cf089e041.png\"},\"small\":{\"name\":\"small_CourseThumb.png\",\"hash\":\"7ea2ac243e2ed4891e89c05773b720e1\",\"ext\":\".png\",\"mime\":\"image/png\",\"width\":500,\"height\":281,\"size\":234.67,\"path\":null,\"url\":\"https://codewithharry.nyc3.cdn.digitaloceanspaces.com/assets/7ea2ac243e2ed4891e89c05773b720e1.png\"}},\"provider\":\"do\",\"related\":[\"61f82d0d49dac1001207e5cf\"],\"createdAt\":\"2022-01-31T18:58:40.885Z\",\"updatedAt\":\"2022-01-31T19:00:13.920Z\",\"__v\":0,\"id\":\"61f8316049dac1001207e5d1\"}],\"_id\":\"61f82d0d49dac1001207e5cf\",\"title\":\"Next.js Tutorials For Beginners\",\"ytplaylistid\":\"PLu0W_9lII9agtWvR_TZdb_r0dNI8-lDwG\",\"description\":\"Complete Next.js Course by CodeWithHarry in Hindi - Learn Next.js from Scratch.\",\"firstSlug\":\"nextjs-tutorial-in-hindi-1\",\"published_at\":\"2022-01-31T19:00:16.335Z\",\"createdAt\":\"2022-01-31T18:40:13.364Z\",\"updatedAt\":\"2022-01-31T19:00:16.356Z\",\"__v\":0,\"id\":\"61f82d0d49dac1001207e5cf\"},{\"previewimg\":[{\"_id\":\"61e70ca9347e2500114112a9\",\"name\":\"react.png\",\"alternativeText\":\"\",\"caption\":\"\",\"hash\":\"090fefe24d23d47584f6ddc7eb5a241e\",\"ext\":\".png\",\"mime\":\"image/png\",\"size\":931.17,\"width\":1280,\"height\":720,\"url\":\"https://codewithharry.nyc3.cdn.digitaloceanspaces.com/assets/090fefe24d23d47584f6ddc7eb5a241e.png\",\"formats\":{\"thumbnail\":{\"name\":\"thumbnail_react.png\",\"hash\":\"15a81ab0ce496c67d3cd9ad7fb0d909f\",\"ext\":\".png\",\"mime\":\"image/png\",\"width\":245,\"height\":138,\"size\":68.3,\"path\":null,\"url\":\"https://codewithharry.nyc3.cdn.digitaloceanspaces.com/assets/15a81ab0ce496c67d3cd9ad7fb0d909f.png\"},\"large\":{\"name\":\"large_react.png\",\"hash\":\"08506f77c46079f72b27ccd5673b5b9e\",\"ext\":\".png\",\"mime\":\"image/png\",\"width\":1000,\"height\":563,\"size\":807.14,\"path\":null,\"url\":\"https://codewithharry.nyc3.cdn.digitaloceanspaces.com/assets/08506f77c46079f72b27ccd5673b5b9e.png\"},\"medium\":{\"name\":\"medium_react.png\",\"hash\":\"2ab7229461042bc313a149bcda5a75e6\",\"ext\":\".png\",\"mime\":\"image/png\",\"width\":750,\"height\":422,\"size\":478.78,\"path\":null,\"url\":\"https://codewithharry.nyc3.cdn.digitaloceanspaces.com/assets/2ab7229461042bc313a149bcda5a75e6.png\"},\"small\":{\"name\":\"small_react.png\",\"hash\":\"5e0b3db5d79835893b9b2a370c35d35d\",\"ext\":\".png\",\"mime\":\"image/png\",\"width\":500,\"height\":281,\"size\":234.45,\"path\":null,\"url\":\"https://codewithharry.nyc3.cdn.digitaloceanspaces.com/assets/5e0b3db5d79835893b9b2a370c35d35d.png\"}},\"provider\":\"do\",\"related\":[\"61bf15cbb26eda2ecc384ca2\"],\"createdAt\":\"2022-01-18T18:53:29.898Z\",\"updatedAt\":\"2022-01-18T19:08:24.511Z\",\"__v\":0,\"id\":\"61e70ca9347e2500114112a9\"}],\"_id\":\"61bf15cbb26eda2ecc384ca2\",\"title\":\"React Js Tutorials For Beginners\",\"ytplaylistid\":\"PLu0W_9lII9agx66oZnT6IyhcMIbUMNMdt\",\"description\":\"React is a free and open-source front-end JavaScript library. This series will cover React from starting to the end. We will learn react from the ground up!\",\"firstSlug\":\"react-tutorials-in-hindi-1\",\"published_at\":\"2021-12-19T11:21:47.256Z\",\"createdAt\":\"2021-12-19T11:21:47.258Z\",\"updatedAt\":\"2022-01-18T19:08:24.516Z\",\"__v\":0,\"order\":1,\"id\":\"61bf15cbb26eda2ecc384ca2\"}]},\"__N_SSG\":true},\"page\":\"/\",\"query\":{},\"buildId\":\"NMIVj1Cr7P_Tk6BOc0NXN\",\"isFallback\":false,\"gsp\":true,\"scriptLoader\":[]}</script></body></html>'"
      ]
     },
     "execution_count": 53,
     "metadata": {},
     "output_type": "execute_result"
    }
   ],
   "source": [
    "r = requests.get(url)\n",
    "htmlcontent = r.content\n",
    "htmlcontent"
   ]
  },
  {
   "cell_type": "markdown",
   "metadata": {},
   "source": [
    "#### Step 2: parse the HTML"
   ]
  },
  {
   "cell_type": "code",
   "execution_count": 54,
   "metadata": {},
   "outputs": [
    {
     "data": {
      "text/plain": [
       "<bound method Tag.prettify of <!DOCTYPE html>\n",
       "<html lang=\"en\"><head><meta content=\"width=device-width\" name=\"viewport\"/><meta charset=\"utf-8\"/><script async=\"\" crossorigin=\"anonymous\" src=\"https://pagead2.googlesyndication.com/pagead/js/adsbygoogle.js?client=ca-pub-9655830461045889\"></script><script>(function(w,d,s,l,i){w[l]=w[l]||[];w[l].push({'gtm.start':\n",
       "        new Date().getTime(),event:'gtm.js'});var f=d.getElementsByTagName(s)[0],\n",
       "        j=d.createElement(s),dl=l!='dataLayer'?'&l='+l:'';j.async=true;j.src=\n",
       "        'https://www.googletagmanager.com/gtm.js?id='+i+dl;f.parentNode.insertBefore(j,f);\n",
       "        })(window,document,'script','dataLayer','GTM-MCDDKRF');</script><title>Home | CodeWithHarry</title><meta content=\"Welcome to Code With Harry. Code With Harry is my attempt to teach basics and those coding techniques to people in short time which took me ages to learn.\" name=\"description\"/><link href=\"/favicon.ico\" rel=\"icon\"/><meta content=\"7\" name=\"next-head-count\"/><link as=\"style\" href=\"/_next/static/css/95fea26d92efb53e.css\" rel=\"preload\"/><link data-n-g=\"\" href=\"/_next/static/css/95fea26d92efb53e.css\" rel=\"stylesheet\"/><link as=\"style\" href=\"/_next/static/css/39f4d8aba4b66723.css\" rel=\"preload\"/><link data-n-p=\"\" href=\"/_next/static/css/39f4d8aba4b66723.css\" rel=\"stylesheet\"/><noscript data-n-css=\"\"></noscript><script defer=\"\" nomodule=\"\" src=\"/_next/static/chunks/polyfills-5cd94c89d3acac5f.js\"></script><script defer=\"\" src=\"/_next/static/chunks/webpack-cb79fe2bfb796200.js\"></script><script defer=\"\" src=\"/_next/static/chunks/framework-91d7f78b5b4003c8.js\"></script><script defer=\"\" src=\"/_next/static/chunks/main-728af1fb3715c9e8.js\"></script><script defer=\"\" src=\"/_next/static/chunks/pages/_app-7ccd4159d18b03be.js\"></script><script defer=\"\" src=\"/_next/static/chunks/pages/index-afddd706d45453a5.js\"></script><script defer=\"\" src=\"/_next/static/NMIVj1Cr7P_Tk6BOc0NXN/_buildManifest.js\"></script><script defer=\"\" src=\"/_next/static/NMIVj1Cr7P_Tk6BOc0NXN/_ssgManifest.js\"></script><script defer=\"\" src=\"/_next/static/NMIVj1Cr7P_Tk6BOc0NXN/_middlewareManifest.js\"></script></head><body><noscript><iframe height=\"0\" src=\"https://www.googletagmanager.com/ns.html?id=GTM-MCDDKRF\" style=\"display:none;visibility:hidden\" width=\"0\"></iframe></noscript><div id=\"__next\"><div class=\"w-full z-10 sticky bg-white top-0 border-b border-grey-light\"><div class=\"w-full flex flex-wrap items-center lg:justify-between mt-0 py-4 justify-center\"><div class=\"mx-0 px-0 lg:pl-4 flex items-center lg:mx-4\"><span class=\"text-teal-700 no-underline hover:no-underline font-bold text-xl text-purple-800\"><a href=\"/\">CodeWithHarry</a></span></div><div class=\"pr-4 absolute top-1 right-1 pt-3\"><button class=\"lg:hidden flex items-center px-3 py-2 border rounded text-grey border-grey-dark hover:text-black hover:border-purple appearance-none focus:outline-none\"><svg class=\"fill-current h-3 w-3\" viewbox=\"0 0 20 20\" xmlns=\"http://www.w3.org/2000/svg\"><title>Menu</title><path d=\"M0 3h20v2H0V3zm0 6h20v2H0V9zm0 6h20v2H0v-2z\"></path></svg></button></div><div class=\"w-full flex-grow lg:flex lg:flex-1 lg:content-center lg:justify-end lg:w-auto h-0 lg:h-auto overflow-hidden mt-2 lg:mt-0 z-20 transition-all\" id=\"nav-content\"><ul class=\"flex items-center flex-col lg:flex-row\"><div class=\"search-icon cursor-pointer px-6 hidden\" id=\"search-toggle\"><svg class=\"fill-current pointer-events-none text-grey-darkest w-4 h-4 inline\" viewbox=\"0 0 20 20\" xmlns=\"http://www.w3.org/2000/svg\"><path d=\"M12.9 14.32a8 8 0 1 1 1.41-1.41l5.35 5.33-1.42 1.42-5.33-5.34zM8 14A6 6 0 1 0 8 2a6 6 0 0 0 0 12z\"></path></svg></div><li class=\"mx-2 my-2\"><a href=\"/\">Home</a></li><li class=\"mx-2 my-2\"><a href=\"/videos/\">Courses</a></li><li class=\"mx-2 my-2\"><a href=\"/blog/\">Blog</a></li><li class=\"mx-2 my-2\"><a href=\"/contact/\">Contact</a></li></ul><div class=\"text-center my-2 px-4\"><button class=\"text-white bg-purple-700 hover:bg-purple-800 focus:ring-4 focus:ring-purple-300 font-medium rounded-lg text-sm px-3 py-2 text-center inline-flex items-center mx-1\" id=\"login\">Login</button><button class=\"text-white bg-purple-700 hover:bg-purple-800 focus:ring-4 focus:ring-purple-300 font-medium rounded-lg text-sm px-3 py-2 text-center inline-flex items-center mx-1\" id=\"signup\">Signup</button></div></div></div></div><div class=\"relative w-full hidden bg-white shadow-xl\" id=\"search-content\"><div class=\"container mx-auto py-4 text-black\"><input autofocus=\"\" class=\"w-full text-grey-800 transition focus:outline-none focus:border-transparent p-2 appearance-none leading-normal text-xl lg:text-2xl\" id=\"searchfield\" placeholder=\"Search...\" type=\"search\"/></div></div><div class=\"mx-auto my-1\"></div><div class=\"\" style=\"position:fixed;top:0;left:0;height:2px;background:transparent;z-index:99999999999;width:100%\"><div class=\"\" style=\"height:100%;background:purple;transition:all 500ms ease;width:0%\"><div style=\"box-shadow:0 0 10px purple, 0 0 10px purple;width:5%;opacity:1;position:absolute;height:100%;transition:all 500ms ease;transform:rotate(3deg) translate(0px, -4px);left:-10rem\"></div></div></div><div class=\"Home_container__bCOhY\"><div class=\"flex bg-white h-96 container mx-auto\"><div class=\"flex items-center text-center lg:text-left px-8 md:px-12 lg:w-1/2\"><div><h2 class=\"text-3xl font-semibold text-gray-800 md:text-4xl\">Welcome to <span class=\"text-indigo-600\">CodeWithHarry</span></h2><p class=\"mt-2 text-sm text-gray-500 md:text-base\">Confused on which course to take? I have got you covered. Browse courses and find out the best course for you. Its free! Code With Harry is my attempt to teach basics and those coding techniques to people in short time which took me ages to learn.</p><div class=\"flex justify-center lg:justify-start mt-6\"><button class=\"px-3 py-2 lg:px-4 lg:py-3 bg-gray-900 text-gray-200 text-xs font-semibold rounded hover:bg-gray-800\">Free Courses</button><button class=\"px-3 py-2 mx-4 lg:px-4 lg:py-3 bg-gray-300 text-gray-900 text-xs font-semibold rounded hover:bg-gray-400\">Explore Blog</button></div></div></div><div class=\"hidden lg:block lg:w-1/2\" style=\"clip-path:polygon(10% 0, 100% 0%, 100% 100%, 0 100%)\"><div class=\"h-full object-cover\" style=\"background-image:url(https://images.unsplash.com/photo-1498050108023-c5249f4df085?ixlib=rb-1.2.1&amp;ixid=eyJhcHBfaWQiOjEyMDd9&amp;auto=format&amp;fit=crop&amp;w=1352&amp;q=80)\"><div class=\"h-full bg-black opacity-25\"></div></div></div></div><div class=\"container mx-auto lg:my-2\"><h2 class=\"text-3xl font-medium title-font text-gray-900 my-10 text-center\">Recommended Courses</h2><div class=\"flex flex-wrap\"><div class=\"lg:p-4 md:w-1/3 flex justify-center\"><div class=\"max-w-sm rounded-2xl overflow-hidden shadow-lg\"><img alt=\"Tailwind Course In Hindi\" class=\"w-full\" src=\"https://codewithharry.nyc3.cdn.digitaloceanspaces.com/assets/e1c843acc10c59c60504cd438a082c6d.png\"/><div class=\"px-6 py-4 lg:h-52\"><span class=\"tracking-widest text-xs title-font font-medium text-gray-400 mb-1\">Free Course</span><div class=\"title-font text-lg font-medium text-gray-900 mb-3\"><a href=\"/videos/tailwind-course-in-hindi-1/\">Tailwind Course In Hindi</a></div><p class=\"text-gray-700 text-base\">Complete Tailwind CSS Course by CodeWithHarry in Hindi - Learn Tailwind CSS from scratch for free! </p></div><div class=\"px-6 pt-4 pb-2\"><span class=\"inline-block bg-purple-800 rounded-full px-3 py-2 text-sm font-semibold text-white mr-2 mb-2 hover:bg-purple-600 cursor-pointer\"> Start Watching</span></div></div></div><div class=\"lg:p-4 md:w-1/3 flex justify-center\"><div class=\"max-w-sm rounded-2xl overflow-hidden shadow-lg\"><img alt=\"Next.js Tutorials For Beginners\" class=\"w-full\" src=\"https://codewithharry.nyc3.cdn.digitaloceanspaces.com/assets/62f60049963012281edcc77dd2ec031b.png\"/><div class=\"px-6 py-4 lg:h-52\"><span class=\"tracking-widest text-xs title-font font-medium text-gray-400 mb-1\">Free Course</span><div class=\"title-font text-lg font-medium text-gray-900 mb-3\"><a href=\"/videos/nextjs-tutorial-in-hindi-1/\">Next.js Tutorials For Beginners</a></div><p class=\"text-gray-700 text-base\">Complete Next.js Course by CodeWithHarry in Hindi - Learn Next.js from Scratch.</p></div><div class=\"px-6 pt-4 pb-2\"><span class=\"inline-block bg-purple-800 rounded-full px-3 py-2 text-sm font-semibold text-white mr-2 mb-2 hover:bg-purple-600 cursor-pointer\"> Start Watching</span></div></div></div><div class=\"lg:p-4 md:w-1/3 flex justify-center\"><div class=\"max-w-sm rounded-2xl overflow-hidden shadow-lg\"><img alt=\"React Js Tutorials For Beginners\" class=\"w-full\" src=\"https://codewithharry.nyc3.cdn.digitaloceanspaces.com/assets/090fefe24d23d47584f6ddc7eb5a241e.png\"/><div class=\"px-6 py-4 lg:h-52\"><span class=\"tracking-widest text-xs title-font font-medium text-gray-400 mb-1\">Free Course</span><div class=\"title-font text-lg font-medium text-gray-900 mb-3\"><a href=\"/videos/react-tutorials-in-hindi-1/\">React Js Tutorials For Beginners</a></div><p class=\"text-gray-700 text-base\">React is a free and open-source front-end JavaScript library. This series will cover React from starting to the end. We will learn react from the ground up!</p></div><div class=\"px-6 pt-4 pb-2\"><span class=\"inline-block bg-purple-800 rounded-full px-3 py-2 text-sm font-semibold text-white mr-2 mb-2 hover:bg-purple-600 cursor-pointer\"> Start Watching</span></div></div></div></div></div><div class=\"container mx-auto\"><section class=\"text-gray-600 body-font\"><div class=\"container px-5 py-12 mx-auto\"><h2 class=\"text-3xl font-medium title-font text-gray-900 mb-12 text-center\">Testimonials</h2><div class=\"flex flex-wrap -m-4\"><div class=\"p-4 md:w-1/2 w-full\"><div class=\"h-full bg-gray-100 p-8 rounded\"><svg class=\"block w-5 h-5 text-gray-400 mb-4\" fill=\"currentColor\" viewbox=\"0 0 975.036 975.036\" xmlns=\"http://www.w3.org/2000/svg\"><path d=\"M925.036 57.197h-304c-27.6 0-50 22.4-50 50v304c0 27.601 22.4 50 50 50h145.5c-1.9 79.601-20.4 143.3-55.4 191.2-27.6 37.8-69.399 69.1-125.3 93.8-25.7 11.3-36.8 41.7-24.8 67.101l36 76c11.6 24.399 40.3 35.1 65.1 24.399 66.2-28.6 122.101-64.8 167.7-108.8 55.601-53.7 93.7-114.3 114.3-181.9 20.601-67.6 30.9-159.8 30.9-276.8v-239c0-27.599-22.401-50-50-50zM106.036 913.497c65.4-28.5 121-64.699 166.9-108.6 56.1-53.7 94.4-114.1 115-181.2 20.6-67.1 30.899-159.6 30.899-277.5v-239c0-27.6-22.399-50-50-50h-304c-27.6 0-50 22.4-50 50v304c0 27.601 22.4 50 50 50h145.5c-1.9 79.601-20.4 143.3-55.4 191.2-27.6 37.8-69.4 69.1-125.3 93.8-25.7 11.3-36.8 41.7-24.8 67.101l35.9 75.8c11.601 24.399 40.501 35.2 65.301 24.399z\"></path></svg><p class=\"leading-relaxed mb-6\">I don't have words to thank this man, I'm really grateful to have this channel and website in my daily routine. If you're a mere beginner, then you can trust this guy and can put your time into his content. I can assure you that it'll be worth it.</p><span class=\"inline-flex items-center\"><span class=\"flex-grow flex flex-col pl-4\"><span class=\"title-font font-medium text-gray-900\">Mohit Kumar</span><span class=\"text-gray-500 text-sm\">Web Developer</span></span></span></div></div><div class=\"p-4 md:w-1/2 w-full\"><div class=\"h-full bg-gray-100 p-8 rounded\"><svg class=\"block w-5 h-5 text-gray-400 mb-4\" fill=\"currentColor\" viewbox=\"0 0 975.036 975.036\" xmlns=\"http://www.w3.org/2000/svg\"><path d=\"M925.036 57.197h-304c-27.6 0-50 22.4-50 50v304c0 27.601 22.4 50 50 50h145.5c-1.9 79.601-20.4 143.3-55.4 191.2-27.6 37.8-69.399 69.1-125.3 93.8-25.7 11.3-36.8 41.7-24.8 67.101l36 76c11.6 24.399 40.3 35.1 65.1 24.399 66.2-28.6 122.101-64.8 167.7-108.8 55.601-53.7 93.7-114.3 114.3-181.9 20.601-67.6 30.9-159.8 30.9-276.8v-239c0-27.599-22.401-50-50-50zM106.036 913.497c65.4-28.5 121-64.699 166.9-108.6 56.1-53.7 94.4-114.1 115-181.2 20.6-67.1 30.899-159.6 30.899-277.5v-239c0-27.6-22.399-50-50-50h-304c-27.6 0-50 22.4-50 50v304c0 27.601 22.4 50 50 50h145.5c-1.9 79.601-20.4 143.3-55.4 191.2-27.6 37.8-69.4 69.1-125.3 93.8-25.7 11.3-36.8 41.7-24.8 67.101l35.9 75.8c11.601 24.399 40.501 35.2 65.301 24.399z\"></path></svg><p class=\"leading-relaxed mb-6\">For everyone who wants to level up their #Coding and #Dev skills - seriously, this channel is for you! Both basic and advanced stacks are covered on this channel, and one can learn according to his skill levels. And the icing on the cake is, everything is available for free.</p><span class=\"inline-flex items-center\"><span class=\"flex-grow flex flex-col pl-4\"><span class=\"title-font font-medium text-gray-900\">Rakesh Shetty</span><span class=\"text-gray-500 text-sm\">Web Developer</span></span></span></div></div></div></div></section></div></div><div><footer class=\"text-gray-600 body-font mt-8 px-10 bg-white\"><div class=\"px-2 py-4 mx-auto flex items-center sm:flex-row flex-col\"><span class=\"flex title-font font-medium items-center md:justify-start justify-center text-gray-900\"><img class=\"rounded h-12\" src=\"/img/logo-blue.png\"/><span class=\"ml-3 text-xl\">CodeWithHarry</span></span><p class=\"text-sm text-gray-500 sm:ml-4 sm:pl-4 sm:border-l-2 sm:border-gray-200 sm:py-2 sm:mt-0 mt-4 text-center\">Copyright © 2022 CodeWithHarry.com</p><span class=\"inline-flex sm:ml-auto sm:mt-0 mt-4 justify-center sm:justify-start\"><a class=\"text-gray-500\" href=\"https://www.facebook.com/CodeWithHarry/\" rel=\"noreferrer\" target=\"_blank\"><svg class=\"w-5 h-5\" fill=\"currentColor\" stroke-linecap=\"round\" stroke-linejoin=\"round\" stroke-width=\"2\" viewbox=\"0 0 24 24\"><path d=\"M18 2h-3a5 5 0 00-5 5v3H7v4h3v8h4v-8h3l1-4h-4V7a1 1 0 011-1h3z\"></path></svg></a><a class=\"ml-3 text-gray-500\" href=\"https://www.instagram.com/CodeWithHarry/\" rel=\"noreferrer\" target=\"_blank\"><svg class=\"w-5 h-5\" fill=\"none\" stroke=\"currentColor\" stroke-linecap=\"round\" stroke-linejoin=\"round\" stroke-width=\"2\" viewbox=\"0 0 24 24\"><rect height=\"20\" rx=\"5\" ry=\"5\" width=\"20\" x=\"2\" y=\"2\"></rect><path d=\"M16 11.37A4 4 0 1112.63 8 4 4 0 0116 11.37zm1.5-4.87h.01\"></path></svg></a></span></div></footer></div></div><script id=\"__NEXT_DATA__\" type=\"application/json\">{\"props\":{\"pageProps\":{\"url\":\"https://cwh-apis-strapi-c39h9.ondigitalocean.app\",\"courses\":[{\"previewimg\":[{\"_id\":\"61e70ca3f8fae000115a0eb0\",\"name\":\"tailwind.png\",\"alternativeText\":\"\",\"caption\":\"\",\"hash\":\"e1c843acc10c59c60504cd438a082c6d\",\"ext\":\".png\",\"mime\":\"image/png\",\"size\":629.53,\"width\":1280,\"height\":720,\"url\":\"https://codewithharry.nyc3.cdn.digitaloceanspaces.com/assets/e1c843acc10c59c60504cd438a082c6d.png\",\"formats\":{\"thumbnail\":{\"name\":\"thumbnail_tailwind.png\",\"hash\":\"b7784c44bdbb1e7b8ece1317b0fdc76b\",\"ext\":\".png\",\"mime\":\"image/png\",\"width\":245,\"height\":138,\"size\":64.67,\"path\":null,\"url\":\"https://codewithharry.nyc3.cdn.digitaloceanspaces.com/assets/b7784c44bdbb1e7b8ece1317b0fdc76b.png\"},\"large\":{\"name\":\"large_tailwind.png\",\"hash\":\"74e0ceaabaf311cd95b57023a9b2fe22\",\"ext\":\".png\",\"mime\":\"image/png\",\"width\":1000,\"height\":563,\"size\":694.47,\"path\":null,\"url\":\"https://codewithharry.nyc3.cdn.digitaloceanspaces.com/assets/74e0ceaabaf311cd95b57023a9b2fe22.png\"},\"medium\":{\"name\":\"medium_tailwind.png\",\"hash\":\"92680d2b9cf6eb586b0a84f851d0de74\",\"ext\":\".png\",\"mime\":\"image/png\",\"width\":750,\"height\":422,\"size\":425.65,\"path\":null,\"url\":\"https://codewithharry.nyc3.cdn.digitaloceanspaces.com/assets/92680d2b9cf6eb586b0a84f851d0de74.png\"},\"small\":{\"name\":\"small_tailwind.png\",\"hash\":\"406fa0451668f7448dfbb0e9ab7d4f95\",\"ext\":\".png\",\"mime\":\"image/png\",\"width\":500,\"height\":281,\"size\":212.8,\"path\":null,\"url\":\"https://codewithharry.nyc3.cdn.digitaloceanspaces.com/assets/406fa0451668f7448dfbb0e9ab7d4f95.png\"}},\"provider\":\"do\",\"related\":[\"61d069b36ff03b00118e19cb\"],\"createdAt\":\"2022-01-18T18:53:23.018Z\",\"updatedAt\":\"2022-01-18T19:09:13.557Z\",\"__v\":0,\"id\":\"61e70ca3f8fae000115a0eb0\"}],\"_id\":\"61d069b36ff03b00118e19cb\",\"ytplaylistid\":\"PLu0W_9lII9ahwFDuExCpPFHAK829Wto2O\",\"title\":\"Tailwind Course In Hindi\",\"description\":\"Complete Tailwind CSS Course by CodeWithHarry in Hindi - Learn Tailwind CSS from scratch for free! \",\"firstSlug\":\"tailwind-course-in-hindi-1\",\"published_at\":\"2022-01-01T14:50:36.984Z\",\"createdAt\":\"2022-01-01T14:48:19.035Z\",\"updatedAt\":\"2022-01-18T19:09:13.563Z\",\"__v\":0,\"id\":\"61d069b36ff03b00118e19cb\"},{\"previewimg\":[{\"_id\":\"61f8316049dac1001207e5d1\",\"name\":\"CourseThumb.png\",\"alternativeText\":\"\",\"caption\":\"\",\"hash\":\"62f60049963012281edcc77dd2ec031b\",\"ext\":\".png\",\"mime\":\"image/png\",\"size\":2820.81,\"width\":2933,\"height\":1650,\"url\":\"https://codewithharry.nyc3.cdn.digitaloceanspaces.com/assets/62f60049963012281edcc77dd2ec031b.png\",\"formats\":{\"thumbnail\":{\"name\":\"thumbnail_CourseThumb.png\",\"hash\":\"66f6ae490e06c5e6d59e7e1dcc7910ed\",\"ext\":\".png\",\"mime\":\"image/png\",\"width\":245,\"height\":138,\"size\":74.13,\"path\":null,\"url\":\"https://codewithharry.nyc3.cdn.digitaloceanspaces.com/assets/66f6ae490e06c5e6d59e7e1dcc7910ed.png\"},\"large\":{\"name\":\"large_CourseThumb.png\",\"hash\":\"9165bfd6283ecf476b99403abcb541e0\",\"ext\":\".png\",\"mime\":\"image/png\",\"width\":1000,\"height\":563,\"size\":740.14,\"path\":null,\"url\":\"https://codewithharry.nyc3.cdn.digitaloceanspaces.com/assets/9165bfd6283ecf476b99403abcb541e0.png\"},\"medium\":{\"name\":\"medium_CourseThumb.png\",\"hash\":\"33f7fb46e969d318a97cdd8cf089e041\",\"ext\":\".png\",\"mime\":\"image/png\",\"width\":750,\"height\":422,\"size\":453.67,\"path\":null,\"url\":\"https://codewithharry.nyc3.cdn.digitaloceanspaces.com/assets/33f7fb46e969d318a97cdd8cf089e041.png\"},\"small\":{\"name\":\"small_CourseThumb.png\",\"hash\":\"7ea2ac243e2ed4891e89c05773b720e1\",\"ext\":\".png\",\"mime\":\"image/png\",\"width\":500,\"height\":281,\"size\":234.67,\"path\":null,\"url\":\"https://codewithharry.nyc3.cdn.digitaloceanspaces.com/assets/7ea2ac243e2ed4891e89c05773b720e1.png\"}},\"provider\":\"do\",\"related\":[\"61f82d0d49dac1001207e5cf\"],\"createdAt\":\"2022-01-31T18:58:40.885Z\",\"updatedAt\":\"2022-01-31T19:00:13.920Z\",\"__v\":0,\"id\":\"61f8316049dac1001207e5d1\"}],\"_id\":\"61f82d0d49dac1001207e5cf\",\"title\":\"Next.js Tutorials For Beginners\",\"ytplaylistid\":\"PLu0W_9lII9agtWvR_TZdb_r0dNI8-lDwG\",\"description\":\"Complete Next.js Course by CodeWithHarry in Hindi - Learn Next.js from Scratch.\",\"firstSlug\":\"nextjs-tutorial-in-hindi-1\",\"published_at\":\"2022-01-31T19:00:16.335Z\",\"createdAt\":\"2022-01-31T18:40:13.364Z\",\"updatedAt\":\"2022-01-31T19:00:16.356Z\",\"__v\":0,\"id\":\"61f82d0d49dac1001207e5cf\"},{\"previewimg\":[{\"_id\":\"61e70ca9347e2500114112a9\",\"name\":\"react.png\",\"alternativeText\":\"\",\"caption\":\"\",\"hash\":\"090fefe24d23d47584f6ddc7eb5a241e\",\"ext\":\".png\",\"mime\":\"image/png\",\"size\":931.17,\"width\":1280,\"height\":720,\"url\":\"https://codewithharry.nyc3.cdn.digitaloceanspaces.com/assets/090fefe24d23d47584f6ddc7eb5a241e.png\",\"formats\":{\"thumbnail\":{\"name\":\"thumbnail_react.png\",\"hash\":\"15a81ab0ce496c67d3cd9ad7fb0d909f\",\"ext\":\".png\",\"mime\":\"image/png\",\"width\":245,\"height\":138,\"size\":68.3,\"path\":null,\"url\":\"https://codewithharry.nyc3.cdn.digitaloceanspaces.com/assets/15a81ab0ce496c67d3cd9ad7fb0d909f.png\"},\"large\":{\"name\":\"large_react.png\",\"hash\":\"08506f77c46079f72b27ccd5673b5b9e\",\"ext\":\".png\",\"mime\":\"image/png\",\"width\":1000,\"height\":563,\"size\":807.14,\"path\":null,\"url\":\"https://codewithharry.nyc3.cdn.digitaloceanspaces.com/assets/08506f77c46079f72b27ccd5673b5b9e.png\"},\"medium\":{\"name\":\"medium_react.png\",\"hash\":\"2ab7229461042bc313a149bcda5a75e6\",\"ext\":\".png\",\"mime\":\"image/png\",\"width\":750,\"height\":422,\"size\":478.78,\"path\":null,\"url\":\"https://codewithharry.nyc3.cdn.digitaloceanspaces.com/assets/2ab7229461042bc313a149bcda5a75e6.png\"},\"small\":{\"name\":\"small_react.png\",\"hash\":\"5e0b3db5d79835893b9b2a370c35d35d\",\"ext\":\".png\",\"mime\":\"image/png\",\"width\":500,\"height\":281,\"size\":234.45,\"path\":null,\"url\":\"https://codewithharry.nyc3.cdn.digitaloceanspaces.com/assets/5e0b3db5d79835893b9b2a370c35d35d.png\"}},\"provider\":\"do\",\"related\":[\"61bf15cbb26eda2ecc384ca2\"],\"createdAt\":\"2022-01-18T18:53:29.898Z\",\"updatedAt\":\"2022-01-18T19:08:24.511Z\",\"__v\":0,\"id\":\"61e70ca9347e2500114112a9\"}],\"_id\":\"61bf15cbb26eda2ecc384ca2\",\"title\":\"React Js Tutorials For Beginners\",\"ytplaylistid\":\"PLu0W_9lII9agx66oZnT6IyhcMIbUMNMdt\",\"description\":\"React is a free and open-source front-end JavaScript library. This series will cover React from starting to the end. We will learn react from the ground up!\",\"firstSlug\":\"react-tutorials-in-hindi-1\",\"published_at\":\"2021-12-19T11:21:47.256Z\",\"createdAt\":\"2021-12-19T11:21:47.258Z\",\"updatedAt\":\"2022-01-18T19:08:24.516Z\",\"__v\":0,\"order\":1,\"id\":\"61bf15cbb26eda2ecc384ca2\"}]},\"__N_SSG\":true},\"page\":\"/\",\"query\":{},\"buildId\":\"NMIVj1Cr7P_Tk6BOc0NXN\",\"isFallback\":false,\"gsp\":true,\"scriptLoader\":[]}</script></body></html>>"
      ]
     },
     "execution_count": 54,
     "metadata": {},
     "output_type": "execute_result"
    }
   ],
   "source": [
    "soup = BeautifulSoup(htmlcontent, 'html.parser')\n",
    "soup.prettify"
   ]
  },
  {
   "cell_type": "markdown",
   "metadata": {},
   "source": [
    "#### Step 3: HTML tree traversal"
   ]
  },
  {
   "cell_type": "code",
   "execution_count": 55,
   "metadata": {},
   "outputs": [],
   "source": [
    "# <body>\n",
    "\n",
    "#   <div id=\"content\">\n",
    "#     <h1>Heading here</h1>\n",
    "#     <p>Lorem ipsum dolor sit amet.</p>\n",
    "#     <p>Lorem ipsum dolor <em>sit</em> amet.</p>\n",
    "#     <hr>\n",
    "#   </div>\n",
    "  \n",
    "#   <div id=\"nav\">\n",
    "#     <ul>\n",
    "#       <li>item 1</li>\n",
    "#       <li>item 2</li>\n",
    "#       <li>item 3</li>\n",
    "#     </ul>\n",
    "#   </div>\n",
    "\n",
    "# </body>"
   ]
  },
  {
   "cell_type": "markdown",
   "metadata": {},
   "source": [
    "<img src=\"tree.gif\">"
   ]
  },
  {
   "cell_type": "markdown",
   "metadata": {},
   "source": [
    "##### Ancestor\n",
    "An ancestor refers to any element that is connected but further up the document tree - no matter how many levels higher.\n",
    "\n",
    "In the diagram below, the body element is the ancestor of all other elements on the page.\n",
    "\n",
    "<img src=\"tree_ancestor.gif\">\n"
   ]
  },
  {
   "cell_type": "markdown",
   "metadata": {},
   "source": [
    "##### Descendant\n",
    "A descendant refers to any element that is connected but lower down the document tree - no matter how many levels lower.\n",
    "In the diagram below, all elements that are connected below the div element are descendants of that div.\n",
    "\n",
    "<img src=\"tree_descendant.gif\">"
   ]
  },
  {
   "cell_type": "markdown",
   "metadata": {},
   "source": [
    "##### Parent and Child\n",
    "A parent is an element that is directly above and connected to an element in the document tree. In the diagram below, the div is a parent to the ul.\n",
    "\n",
    "A child is an element that is directly below and connected to an element in the document tree. In the diagram above, the ul is a child to the div.\n",
    "\n",
    "<img src=\"tree_parent.gif\">\n"
   ]
  },
  {
   "cell_type": "markdown",
   "metadata": {},
   "source": [
    "##### Sibling\n",
    "A sibling is an element that shares the same parent with another element.\n",
    "\n",
    "In the diagram below, the li's are siblings as they all share the same parent - the ul.\n",
    "\n",
    "<img src=\"tree_siblings.gif\">"
   ]
  },
  {
   "cell_type": "code",
   "execution_count": 56,
   "metadata": {},
   "outputs": [
    {
     "data": {
      "text/plain": [
       "<title>Home | CodeWithHarry</title>"
      ]
     },
     "execution_count": 56,
     "metadata": {},
     "output_type": "execute_result"
    }
   ],
   "source": [
    "title=soup.title\n",
    "title"
   ]
  },
  {
   "cell_type": "code",
   "execution_count": 57,
   "metadata": {},
   "outputs": [
    {
     "data": {
      "text/plain": [
       "bs4.element.Tag"
      ]
     },
     "execution_count": 57,
     "metadata": {},
     "output_type": "execute_result"
    }
   ],
   "source": [
    "type(title)"
   ]
  },
  {
   "cell_type": "code",
   "execution_count": 58,
   "metadata": {},
   "outputs": [
    {
     "data": {
      "text/plain": [
       "'Home | CodeWithHarry'"
      ]
     },
     "execution_count": 58,
     "metadata": {},
     "output_type": "execute_result"
    }
   ],
   "source": [
    "title.string"
   ]
  },
  {
   "cell_type": "code",
   "execution_count": 59,
   "metadata": {},
   "outputs": [
    {
     "data": {
      "text/plain": [
       "bs4.element.NavigableString"
      ]
     },
     "execution_count": 59,
     "metadata": {},
     "output_type": "execute_result"
    }
   ],
   "source": [
    "type(title.string)"
   ]
  },
  {
   "cell_type": "markdown",
   "metadata": {},
   "source": [
    "##### Commonly used types of objects\n",
    "\n",
    "<ol>\n",
    "<li>Tag</li>\n",
    "<li>NavigableString</li>\n",
    "<li>BeautifulSoup</li>\n",
    "<li>Comment</li>\n",
    "</ol>"
   ]
  },
  {
   "cell_type": "code",
   "execution_count": 60,
   "metadata": {},
   "outputs": [
    {
     "name": "stdout",
     "output_type": "stream",
     "text": [
      "<class 'bs4.BeautifulSoup'>\n",
      "<class 'bs4.element.Tag'>\n",
      "<class 'bs4.element.NavigableString'>\n",
      "<class 'bs4.element.Comment'>\n"
     ]
    }
   ],
   "source": [
    "print(type(soup))\n",
    "print(type(title))\n",
    "print(type(title.string))\n",
    "markup = '<p><!----This is a comment --></p>'\n",
    "soup2= BeautifulSoup(markup)\n",
    "print(type(soup2.p.string))"
   ]
  },
  {
   "cell_type": "markdown",
   "metadata": {},
   "source": [
    "##### get all the paragraphs from page"
   ]
  },
  {
   "cell_type": "code",
   "execution_count": 61,
   "metadata": {},
   "outputs": [
    {
     "data": {
      "text/plain": [
       "[<p class=\"mt-2 text-sm text-gray-500 md:text-base\">Confused on which course to take? I have got you covered. Browse courses and find out the best course for you. Its free! Code With Harry is my attempt to teach basics and those coding techniques to people in short time which took me ages to learn.</p>,\n",
       " <p class=\"text-gray-700 text-base\">Complete Tailwind CSS Course by CodeWithHarry in Hindi - Learn Tailwind CSS from scratch for free! </p>,\n",
       " <p class=\"text-gray-700 text-base\">Complete Next.js Course by CodeWithHarry in Hindi - Learn Next.js from Scratch.</p>,\n",
       " <p class=\"text-gray-700 text-base\">React is a free and open-source front-end JavaScript library. This series will cover React from starting to the end. We will learn react from the ground up!</p>,\n",
       " <p class=\"leading-relaxed mb-6\">I don't have words to thank this man, I'm really grateful to have this channel and website in my daily routine. If you're a mere beginner, then you can trust this guy and can put your time into his content. I can assure you that it'll be worth it.</p>,\n",
       " <p class=\"leading-relaxed mb-6\">For everyone who wants to level up their #Coding and #Dev skills - seriously, this channel is for you! Both basic and advanced stacks are covered on this channel, and one can learn according to his skill levels. And the icing on the cake is, everything is available for free.</p>,\n",
       " <p class=\"text-sm text-gray-500 sm:ml-4 sm:pl-4 sm:border-l-2 sm:border-gray-200 sm:py-2 sm:mt-0 mt-4 text-center\">Copyright © 2022 CodeWithHarry.com</p>]"
      ]
     },
     "execution_count": 61,
     "metadata": {},
     "output_type": "execute_result"
    }
   ],
   "source": [
    "paras = soup.find_all('p')\n",
    "paras"
   ]
  },
  {
   "cell_type": "markdown",
   "metadata": {},
   "source": [
    "##### get all the anchor tags from page"
   ]
  },
  {
   "cell_type": "code",
   "execution_count": 62,
   "metadata": {},
   "outputs": [
    {
     "data": {
      "text/plain": [
       "[<a href=\"/\">CodeWithHarry</a>,\n",
       " <a href=\"/\">Home</a>,\n",
       " <a href=\"/videos/\">Courses</a>,\n",
       " <a href=\"/blog/\">Blog</a>,\n",
       " <a href=\"/contact/\">Contact</a>,\n",
       " <a href=\"/videos/tailwind-course-in-hindi-1/\">Tailwind Course In Hindi</a>,\n",
       " <a href=\"/videos/nextjs-tutorial-in-hindi-1/\">Next.js Tutorials For Beginners</a>,\n",
       " <a href=\"/videos/react-tutorials-in-hindi-1/\">React Js Tutorials For Beginners</a>,\n",
       " <a class=\"text-gray-500\" href=\"https://www.facebook.com/CodeWithHarry/\" rel=\"noreferrer\" target=\"_blank\"><svg class=\"w-5 h-5\" fill=\"currentColor\" stroke-linecap=\"round\" stroke-linejoin=\"round\" stroke-width=\"2\" viewbox=\"0 0 24 24\"><path d=\"M18 2h-3a5 5 0 00-5 5v3H7v4h3v8h4v-8h3l1-4h-4V7a1 1 0 011-1h3z\"></path></svg></a>,\n",
       " <a class=\"ml-3 text-gray-500\" href=\"https://www.instagram.com/CodeWithHarry/\" rel=\"noreferrer\" target=\"_blank\"><svg class=\"w-5 h-5\" fill=\"none\" stroke=\"currentColor\" stroke-linecap=\"round\" stroke-linejoin=\"round\" stroke-width=\"2\" viewbox=\"0 0 24 24\"><rect height=\"20\" rx=\"5\" ry=\"5\" width=\"20\" x=\"2\" y=\"2\"></rect><path d=\"M16 11.37A4 4 0 1112.63 8 4 4 0 0116 11.37zm1.5-4.87h.01\"></path></svg></a>]"
      ]
     },
     "execution_count": 62,
     "metadata": {},
     "output_type": "execute_result"
    }
   ],
   "source": [
    "anchors = soup.find_all('a')\n",
    "anchors"
   ]
  },
  {
   "cell_type": "markdown",
   "metadata": {},
   "source": [
    "##### get first element from page"
   ]
  },
  {
   "cell_type": "code",
   "execution_count": 63,
   "metadata": {},
   "outputs": [
    {
     "data": {
      "text/plain": [
       "<p class=\"mt-2 text-sm text-gray-500 md:text-base\">Confused on which course to take? I have got you covered. Browse courses and find out the best course for you. Its free! Code With Harry is my attempt to teach basics and those coding techniques to people in short time which took me ages to learn.</p>"
      ]
     },
     "execution_count": 63,
     "metadata": {},
     "output_type": "execute_result"
    }
   ],
   "source": [
    "soup.find('p')"
   ]
  },
  {
   "cell_type": "markdown",
   "metadata": {},
   "source": [
    "##### get class name of first element"
   ]
  },
  {
   "cell_type": "code",
   "execution_count": 64,
   "metadata": {},
   "outputs": [
    {
     "data": {
      "text/plain": [
       "['mt-2', 'text-sm', 'text-gray-500', 'md:text-base']"
      ]
     },
     "execution_count": 64,
     "metadata": {},
     "output_type": "execute_result"
    }
   ],
   "source": [
    "soup.find('p')['class']"
   ]
  },
  {
   "cell_type": "markdown",
   "metadata": {},
   "source": [
    "##### find all the elements with class text-base"
   ]
  },
  {
   "cell_type": "code",
   "execution_count": 65,
   "metadata": {},
   "outputs": [
    {
     "data": {
      "text/plain": [
       "[<p class=\"text-gray-700 text-base\">Complete Tailwind CSS Course by CodeWithHarry in Hindi - Learn Tailwind CSS from scratch for free! </p>,\n",
       " <p class=\"text-gray-700 text-base\">Complete Next.js Course by CodeWithHarry in Hindi - Learn Next.js from Scratch.</p>,\n",
       " <p class=\"text-gray-700 text-base\">React is a free and open-source front-end JavaScript library. This series will cover React from starting to the end. We will learn react from the ground up!</p>]"
      ]
     },
     "execution_count": 65,
     "metadata": {},
     "output_type": "execute_result"
    }
   ],
   "source": [
    "soup.find_all(\"p\",class_='text-base')"
   ]
  },
  {
   "cell_type": "markdown",
   "metadata": {},
   "source": [
    "##### get the text from tags"
   ]
  },
  {
   "cell_type": "code",
   "execution_count": 66,
   "metadata": {},
   "outputs": [
    {
     "data": {
      "text/plain": [
       "'Confused on which course to take? I have got you covered. Browse courses and find out the best course for you. Its free! Code With Harry is my attempt to teach basics and those coding techniques to people in short time which took me ages to learn.'"
      ]
     },
     "execution_count": 66,
     "metadata": {},
     "output_type": "execute_result"
    }
   ],
   "source": [
    "soup.find('p').get_text()"
   ]
  },
  {
   "cell_type": "markdown",
   "metadata": {},
   "source": [
    "##### get the text from entire pag"
   ]
  },
  {
   "cell_type": "code",
   "execution_count": 67,
   "metadata": {},
   "outputs": [
    {
     "data": {
      "text/plain": [
       "\"Home | CodeWithHarryCodeWithHarryMenuHomeCoursesBlogContactLoginSignupWelcome to CodeWithHarryConfused on which course to take? I have got you covered. Browse courses and find out the best course for you. Its free! Code With Harry is my attempt to teach basics and those coding techniques to people in short time which took me ages to learn.Free CoursesExplore BlogRecommended CoursesFree CourseTailwind Course In HindiComplete Tailwind CSS Course by CodeWithHarry in Hindi - Learn Tailwind CSS from scratch for free!  Start WatchingFree CourseNext.js Tutorials For BeginnersComplete Next.js Course by CodeWithHarry in Hindi - Learn Next.js from Scratch. Start WatchingFree CourseReact Js Tutorials For BeginnersReact is a free and open-source front-end JavaScript library. This series will cover React from starting to the end. We will learn react from the ground up! Start WatchingTestimonialsI don't have words to thank this man, I'm really grateful to have this channel and website in my daily routine. If you're a mere beginner, then you can trust this guy and can put your time into his content. I can assure you that it'll be worth it.Mohit KumarWeb DeveloperFor everyone who wants to level up their #Coding and #Dev skills - seriously, this channel is for you! Both basic and advanced stacks are covered on this channel, and one can learn according to his skill levels. And the icing on the cake is, everything is available for free.Rakesh ShettyWeb DeveloperCodeWithHarryCopyright © 2022 CodeWithHarry.com\""
      ]
     },
     "execution_count": 67,
     "metadata": {},
     "output_type": "execute_result"
    }
   ],
   "source": [
    "soup.get_text()"
   ]
  },
  {
   "cell_type": "markdown",
   "metadata": {},
   "source": [
    "##### get all the links on page"
   ]
  },
  {
   "cell_type": "code",
   "execution_count": 68,
   "metadata": {},
   "outputs": [
    {
     "name": "stdout",
     "output_type": "stream",
     "text": [
      "https://CodeWithHarry.com/blog/\n",
      "https://CodeWithHarry.com/videos/tailwind-course-in-hindi-1/\n",
      "https://CodeWithHarry.com/\n",
      "https://CodeWithHarry.com/videos/react-tutorials-in-hindi-1/\n",
      "https://CodeWithHarry.com/contact/\n",
      "https://CodeWithHarry.com/videos/nextjs-tutorial-in-hindi-1/\n",
      "https://CodeWithHarry.com/videos/\n"
     ]
    }
   ],
   "source": [
    "anchors = soup.find_all('a')\n",
    "all_links = set()\n",
    "for link in anchors:\n",
    "    if (link.get('href') != '#'):\n",
    "        linktext = \"https://CodeWithHarry.com\" + link.get('href')\n",
    "        all_links.add(linktext)\n",
    "        \n",
    "for link in all_links:\n",
    "    if ('www' in link):\n",
    "        continue\n",
    "    else:\n",
    "        print(link)"
   ]
  },
  {
   "cell_type": "code",
   "execution_count": 69,
   "metadata": {},
   "outputs": [
    {
     "data": {
      "text/plain": [
       "<div class=\"relative w-full hidden bg-white shadow-xl\" id=\"search-content\"><div class=\"container mx-auto py-4 text-black\"><input autofocus=\"\" class=\"w-full text-grey-800 transition focus:outline-none focus:border-transparent p-2 appearance-none leading-normal text-xl lg:text-2xl\" id=\"searchfield\" placeholder=\"Search...\" type=\"search\"/></div></div>"
      ]
     },
     "execution_count": 69,
     "metadata": {},
     "output_type": "execute_result"
    }
   ],
   "source": [
    "searchcontent = soup.find('div', id='search-content')\n",
    "searchcontent"
   ]
  },
  {
   "cell_type": "code",
   "execution_count": 70,
   "metadata": {},
   "outputs": [
    {
     "data": {
      "text/plain": [
       "[<div class=\"container mx-auto py-4 text-black\"><input autofocus=\"\" class=\"w-full text-grey-800 transition focus:outline-none focus:border-transparent p-2 appearance-none leading-normal text-xl lg:text-2xl\" id=\"searchfield\" placeholder=\"Search...\" type=\"search\"/></div>]"
      ]
     },
     "execution_count": 70,
     "metadata": {},
     "output_type": "execute_result"
    }
   ],
   "source": [
    "searchcontent.contents"
   ]
  },
  {
   "cell_type": "markdown",
   "metadata": {},
   "source": [
    ".contents = a tag's children as a list\n",
    "\n",
    ".children = a tag's children as a generator"
   ]
  },
  {
   "cell_type": "code",
   "execution_count": 71,
   "metadata": {},
   "outputs": [
    {
     "name": "stdout",
     "output_type": "stream",
     "text": [
      "<div class=\"container mx-auto py-4 text-black\"><input autofocus=\"\" class=\"w-full text-grey-800 transition focus:outline-none focus:border-transparent p-2 appearance-none leading-normal text-xl lg:text-2xl\" id=\"searchfield\" placeholder=\"Search...\" type=\"search\"/></div>\n"
     ]
    }
   ],
   "source": [
    "for elem in searchcontent.contents:\n",
    "    print(elem)"
   ]
  },
  {
   "cell_type": "code",
   "execution_count": 72,
   "metadata": {},
   "outputs": [
    {
     "name": "stdout",
     "output_type": "stream",
     "text": [
      "<div class=\"container mx-auto py-4 text-black\"><input autofocus=\"\" class=\"w-full text-grey-800 transition focus:outline-none focus:border-transparent p-2 appearance-none leading-normal text-xl lg:text-2xl\" id=\"searchfield\" placeholder=\"Search...\" type=\"search\"/></div>\n"
     ]
    }
   ],
   "source": [
    "for elem in searchcontent.children:\n",
    "    print(elem)"
   ]
  },
  {
   "cell_type": "code",
   "execution_count": 73,
   "metadata": {},
   "outputs": [],
   "source": [
    "for item in searchcontent.strings:\n",
    "    print(item)"
   ]
  },
  {
   "cell_type": "code",
   "execution_count": 74,
   "metadata": {},
   "outputs": [],
   "source": [
    "for item in searchcontent.stripped_strings:\n",
    "    print(item)"
   ]
  },
  {
   "cell_type": "code",
   "execution_count": 75,
   "metadata": {},
   "outputs": [
    {
     "data": {
      "text/plain": [
       "<div id=\"__next\"><div class=\"w-full z-10 sticky bg-white top-0 border-b border-grey-light\"><div class=\"w-full flex flex-wrap items-center lg:justify-between mt-0 py-4 justify-center\"><div class=\"mx-0 px-0 lg:pl-4 flex items-center lg:mx-4\"><span class=\"text-teal-700 no-underline hover:no-underline font-bold text-xl text-purple-800\"><a href=\"/\">CodeWithHarry</a></span></div><div class=\"pr-4 absolute top-1 right-1 pt-3\"><button class=\"lg:hidden flex items-center px-3 py-2 border rounded text-grey border-grey-dark hover:text-black hover:border-purple appearance-none focus:outline-none\"><svg class=\"fill-current h-3 w-3\" viewbox=\"0 0 20 20\" xmlns=\"http://www.w3.org/2000/svg\"><title>Menu</title><path d=\"M0 3h20v2H0V3zm0 6h20v2H0V9zm0 6h20v2H0v-2z\"></path></svg></button></div><div class=\"w-full flex-grow lg:flex lg:flex-1 lg:content-center lg:justify-end lg:w-auto h-0 lg:h-auto overflow-hidden mt-2 lg:mt-0 z-20 transition-all\" id=\"nav-content\"><ul class=\"flex items-center flex-col lg:flex-row\"><div class=\"search-icon cursor-pointer px-6 hidden\" id=\"search-toggle\"><svg class=\"fill-current pointer-events-none text-grey-darkest w-4 h-4 inline\" viewbox=\"0 0 20 20\" xmlns=\"http://www.w3.org/2000/svg\"><path d=\"M12.9 14.32a8 8 0 1 1 1.41-1.41l5.35 5.33-1.42 1.42-5.33-5.34zM8 14A6 6 0 1 0 8 2a6 6 0 0 0 0 12z\"></path></svg></div><li class=\"mx-2 my-2\"><a href=\"/\">Home</a></li><li class=\"mx-2 my-2\"><a href=\"/videos/\">Courses</a></li><li class=\"mx-2 my-2\"><a href=\"/blog/\">Blog</a></li><li class=\"mx-2 my-2\"><a href=\"/contact/\">Contact</a></li></ul><div class=\"text-center my-2 px-4\"><button class=\"text-white bg-purple-700 hover:bg-purple-800 focus:ring-4 focus:ring-purple-300 font-medium rounded-lg text-sm px-3 py-2 text-center inline-flex items-center mx-1\" id=\"login\">Login</button><button class=\"text-white bg-purple-700 hover:bg-purple-800 focus:ring-4 focus:ring-purple-300 font-medium rounded-lg text-sm px-3 py-2 text-center inline-flex items-center mx-1\" id=\"signup\">Signup</button></div></div></div></div><div class=\"relative w-full hidden bg-white shadow-xl\" id=\"search-content\"><div class=\"container mx-auto py-4 text-black\"><input autofocus=\"\" class=\"w-full text-grey-800 transition focus:outline-none focus:border-transparent p-2 appearance-none leading-normal text-xl lg:text-2xl\" id=\"searchfield\" placeholder=\"Search...\" type=\"search\"/></div></div><div class=\"mx-auto my-1\"></div><div class=\"\" style=\"position:fixed;top:0;left:0;height:2px;background:transparent;z-index:99999999999;width:100%\"><div class=\"\" style=\"height:100%;background:purple;transition:all 500ms ease;width:0%\"><div style=\"box-shadow:0 0 10px purple, 0 0 10px purple;width:5%;opacity:1;position:absolute;height:100%;transition:all 500ms ease;transform:rotate(3deg) translate(0px, -4px);left:-10rem\"></div></div></div><div class=\"Home_container__bCOhY\"><div class=\"flex bg-white h-96 container mx-auto\"><div class=\"flex items-center text-center lg:text-left px-8 md:px-12 lg:w-1/2\"><div><h2 class=\"text-3xl font-semibold text-gray-800 md:text-4xl\">Welcome to <span class=\"text-indigo-600\">CodeWithHarry</span></h2><p class=\"mt-2 text-sm text-gray-500 md:text-base\">Confused on which course to take? I have got you covered. Browse courses and find out the best course for you. Its free! Code With Harry is my attempt to teach basics and those coding techniques to people in short time which took me ages to learn.</p><div class=\"flex justify-center lg:justify-start mt-6\"><button class=\"px-3 py-2 lg:px-4 lg:py-3 bg-gray-900 text-gray-200 text-xs font-semibold rounded hover:bg-gray-800\">Free Courses</button><button class=\"px-3 py-2 mx-4 lg:px-4 lg:py-3 bg-gray-300 text-gray-900 text-xs font-semibold rounded hover:bg-gray-400\">Explore Blog</button></div></div></div><div class=\"hidden lg:block lg:w-1/2\" style=\"clip-path:polygon(10% 0, 100% 0%, 100% 100%, 0 100%)\"><div class=\"h-full object-cover\" style=\"background-image:url(https://images.unsplash.com/photo-1498050108023-c5249f4df085?ixlib=rb-1.2.1&amp;ixid=eyJhcHBfaWQiOjEyMDd9&amp;auto=format&amp;fit=crop&amp;w=1352&amp;q=80)\"><div class=\"h-full bg-black opacity-25\"></div></div></div></div><div class=\"container mx-auto lg:my-2\"><h2 class=\"text-3xl font-medium title-font text-gray-900 my-10 text-center\">Recommended Courses</h2><div class=\"flex flex-wrap\"><div class=\"lg:p-4 md:w-1/3 flex justify-center\"><div class=\"max-w-sm rounded-2xl overflow-hidden shadow-lg\"><img alt=\"Tailwind Course In Hindi\" class=\"w-full\" src=\"https://codewithharry.nyc3.cdn.digitaloceanspaces.com/assets/e1c843acc10c59c60504cd438a082c6d.png\"/><div class=\"px-6 py-4 lg:h-52\"><span class=\"tracking-widest text-xs title-font font-medium text-gray-400 mb-1\">Free Course</span><div class=\"title-font text-lg font-medium text-gray-900 mb-3\"><a href=\"/videos/tailwind-course-in-hindi-1/\">Tailwind Course In Hindi</a></div><p class=\"text-gray-700 text-base\">Complete Tailwind CSS Course by CodeWithHarry in Hindi - Learn Tailwind CSS from scratch for free! </p></div><div class=\"px-6 pt-4 pb-2\"><span class=\"inline-block bg-purple-800 rounded-full px-3 py-2 text-sm font-semibold text-white mr-2 mb-2 hover:bg-purple-600 cursor-pointer\"> Start Watching</span></div></div></div><div class=\"lg:p-4 md:w-1/3 flex justify-center\"><div class=\"max-w-sm rounded-2xl overflow-hidden shadow-lg\"><img alt=\"Next.js Tutorials For Beginners\" class=\"w-full\" src=\"https://codewithharry.nyc3.cdn.digitaloceanspaces.com/assets/62f60049963012281edcc77dd2ec031b.png\"/><div class=\"px-6 py-4 lg:h-52\"><span class=\"tracking-widest text-xs title-font font-medium text-gray-400 mb-1\">Free Course</span><div class=\"title-font text-lg font-medium text-gray-900 mb-3\"><a href=\"/videos/nextjs-tutorial-in-hindi-1/\">Next.js Tutorials For Beginners</a></div><p class=\"text-gray-700 text-base\">Complete Next.js Course by CodeWithHarry in Hindi - Learn Next.js from Scratch.</p></div><div class=\"px-6 pt-4 pb-2\"><span class=\"inline-block bg-purple-800 rounded-full px-3 py-2 text-sm font-semibold text-white mr-2 mb-2 hover:bg-purple-600 cursor-pointer\"> Start Watching</span></div></div></div><div class=\"lg:p-4 md:w-1/3 flex justify-center\"><div class=\"max-w-sm rounded-2xl overflow-hidden shadow-lg\"><img alt=\"React Js Tutorials For Beginners\" class=\"w-full\" src=\"https://codewithharry.nyc3.cdn.digitaloceanspaces.com/assets/090fefe24d23d47584f6ddc7eb5a241e.png\"/><div class=\"px-6 py-4 lg:h-52\"><span class=\"tracking-widest text-xs title-font font-medium text-gray-400 mb-1\">Free Course</span><div class=\"title-font text-lg font-medium text-gray-900 mb-3\"><a href=\"/videos/react-tutorials-in-hindi-1/\">React Js Tutorials For Beginners</a></div><p class=\"text-gray-700 text-base\">React is a free and open-source front-end JavaScript library. This series will cover React from starting to the end. We will learn react from the ground up!</p></div><div class=\"px-6 pt-4 pb-2\"><span class=\"inline-block bg-purple-800 rounded-full px-3 py-2 text-sm font-semibold text-white mr-2 mb-2 hover:bg-purple-600 cursor-pointer\"> Start Watching</span></div></div></div></div></div><div class=\"container mx-auto\"><section class=\"text-gray-600 body-font\"><div class=\"container px-5 py-12 mx-auto\"><h2 class=\"text-3xl font-medium title-font text-gray-900 mb-12 text-center\">Testimonials</h2><div class=\"flex flex-wrap -m-4\"><div class=\"p-4 md:w-1/2 w-full\"><div class=\"h-full bg-gray-100 p-8 rounded\"><svg class=\"block w-5 h-5 text-gray-400 mb-4\" fill=\"currentColor\" viewbox=\"0 0 975.036 975.036\" xmlns=\"http://www.w3.org/2000/svg\"><path d=\"M925.036 57.197h-304c-27.6 0-50 22.4-50 50v304c0 27.601 22.4 50 50 50h145.5c-1.9 79.601-20.4 143.3-55.4 191.2-27.6 37.8-69.399 69.1-125.3 93.8-25.7 11.3-36.8 41.7-24.8 67.101l36 76c11.6 24.399 40.3 35.1 65.1 24.399 66.2-28.6 122.101-64.8 167.7-108.8 55.601-53.7 93.7-114.3 114.3-181.9 20.601-67.6 30.9-159.8 30.9-276.8v-239c0-27.599-22.401-50-50-50zM106.036 913.497c65.4-28.5 121-64.699 166.9-108.6 56.1-53.7 94.4-114.1 115-181.2 20.6-67.1 30.899-159.6 30.899-277.5v-239c0-27.6-22.399-50-50-50h-304c-27.6 0-50 22.4-50 50v304c0 27.601 22.4 50 50 50h145.5c-1.9 79.601-20.4 143.3-55.4 191.2-27.6 37.8-69.4 69.1-125.3 93.8-25.7 11.3-36.8 41.7-24.8 67.101l35.9 75.8c11.601 24.399 40.501 35.2 65.301 24.399z\"></path></svg><p class=\"leading-relaxed mb-6\">I don't have words to thank this man, I'm really grateful to have this channel and website in my daily routine. If you're a mere beginner, then you can trust this guy and can put your time into his content. I can assure you that it'll be worth it.</p><span class=\"inline-flex items-center\"><span class=\"flex-grow flex flex-col pl-4\"><span class=\"title-font font-medium text-gray-900\">Mohit Kumar</span><span class=\"text-gray-500 text-sm\">Web Developer</span></span></span></div></div><div class=\"p-4 md:w-1/2 w-full\"><div class=\"h-full bg-gray-100 p-8 rounded\"><svg class=\"block w-5 h-5 text-gray-400 mb-4\" fill=\"currentColor\" viewbox=\"0 0 975.036 975.036\" xmlns=\"http://www.w3.org/2000/svg\"><path d=\"M925.036 57.197h-304c-27.6 0-50 22.4-50 50v304c0 27.601 22.4 50 50 50h145.5c-1.9 79.601-20.4 143.3-55.4 191.2-27.6 37.8-69.399 69.1-125.3 93.8-25.7 11.3-36.8 41.7-24.8 67.101l36 76c11.6 24.399 40.3 35.1 65.1 24.399 66.2-28.6 122.101-64.8 167.7-108.8 55.601-53.7 93.7-114.3 114.3-181.9 20.601-67.6 30.9-159.8 30.9-276.8v-239c0-27.599-22.401-50-50-50zM106.036 913.497c65.4-28.5 121-64.699 166.9-108.6 56.1-53.7 94.4-114.1 115-181.2 20.6-67.1 30.899-159.6 30.899-277.5v-239c0-27.6-22.399-50-50-50h-304c-27.6 0-50 22.4-50 50v304c0 27.601 22.4 50 50 50h145.5c-1.9 79.601-20.4 143.3-55.4 191.2-27.6 37.8-69.4 69.1-125.3 93.8-25.7 11.3-36.8 41.7-24.8 67.101l35.9 75.8c11.601 24.399 40.501 35.2 65.301 24.399z\"></path></svg><p class=\"leading-relaxed mb-6\">For everyone who wants to level up their #Coding and #Dev skills - seriously, this channel is for you! Both basic and advanced stacks are covered on this channel, and one can learn according to his skill levels. And the icing on the cake is, everything is available for free.</p><span class=\"inline-flex items-center\"><span class=\"flex-grow flex flex-col pl-4\"><span class=\"title-font font-medium text-gray-900\">Rakesh Shetty</span><span class=\"text-gray-500 text-sm\">Web Developer</span></span></span></div></div></div></div></section></div></div><div><footer class=\"text-gray-600 body-font mt-8 px-10 bg-white\"><div class=\"px-2 py-4 mx-auto flex items-center sm:flex-row flex-col\"><span class=\"flex title-font font-medium items-center md:justify-start justify-center text-gray-900\"><img class=\"rounded h-12\" src=\"/img/logo-blue.png\"/><span class=\"ml-3 text-xl\">CodeWithHarry</span></span><p class=\"text-sm text-gray-500 sm:ml-4 sm:pl-4 sm:border-l-2 sm:border-gray-200 sm:py-2 sm:mt-0 mt-4 text-center\">Copyright © 2022 CodeWithHarry.com</p><span class=\"inline-flex sm:ml-auto sm:mt-0 mt-4 justify-center sm:justify-start\"><a class=\"text-gray-500\" href=\"https://www.facebook.com/CodeWithHarry/\" rel=\"noreferrer\" target=\"_blank\"><svg class=\"w-5 h-5\" fill=\"currentColor\" stroke-linecap=\"round\" stroke-linejoin=\"round\" stroke-width=\"2\" viewbox=\"0 0 24 24\"><path d=\"M18 2h-3a5 5 0 00-5 5v3H7v4h3v8h4v-8h3l1-4h-4V7a1 1 0 011-1h3z\"></path></svg></a><a class=\"ml-3 text-gray-500\" href=\"https://www.instagram.com/CodeWithHarry/\" rel=\"noreferrer\" target=\"_blank\"><svg class=\"w-5 h-5\" fill=\"none\" stroke=\"currentColor\" stroke-linecap=\"round\" stroke-linejoin=\"round\" stroke-width=\"2\" viewbox=\"0 0 24 24\"><rect height=\"20\" rx=\"5\" ry=\"5\" width=\"20\" x=\"2\" y=\"2\"></rect><path d=\"M16 11.37A4 4 0 1112.63 8 4 4 0 0116 11.37zm1.5-4.87h.01\"></path></svg></a></span></div></footer></div></div>"
      ]
     },
     "execution_count": 75,
     "metadata": {},
     "output_type": "execute_result"
    }
   ],
   "source": [
    "searchcontent.parent"
   ]
  },
  {
   "cell_type": "code",
   "execution_count": 76,
   "metadata": {},
   "outputs": [
    {
     "data": {
      "text/plain": [
       "<generator object parents at 0x0000029078AB3200>"
      ]
     },
     "execution_count": 76,
     "metadata": {},
     "output_type": "execute_result"
    }
   ],
   "source": [
    "searchcontent.parents"
   ]
  },
  {
   "cell_type": "code",
   "execution_count": 77,
   "metadata": {},
   "outputs": [
    {
     "name": "stdout",
     "output_type": "stream",
     "text": [
      "<div id=\"__next\"><div class=\"w-full z-10 sticky bg-white top-0 border-b border-grey-light\"><div class=\"w-full flex flex-wrap items-center lg:justify-between mt-0 py-4 justify-center\"><div class=\"mx-0 px-0 lg:pl-4 flex items-center lg:mx-4\"><span class=\"text-teal-700 no-underline hover:no-underline font-bold text-xl text-purple-800\"><a href=\"/\">CodeWithHarry</a></span></div><div class=\"pr-4 absolute top-1 right-1 pt-3\"><button class=\"lg:hidden flex items-center px-3 py-2 border rounded text-grey border-grey-dark hover:text-black hover:border-purple appearance-none focus:outline-none\"><svg class=\"fill-current h-3 w-3\" viewbox=\"0 0 20 20\" xmlns=\"http://www.w3.org/2000/svg\"><title>Menu</title><path d=\"M0 3h20v2H0V3zm0 6h20v2H0V9zm0 6h20v2H0v-2z\"></path></svg></button></div><div class=\"w-full flex-grow lg:flex lg:flex-1 lg:content-center lg:justify-end lg:w-auto h-0 lg:h-auto overflow-hidden mt-2 lg:mt-0 z-20 transition-all\" id=\"nav-content\"><ul class=\"flex items-center flex-col lg:flex-row\"><div class=\"search-icon cursor-pointer px-6 hidden\" id=\"search-toggle\"><svg class=\"fill-current pointer-events-none text-grey-darkest w-4 h-4 inline\" viewbox=\"0 0 20 20\" xmlns=\"http://www.w3.org/2000/svg\"><path d=\"M12.9 14.32a8 8 0 1 1 1.41-1.41l5.35 5.33-1.42 1.42-5.33-5.34zM8 14A6 6 0 1 0 8 2a6 6 0 0 0 0 12z\"></path></svg></div><li class=\"mx-2 my-2\"><a href=\"/\">Home</a></li><li class=\"mx-2 my-2\"><a href=\"/videos/\">Courses</a></li><li class=\"mx-2 my-2\"><a href=\"/blog/\">Blog</a></li><li class=\"mx-2 my-2\"><a href=\"/contact/\">Contact</a></li></ul><div class=\"text-center my-2 px-4\"><button class=\"text-white bg-purple-700 hover:bg-purple-800 focus:ring-4 focus:ring-purple-300 font-medium rounded-lg text-sm px-3 py-2 text-center inline-flex items-center mx-1\" id=\"login\">Login</button><button class=\"text-white bg-purple-700 hover:bg-purple-800 focus:ring-4 focus:ring-purple-300 font-medium rounded-lg text-sm px-3 py-2 text-center inline-flex items-center mx-1\" id=\"signup\">Signup</button></div></div></div></div><div class=\"relative w-full hidden bg-white shadow-xl\" id=\"search-content\"><div class=\"container mx-auto py-4 text-black\"><input autofocus=\"\" class=\"w-full text-grey-800 transition focus:outline-none focus:border-transparent p-2 appearance-none leading-normal text-xl lg:text-2xl\" id=\"searchfield\" placeholder=\"Search...\" type=\"search\"/></div></div><div class=\"mx-auto my-1\"></div><div class=\"\" style=\"position:fixed;top:0;left:0;height:2px;background:transparent;z-index:99999999999;width:100%\"><div class=\"\" style=\"height:100%;background:purple;transition:all 500ms ease;width:0%\"><div style=\"box-shadow:0 0 10px purple, 0 0 10px purple;width:5%;opacity:1;position:absolute;height:100%;transition:all 500ms ease;transform:rotate(3deg) translate(0px, -4px);left:-10rem\"></div></div></div><div class=\"Home_container__bCOhY\"><div class=\"flex bg-white h-96 container mx-auto\"><div class=\"flex items-center text-center lg:text-left px-8 md:px-12 lg:w-1/2\"><div><h2 class=\"text-3xl font-semibold text-gray-800 md:text-4xl\">Welcome to <span class=\"text-indigo-600\">CodeWithHarry</span></h2><p class=\"mt-2 text-sm text-gray-500 md:text-base\">Confused on which course to take? I have got you covered. Browse courses and find out the best course for you. Its free! Code With Harry is my attempt to teach basics and those coding techniques to people in short time which took me ages to learn.</p><div class=\"flex justify-center lg:justify-start mt-6\"><button class=\"px-3 py-2 lg:px-4 lg:py-3 bg-gray-900 text-gray-200 text-xs font-semibold rounded hover:bg-gray-800\">Free Courses</button><button class=\"px-3 py-2 mx-4 lg:px-4 lg:py-3 bg-gray-300 text-gray-900 text-xs font-semibold rounded hover:bg-gray-400\">Explore Blog</button></div></div></div><div class=\"hidden lg:block lg:w-1/2\" style=\"clip-path:polygon(10% 0, 100% 0%, 100% 100%, 0 100%)\"><div class=\"h-full object-cover\" style=\"background-image:url(https://images.unsplash.com/photo-1498050108023-c5249f4df085?ixlib=rb-1.2.1&amp;ixid=eyJhcHBfaWQiOjEyMDd9&amp;auto=format&amp;fit=crop&amp;w=1352&amp;q=80)\"><div class=\"h-full bg-black opacity-25\"></div></div></div></div><div class=\"container mx-auto lg:my-2\"><h2 class=\"text-3xl font-medium title-font text-gray-900 my-10 text-center\">Recommended Courses</h2><div class=\"flex flex-wrap\"><div class=\"lg:p-4 md:w-1/3 flex justify-center\"><div class=\"max-w-sm rounded-2xl overflow-hidden shadow-lg\"><img alt=\"Tailwind Course In Hindi\" class=\"w-full\" src=\"https://codewithharry.nyc3.cdn.digitaloceanspaces.com/assets/e1c843acc10c59c60504cd438a082c6d.png\"/><div class=\"px-6 py-4 lg:h-52\"><span class=\"tracking-widest text-xs title-font font-medium text-gray-400 mb-1\">Free Course</span><div class=\"title-font text-lg font-medium text-gray-900 mb-3\"><a href=\"/videos/tailwind-course-in-hindi-1/\">Tailwind Course In Hindi</a></div><p class=\"text-gray-700 text-base\">Complete Tailwind CSS Course by CodeWithHarry in Hindi - Learn Tailwind CSS from scratch for free! </p></div><div class=\"px-6 pt-4 pb-2\"><span class=\"inline-block bg-purple-800 rounded-full px-3 py-2 text-sm font-semibold text-white mr-2 mb-2 hover:bg-purple-600 cursor-pointer\"> Start Watching</span></div></div></div><div class=\"lg:p-4 md:w-1/3 flex justify-center\"><div class=\"max-w-sm rounded-2xl overflow-hidden shadow-lg\"><img alt=\"Next.js Tutorials For Beginners\" class=\"w-full\" src=\"https://codewithharry.nyc3.cdn.digitaloceanspaces.com/assets/62f60049963012281edcc77dd2ec031b.png\"/><div class=\"px-6 py-4 lg:h-52\"><span class=\"tracking-widest text-xs title-font font-medium text-gray-400 mb-1\">Free Course</span><div class=\"title-font text-lg font-medium text-gray-900 mb-3\"><a href=\"/videos/nextjs-tutorial-in-hindi-1/\">Next.js Tutorials For Beginners</a></div><p class=\"text-gray-700 text-base\">Complete Next.js Course by CodeWithHarry in Hindi - Learn Next.js from Scratch.</p></div><div class=\"px-6 pt-4 pb-2\"><span class=\"inline-block bg-purple-800 rounded-full px-3 py-2 text-sm font-semibold text-white mr-2 mb-2 hover:bg-purple-600 cursor-pointer\"> Start Watching</span></div></div></div><div class=\"lg:p-4 md:w-1/3 flex justify-center\"><div class=\"max-w-sm rounded-2xl overflow-hidden shadow-lg\"><img alt=\"React Js Tutorials For Beginners\" class=\"w-full\" src=\"https://codewithharry.nyc3.cdn.digitaloceanspaces.com/assets/090fefe24d23d47584f6ddc7eb5a241e.png\"/><div class=\"px-6 py-4 lg:h-52\"><span class=\"tracking-widest text-xs title-font font-medium text-gray-400 mb-1\">Free Course</span><div class=\"title-font text-lg font-medium text-gray-900 mb-3\"><a href=\"/videos/react-tutorials-in-hindi-1/\">React Js Tutorials For Beginners</a></div><p class=\"text-gray-700 text-base\">React is a free and open-source front-end JavaScript library. This series will cover React from starting to the end. We will learn react from the ground up!</p></div><div class=\"px-6 pt-4 pb-2\"><span class=\"inline-block bg-purple-800 rounded-full px-3 py-2 text-sm font-semibold text-white mr-2 mb-2 hover:bg-purple-600 cursor-pointer\"> Start Watching</span></div></div></div></div></div><div class=\"container mx-auto\"><section class=\"text-gray-600 body-font\"><div class=\"container px-5 py-12 mx-auto\"><h2 class=\"text-3xl font-medium title-font text-gray-900 mb-12 text-center\">Testimonials</h2><div class=\"flex flex-wrap -m-4\"><div class=\"p-4 md:w-1/2 w-full\"><div class=\"h-full bg-gray-100 p-8 rounded\"><svg class=\"block w-5 h-5 text-gray-400 mb-4\" fill=\"currentColor\" viewbox=\"0 0 975.036 975.036\" xmlns=\"http://www.w3.org/2000/svg\"><path d=\"M925.036 57.197h-304c-27.6 0-50 22.4-50 50v304c0 27.601 22.4 50 50 50h145.5c-1.9 79.601-20.4 143.3-55.4 191.2-27.6 37.8-69.399 69.1-125.3 93.8-25.7 11.3-36.8 41.7-24.8 67.101l36 76c11.6 24.399 40.3 35.1 65.1 24.399 66.2-28.6 122.101-64.8 167.7-108.8 55.601-53.7 93.7-114.3 114.3-181.9 20.601-67.6 30.9-159.8 30.9-276.8v-239c0-27.599-22.401-50-50-50zM106.036 913.497c65.4-28.5 121-64.699 166.9-108.6 56.1-53.7 94.4-114.1 115-181.2 20.6-67.1 30.899-159.6 30.899-277.5v-239c0-27.6-22.399-50-50-50h-304c-27.6 0-50 22.4-50 50v304c0 27.601 22.4 50 50 50h145.5c-1.9 79.601-20.4 143.3-55.4 191.2-27.6 37.8-69.4 69.1-125.3 93.8-25.7 11.3-36.8 41.7-24.8 67.101l35.9 75.8c11.601 24.399 40.501 35.2 65.301 24.399z\"></path></svg><p class=\"leading-relaxed mb-6\">I don't have words to thank this man, I'm really grateful to have this channel and website in my daily routine. If you're a mere beginner, then you can trust this guy and can put your time into his content. I can assure you that it'll be worth it.</p><span class=\"inline-flex items-center\"><span class=\"flex-grow flex flex-col pl-4\"><span class=\"title-font font-medium text-gray-900\">Mohit Kumar</span><span class=\"text-gray-500 text-sm\">Web Developer</span></span></span></div></div><div class=\"p-4 md:w-1/2 w-full\"><div class=\"h-full bg-gray-100 p-8 rounded\"><svg class=\"block w-5 h-5 text-gray-400 mb-4\" fill=\"currentColor\" viewbox=\"0 0 975.036 975.036\" xmlns=\"http://www.w3.org/2000/svg\"><path d=\"M925.036 57.197h-304c-27.6 0-50 22.4-50 50v304c0 27.601 22.4 50 50 50h145.5c-1.9 79.601-20.4 143.3-55.4 191.2-27.6 37.8-69.399 69.1-125.3 93.8-25.7 11.3-36.8 41.7-24.8 67.101l36 76c11.6 24.399 40.3 35.1 65.1 24.399 66.2-28.6 122.101-64.8 167.7-108.8 55.601-53.7 93.7-114.3 114.3-181.9 20.601-67.6 30.9-159.8 30.9-276.8v-239c0-27.599-22.401-50-50-50zM106.036 913.497c65.4-28.5 121-64.699 166.9-108.6 56.1-53.7 94.4-114.1 115-181.2 20.6-67.1 30.899-159.6 30.899-277.5v-239c0-27.6-22.399-50-50-50h-304c-27.6 0-50 22.4-50 50v304c0 27.601 22.4 50 50 50h145.5c-1.9 79.601-20.4 143.3-55.4 191.2-27.6 37.8-69.4 69.1-125.3 93.8-25.7 11.3-36.8 41.7-24.8 67.101l35.9 75.8c11.601 24.399 40.501 35.2 65.301 24.399z\"></path></svg><p class=\"leading-relaxed mb-6\">For everyone who wants to level up their #Coding and #Dev skills - seriously, this channel is for you! Both basic and advanced stacks are covered on this channel, and one can learn according to his skill levels. And the icing on the cake is, everything is available for free.</p><span class=\"inline-flex items-center\"><span class=\"flex-grow flex flex-col pl-4\"><span class=\"title-font font-medium text-gray-900\">Rakesh Shetty</span><span class=\"text-gray-500 text-sm\">Web Developer</span></span></span></div></div></div></div></section></div></div><div><footer class=\"text-gray-600 body-font mt-8 px-10 bg-white\"><div class=\"px-2 py-4 mx-auto flex items-center sm:flex-row flex-col\"><span class=\"flex title-font font-medium items-center md:justify-start justify-center text-gray-900\"><img class=\"rounded h-12\" src=\"/img/logo-blue.png\"/><span class=\"ml-3 text-xl\">CodeWithHarry</span></span><p class=\"text-sm text-gray-500 sm:ml-4 sm:pl-4 sm:border-l-2 sm:border-gray-200 sm:py-2 sm:mt-0 mt-4 text-center\">Copyright © 2022 CodeWithHarry.com</p><span class=\"inline-flex sm:ml-auto sm:mt-0 mt-4 justify-center sm:justify-start\"><a class=\"text-gray-500\" href=\"https://www.facebook.com/CodeWithHarry/\" rel=\"noreferrer\" target=\"_blank\"><svg class=\"w-5 h-5\" fill=\"currentColor\" stroke-linecap=\"round\" stroke-linejoin=\"round\" stroke-width=\"2\" viewbox=\"0 0 24 24\"><path d=\"M18 2h-3a5 5 0 00-5 5v3H7v4h3v8h4v-8h3l1-4h-4V7a1 1 0 011-1h3z\"></path></svg></a><a class=\"ml-3 text-gray-500\" href=\"https://www.instagram.com/CodeWithHarry/\" rel=\"noreferrer\" target=\"_blank\"><svg class=\"w-5 h-5\" fill=\"none\" stroke=\"currentColor\" stroke-linecap=\"round\" stroke-linejoin=\"round\" stroke-width=\"2\" viewbox=\"0 0 24 24\"><rect height=\"20\" rx=\"5\" ry=\"5\" width=\"20\" x=\"2\" y=\"2\"></rect><path d=\"M16 11.37A4 4 0 1112.63 8 4 4 0 0116 11.37zm1.5-4.87h.01\"></path></svg></a></span></div></footer></div></div>\n",
      "<body><noscript><iframe height=\"0\" src=\"https://www.googletagmanager.com/ns.html?id=GTM-MCDDKRF\" style=\"display:none;visibility:hidden\" width=\"0\"></iframe></noscript><div id=\"__next\"><div class=\"w-full z-10 sticky bg-white top-0 border-b border-grey-light\"><div class=\"w-full flex flex-wrap items-center lg:justify-between mt-0 py-4 justify-center\"><div class=\"mx-0 px-0 lg:pl-4 flex items-center lg:mx-4\"><span class=\"text-teal-700 no-underline hover:no-underline font-bold text-xl text-purple-800\"><a href=\"/\">CodeWithHarry</a></span></div><div class=\"pr-4 absolute top-1 right-1 pt-3\"><button class=\"lg:hidden flex items-center px-3 py-2 border rounded text-grey border-grey-dark hover:text-black hover:border-purple appearance-none focus:outline-none\"><svg class=\"fill-current h-3 w-3\" viewbox=\"0 0 20 20\" xmlns=\"http://www.w3.org/2000/svg\"><title>Menu</title><path d=\"M0 3h20v2H0V3zm0 6h20v2H0V9zm0 6h20v2H0v-2z\"></path></svg></button></div><div class=\"w-full flex-grow lg:flex lg:flex-1 lg:content-center lg:justify-end lg:w-auto h-0 lg:h-auto overflow-hidden mt-2 lg:mt-0 z-20 transition-all\" id=\"nav-content\"><ul class=\"flex items-center flex-col lg:flex-row\"><div class=\"search-icon cursor-pointer px-6 hidden\" id=\"search-toggle\"><svg class=\"fill-current pointer-events-none text-grey-darkest w-4 h-4 inline\" viewbox=\"0 0 20 20\" xmlns=\"http://www.w3.org/2000/svg\"><path d=\"M12.9 14.32a8 8 0 1 1 1.41-1.41l5.35 5.33-1.42 1.42-5.33-5.34zM8 14A6 6 0 1 0 8 2a6 6 0 0 0 0 12z\"></path></svg></div><li class=\"mx-2 my-2\"><a href=\"/\">Home</a></li><li class=\"mx-2 my-2\"><a href=\"/videos/\">Courses</a></li><li class=\"mx-2 my-2\"><a href=\"/blog/\">Blog</a></li><li class=\"mx-2 my-2\"><a href=\"/contact/\">Contact</a></li></ul><div class=\"text-center my-2 px-4\"><button class=\"text-white bg-purple-700 hover:bg-purple-800 focus:ring-4 focus:ring-purple-300 font-medium rounded-lg text-sm px-3 py-2 text-center inline-flex items-center mx-1\" id=\"login\">Login</button><button class=\"text-white bg-purple-700 hover:bg-purple-800 focus:ring-4 focus:ring-purple-300 font-medium rounded-lg text-sm px-3 py-2 text-center inline-flex items-center mx-1\" id=\"signup\">Signup</button></div></div></div></div><div class=\"relative w-full hidden bg-white shadow-xl\" id=\"search-content\"><div class=\"container mx-auto py-4 text-black\"><input autofocus=\"\" class=\"w-full text-grey-800 transition focus:outline-none focus:border-transparent p-2 appearance-none leading-normal text-xl lg:text-2xl\" id=\"searchfield\" placeholder=\"Search...\" type=\"search\"/></div></div><div class=\"mx-auto my-1\"></div><div class=\"\" style=\"position:fixed;top:0;left:0;height:2px;background:transparent;z-index:99999999999;width:100%\"><div class=\"\" style=\"height:100%;background:purple;transition:all 500ms ease;width:0%\"><div style=\"box-shadow:0 0 10px purple, 0 0 10px purple;width:5%;opacity:1;position:absolute;height:100%;transition:all 500ms ease;transform:rotate(3deg) translate(0px, -4px);left:-10rem\"></div></div></div><div class=\"Home_container__bCOhY\"><div class=\"flex bg-white h-96 container mx-auto\"><div class=\"flex items-center text-center lg:text-left px-8 md:px-12 lg:w-1/2\"><div><h2 class=\"text-3xl font-semibold text-gray-800 md:text-4xl\">Welcome to <span class=\"text-indigo-600\">CodeWithHarry</span></h2><p class=\"mt-2 text-sm text-gray-500 md:text-base\">Confused on which course to take? I have got you covered. Browse courses and find out the best course for you. Its free! Code With Harry is my attempt to teach basics and those coding techniques to people in short time which took me ages to learn.</p><div class=\"flex justify-center lg:justify-start mt-6\"><button class=\"px-3 py-2 lg:px-4 lg:py-3 bg-gray-900 text-gray-200 text-xs font-semibold rounded hover:bg-gray-800\">Free Courses</button><button class=\"px-3 py-2 mx-4 lg:px-4 lg:py-3 bg-gray-300 text-gray-900 text-xs font-semibold rounded hover:bg-gray-400\">Explore Blog</button></div></div></div><div class=\"hidden lg:block lg:w-1/2\" style=\"clip-path:polygon(10% 0, 100% 0%, 100% 100%, 0 100%)\"><div class=\"h-full object-cover\" style=\"background-image:url(https://images.unsplash.com/photo-1498050108023-c5249f4df085?ixlib=rb-1.2.1&amp;ixid=eyJhcHBfaWQiOjEyMDd9&amp;auto=format&amp;fit=crop&amp;w=1352&amp;q=80)\"><div class=\"h-full bg-black opacity-25\"></div></div></div></div><div class=\"container mx-auto lg:my-2\"><h2 class=\"text-3xl font-medium title-font text-gray-900 my-10 text-center\">Recommended Courses</h2><div class=\"flex flex-wrap\"><div class=\"lg:p-4 md:w-1/3 flex justify-center\"><div class=\"max-w-sm rounded-2xl overflow-hidden shadow-lg\"><img alt=\"Tailwind Course In Hindi\" class=\"w-full\" src=\"https://codewithharry.nyc3.cdn.digitaloceanspaces.com/assets/e1c843acc10c59c60504cd438a082c6d.png\"/><div class=\"px-6 py-4 lg:h-52\"><span class=\"tracking-widest text-xs title-font font-medium text-gray-400 mb-1\">Free Course</span><div class=\"title-font text-lg font-medium text-gray-900 mb-3\"><a href=\"/videos/tailwind-course-in-hindi-1/\">Tailwind Course In Hindi</a></div><p class=\"text-gray-700 text-base\">Complete Tailwind CSS Course by CodeWithHarry in Hindi - Learn Tailwind CSS from scratch for free! </p></div><div class=\"px-6 pt-4 pb-2\"><span class=\"inline-block bg-purple-800 rounded-full px-3 py-2 text-sm font-semibold text-white mr-2 mb-2 hover:bg-purple-600 cursor-pointer\"> Start Watching</span></div></div></div><div class=\"lg:p-4 md:w-1/3 flex justify-center\"><div class=\"max-w-sm rounded-2xl overflow-hidden shadow-lg\"><img alt=\"Next.js Tutorials For Beginners\" class=\"w-full\" src=\"https://codewithharry.nyc3.cdn.digitaloceanspaces.com/assets/62f60049963012281edcc77dd2ec031b.png\"/><div class=\"px-6 py-4 lg:h-52\"><span class=\"tracking-widest text-xs title-font font-medium text-gray-400 mb-1\">Free Course</span><div class=\"title-font text-lg font-medium text-gray-900 mb-3\"><a href=\"/videos/nextjs-tutorial-in-hindi-1/\">Next.js Tutorials For Beginners</a></div><p class=\"text-gray-700 text-base\">Complete Next.js Course by CodeWithHarry in Hindi - Learn Next.js from Scratch.</p></div><div class=\"px-6 pt-4 pb-2\"><span class=\"inline-block bg-purple-800 rounded-full px-3 py-2 text-sm font-semibold text-white mr-2 mb-2 hover:bg-purple-600 cursor-pointer\"> Start Watching</span></div></div></div><div class=\"lg:p-4 md:w-1/3 flex justify-center\"><div class=\"max-w-sm rounded-2xl overflow-hidden shadow-lg\"><img alt=\"React Js Tutorials For Beginners\" class=\"w-full\" src=\"https://codewithharry.nyc3.cdn.digitaloceanspaces.com/assets/090fefe24d23d47584f6ddc7eb5a241e.png\"/><div class=\"px-6 py-4 lg:h-52\"><span class=\"tracking-widest text-xs title-font font-medium text-gray-400 mb-1\">Free Course</span><div class=\"title-font text-lg font-medium text-gray-900 mb-3\"><a href=\"/videos/react-tutorials-in-hindi-1/\">React Js Tutorials For Beginners</a></div><p class=\"text-gray-700 text-base\">React is a free and open-source front-end JavaScript library. This series will cover React from starting to the end. We will learn react from the ground up!</p></div><div class=\"px-6 pt-4 pb-2\"><span class=\"inline-block bg-purple-800 rounded-full px-3 py-2 text-sm font-semibold text-white mr-2 mb-2 hover:bg-purple-600 cursor-pointer\"> Start Watching</span></div></div></div></div></div><div class=\"container mx-auto\"><section class=\"text-gray-600 body-font\"><div class=\"container px-5 py-12 mx-auto\"><h2 class=\"text-3xl font-medium title-font text-gray-900 mb-12 text-center\">Testimonials</h2><div class=\"flex flex-wrap -m-4\"><div class=\"p-4 md:w-1/2 w-full\"><div class=\"h-full bg-gray-100 p-8 rounded\"><svg class=\"block w-5 h-5 text-gray-400 mb-4\" fill=\"currentColor\" viewbox=\"0 0 975.036 975.036\" xmlns=\"http://www.w3.org/2000/svg\"><path d=\"M925.036 57.197h-304c-27.6 0-50 22.4-50 50v304c0 27.601 22.4 50 50 50h145.5c-1.9 79.601-20.4 143.3-55.4 191.2-27.6 37.8-69.399 69.1-125.3 93.8-25.7 11.3-36.8 41.7-24.8 67.101l36 76c11.6 24.399 40.3 35.1 65.1 24.399 66.2-28.6 122.101-64.8 167.7-108.8 55.601-53.7 93.7-114.3 114.3-181.9 20.601-67.6 30.9-159.8 30.9-276.8v-239c0-27.599-22.401-50-50-50zM106.036 913.497c65.4-28.5 121-64.699 166.9-108.6 56.1-53.7 94.4-114.1 115-181.2 20.6-67.1 30.899-159.6 30.899-277.5v-239c0-27.6-22.399-50-50-50h-304c-27.6 0-50 22.4-50 50v304c0 27.601 22.4 50 50 50h145.5c-1.9 79.601-20.4 143.3-55.4 191.2-27.6 37.8-69.4 69.1-125.3 93.8-25.7 11.3-36.8 41.7-24.8 67.101l35.9 75.8c11.601 24.399 40.501 35.2 65.301 24.399z\"></path></svg><p class=\"leading-relaxed mb-6\">I don't have words to thank this man, I'm really grateful to have this channel and website in my daily routine. If you're a mere beginner, then you can trust this guy and can put your time into his content. I can assure you that it'll be worth it.</p><span class=\"inline-flex items-center\"><span class=\"flex-grow flex flex-col pl-4\"><span class=\"title-font font-medium text-gray-900\">Mohit Kumar</span><span class=\"text-gray-500 text-sm\">Web Developer</span></span></span></div></div><div class=\"p-4 md:w-1/2 w-full\"><div class=\"h-full bg-gray-100 p-8 rounded\"><svg class=\"block w-5 h-5 text-gray-400 mb-4\" fill=\"currentColor\" viewbox=\"0 0 975.036 975.036\" xmlns=\"http://www.w3.org/2000/svg\"><path d=\"M925.036 57.197h-304c-27.6 0-50 22.4-50 50v304c0 27.601 22.4 50 50 50h145.5c-1.9 79.601-20.4 143.3-55.4 191.2-27.6 37.8-69.399 69.1-125.3 93.8-25.7 11.3-36.8 41.7-24.8 67.101l36 76c11.6 24.399 40.3 35.1 65.1 24.399 66.2-28.6 122.101-64.8 167.7-108.8 55.601-53.7 93.7-114.3 114.3-181.9 20.601-67.6 30.9-159.8 30.9-276.8v-239c0-27.599-22.401-50-50-50zM106.036 913.497c65.4-28.5 121-64.699 166.9-108.6 56.1-53.7 94.4-114.1 115-181.2 20.6-67.1 30.899-159.6 30.899-277.5v-239c0-27.6-22.399-50-50-50h-304c-27.6 0-50 22.4-50 50v304c0 27.601 22.4 50 50 50h145.5c-1.9 79.601-20.4 143.3-55.4 191.2-27.6 37.8-69.4 69.1-125.3 93.8-25.7 11.3-36.8 41.7-24.8 67.101l35.9 75.8c11.601 24.399 40.501 35.2 65.301 24.399z\"></path></svg><p class=\"leading-relaxed mb-6\">For everyone who wants to level up their #Coding and #Dev skills - seriously, this channel is for you! Both basic and advanced stacks are covered on this channel, and one can learn according to his skill levels. And the icing on the cake is, everything is available for free.</p><span class=\"inline-flex items-center\"><span class=\"flex-grow flex flex-col pl-4\"><span class=\"title-font font-medium text-gray-900\">Rakesh Shetty</span><span class=\"text-gray-500 text-sm\">Web Developer</span></span></span></div></div></div></div></section></div></div><div><footer class=\"text-gray-600 body-font mt-8 px-10 bg-white\"><div class=\"px-2 py-4 mx-auto flex items-center sm:flex-row flex-col\"><span class=\"flex title-font font-medium items-center md:justify-start justify-center text-gray-900\"><img class=\"rounded h-12\" src=\"/img/logo-blue.png\"/><span class=\"ml-3 text-xl\">CodeWithHarry</span></span><p class=\"text-sm text-gray-500 sm:ml-4 sm:pl-4 sm:border-l-2 sm:border-gray-200 sm:py-2 sm:mt-0 mt-4 text-center\">Copyright © 2022 CodeWithHarry.com</p><span class=\"inline-flex sm:ml-auto sm:mt-0 mt-4 justify-center sm:justify-start\"><a class=\"text-gray-500\" href=\"https://www.facebook.com/CodeWithHarry/\" rel=\"noreferrer\" target=\"_blank\"><svg class=\"w-5 h-5\" fill=\"currentColor\" stroke-linecap=\"round\" stroke-linejoin=\"round\" stroke-width=\"2\" viewbox=\"0 0 24 24\"><path d=\"M18 2h-3a5 5 0 00-5 5v3H7v4h3v8h4v-8h3l1-4h-4V7a1 1 0 011-1h3z\"></path></svg></a><a class=\"ml-3 text-gray-500\" href=\"https://www.instagram.com/CodeWithHarry/\" rel=\"noreferrer\" target=\"_blank\"><svg class=\"w-5 h-5\" fill=\"none\" stroke=\"currentColor\" stroke-linecap=\"round\" stroke-linejoin=\"round\" stroke-width=\"2\" viewbox=\"0 0 24 24\"><rect height=\"20\" rx=\"5\" ry=\"5\" width=\"20\" x=\"2\" y=\"2\"></rect><path d=\"M16 11.37A4 4 0 1112.63 8 4 4 0 0116 11.37zm1.5-4.87h.01\"></path></svg></a></span></div></footer></div></div><script id=\"__NEXT_DATA__\" type=\"application/json\">{\"props\":{\"pageProps\":{\"url\":\"https://cwh-apis-strapi-c39h9.ondigitalocean.app\",\"courses\":[{\"previewimg\":[{\"_id\":\"61e70ca3f8fae000115a0eb0\",\"name\":\"tailwind.png\",\"alternativeText\":\"\",\"caption\":\"\",\"hash\":\"e1c843acc10c59c60504cd438a082c6d\",\"ext\":\".png\",\"mime\":\"image/png\",\"size\":629.53,\"width\":1280,\"height\":720,\"url\":\"https://codewithharry.nyc3.cdn.digitaloceanspaces.com/assets/e1c843acc10c59c60504cd438a082c6d.png\",\"formats\":{\"thumbnail\":{\"name\":\"thumbnail_tailwind.png\",\"hash\":\"b7784c44bdbb1e7b8ece1317b0fdc76b\",\"ext\":\".png\",\"mime\":\"image/png\",\"width\":245,\"height\":138,\"size\":64.67,\"path\":null,\"url\":\"https://codewithharry.nyc3.cdn.digitaloceanspaces.com/assets/b7784c44bdbb1e7b8ece1317b0fdc76b.png\"},\"large\":{\"name\":\"large_tailwind.png\",\"hash\":\"74e0ceaabaf311cd95b57023a9b2fe22\",\"ext\":\".png\",\"mime\":\"image/png\",\"width\":1000,\"height\":563,\"size\":694.47,\"path\":null,\"url\":\"https://codewithharry.nyc3.cdn.digitaloceanspaces.com/assets/74e0ceaabaf311cd95b57023a9b2fe22.png\"},\"medium\":{\"name\":\"medium_tailwind.png\",\"hash\":\"92680d2b9cf6eb586b0a84f851d0de74\",\"ext\":\".png\",\"mime\":\"image/png\",\"width\":750,\"height\":422,\"size\":425.65,\"path\":null,\"url\":\"https://codewithharry.nyc3.cdn.digitaloceanspaces.com/assets/92680d2b9cf6eb586b0a84f851d0de74.png\"},\"small\":{\"name\":\"small_tailwind.png\",\"hash\":\"406fa0451668f7448dfbb0e9ab7d4f95\",\"ext\":\".png\",\"mime\":\"image/png\",\"width\":500,\"height\":281,\"size\":212.8,\"path\":null,\"url\":\"https://codewithharry.nyc3.cdn.digitaloceanspaces.com/assets/406fa0451668f7448dfbb0e9ab7d4f95.png\"}},\"provider\":\"do\",\"related\":[\"61d069b36ff03b00118e19cb\"],\"createdAt\":\"2022-01-18T18:53:23.018Z\",\"updatedAt\":\"2022-01-18T19:09:13.557Z\",\"__v\":0,\"id\":\"61e70ca3f8fae000115a0eb0\"}],\"_id\":\"61d069b36ff03b00118e19cb\",\"ytplaylistid\":\"PLu0W_9lII9ahwFDuExCpPFHAK829Wto2O\",\"title\":\"Tailwind Course In Hindi\",\"description\":\"Complete Tailwind CSS Course by CodeWithHarry in Hindi - Learn Tailwind CSS from scratch for free! \",\"firstSlug\":\"tailwind-course-in-hindi-1\",\"published_at\":\"2022-01-01T14:50:36.984Z\",\"createdAt\":\"2022-01-01T14:48:19.035Z\",\"updatedAt\":\"2022-01-18T19:09:13.563Z\",\"__v\":0,\"id\":\"61d069b36ff03b00118e19cb\"},{\"previewimg\":[{\"_id\":\"61f8316049dac1001207e5d1\",\"name\":\"CourseThumb.png\",\"alternativeText\":\"\",\"caption\":\"\",\"hash\":\"62f60049963012281edcc77dd2ec031b\",\"ext\":\".png\",\"mime\":\"image/png\",\"size\":2820.81,\"width\":2933,\"height\":1650,\"url\":\"https://codewithharry.nyc3.cdn.digitaloceanspaces.com/assets/62f60049963012281edcc77dd2ec031b.png\",\"formats\":{\"thumbnail\":{\"name\":\"thumbnail_CourseThumb.png\",\"hash\":\"66f6ae490e06c5e6d59e7e1dcc7910ed\",\"ext\":\".png\",\"mime\":\"image/png\",\"width\":245,\"height\":138,\"size\":74.13,\"path\":null,\"url\":\"https://codewithharry.nyc3.cdn.digitaloceanspaces.com/assets/66f6ae490e06c5e6d59e7e1dcc7910ed.png\"},\"large\":{\"name\":\"large_CourseThumb.png\",\"hash\":\"9165bfd6283ecf476b99403abcb541e0\",\"ext\":\".png\",\"mime\":\"image/png\",\"width\":1000,\"height\":563,\"size\":740.14,\"path\":null,\"url\":\"https://codewithharry.nyc3.cdn.digitaloceanspaces.com/assets/9165bfd6283ecf476b99403abcb541e0.png\"},\"medium\":{\"name\":\"medium_CourseThumb.png\",\"hash\":\"33f7fb46e969d318a97cdd8cf089e041\",\"ext\":\".png\",\"mime\":\"image/png\",\"width\":750,\"height\":422,\"size\":453.67,\"path\":null,\"url\":\"https://codewithharry.nyc3.cdn.digitaloceanspaces.com/assets/33f7fb46e969d318a97cdd8cf089e041.png\"},\"small\":{\"name\":\"small_CourseThumb.png\",\"hash\":\"7ea2ac243e2ed4891e89c05773b720e1\",\"ext\":\".png\",\"mime\":\"image/png\",\"width\":500,\"height\":281,\"size\":234.67,\"path\":null,\"url\":\"https://codewithharry.nyc3.cdn.digitaloceanspaces.com/assets/7ea2ac243e2ed4891e89c05773b720e1.png\"}},\"provider\":\"do\",\"related\":[\"61f82d0d49dac1001207e5cf\"],\"createdAt\":\"2022-01-31T18:58:40.885Z\",\"updatedAt\":\"2022-01-31T19:00:13.920Z\",\"__v\":0,\"id\":\"61f8316049dac1001207e5d1\"}],\"_id\":\"61f82d0d49dac1001207e5cf\",\"title\":\"Next.js Tutorials For Beginners\",\"ytplaylistid\":\"PLu0W_9lII9agtWvR_TZdb_r0dNI8-lDwG\",\"description\":\"Complete Next.js Course by CodeWithHarry in Hindi - Learn Next.js from Scratch.\",\"firstSlug\":\"nextjs-tutorial-in-hindi-1\",\"published_at\":\"2022-01-31T19:00:16.335Z\",\"createdAt\":\"2022-01-31T18:40:13.364Z\",\"updatedAt\":\"2022-01-31T19:00:16.356Z\",\"__v\":0,\"id\":\"61f82d0d49dac1001207e5cf\"},{\"previewimg\":[{\"_id\":\"61e70ca9347e2500114112a9\",\"name\":\"react.png\",\"alternativeText\":\"\",\"caption\":\"\",\"hash\":\"090fefe24d23d47584f6ddc7eb5a241e\",\"ext\":\".png\",\"mime\":\"image/png\",\"size\":931.17,\"width\":1280,\"height\":720,\"url\":\"https://codewithharry.nyc3.cdn.digitaloceanspaces.com/assets/090fefe24d23d47584f6ddc7eb5a241e.png\",\"formats\":{\"thumbnail\":{\"name\":\"thumbnail_react.png\",\"hash\":\"15a81ab0ce496c67d3cd9ad7fb0d909f\",\"ext\":\".png\",\"mime\":\"image/png\",\"width\":245,\"height\":138,\"size\":68.3,\"path\":null,\"url\":\"https://codewithharry.nyc3.cdn.digitaloceanspaces.com/assets/15a81ab0ce496c67d3cd9ad7fb0d909f.png\"},\"large\":{\"name\":\"large_react.png\",\"hash\":\"08506f77c46079f72b27ccd5673b5b9e\",\"ext\":\".png\",\"mime\":\"image/png\",\"width\":1000,\"height\":563,\"size\":807.14,\"path\":null,\"url\":\"https://codewithharry.nyc3.cdn.digitaloceanspaces.com/assets/08506f77c46079f72b27ccd5673b5b9e.png\"},\"medium\":{\"name\":\"medium_react.png\",\"hash\":\"2ab7229461042bc313a149bcda5a75e6\",\"ext\":\".png\",\"mime\":\"image/png\",\"width\":750,\"height\":422,\"size\":478.78,\"path\":null,\"url\":\"https://codewithharry.nyc3.cdn.digitaloceanspaces.com/assets/2ab7229461042bc313a149bcda5a75e6.png\"},\"small\":{\"name\":\"small_react.png\",\"hash\":\"5e0b3db5d79835893b9b2a370c35d35d\",\"ext\":\".png\",\"mime\":\"image/png\",\"width\":500,\"height\":281,\"size\":234.45,\"path\":null,\"url\":\"https://codewithharry.nyc3.cdn.digitaloceanspaces.com/assets/5e0b3db5d79835893b9b2a370c35d35d.png\"}},\"provider\":\"do\",\"related\":[\"61bf15cbb26eda2ecc384ca2\"],\"createdAt\":\"2022-01-18T18:53:29.898Z\",\"updatedAt\":\"2022-01-18T19:08:24.511Z\",\"__v\":0,\"id\":\"61e70ca9347e2500114112a9\"}],\"_id\":\"61bf15cbb26eda2ecc384ca2\",\"title\":\"React Js Tutorials For Beginners\",\"ytplaylistid\":\"PLu0W_9lII9agx66oZnT6IyhcMIbUMNMdt\",\"description\":\"React is a free and open-source front-end JavaScript library. This series will cover React from starting to the end. We will learn react from the ground up!\",\"firstSlug\":\"react-tutorials-in-hindi-1\",\"published_at\":\"2021-12-19T11:21:47.256Z\",\"createdAt\":\"2021-12-19T11:21:47.258Z\",\"updatedAt\":\"2022-01-18T19:08:24.516Z\",\"__v\":0,\"order\":1,\"id\":\"61bf15cbb26eda2ecc384ca2\"}]},\"__N_SSG\":true},\"page\":\"/\",\"query\":{},\"buildId\":\"NMIVj1Cr7P_Tk6BOc0NXN\",\"isFallback\":false,\"gsp\":true,\"scriptLoader\":[]}</script></body>\n",
      "<html lang=\"en\"><head><meta content=\"width=device-width\" name=\"viewport\"/><meta charset=\"utf-8\"/><script async=\"\" crossorigin=\"anonymous\" src=\"https://pagead2.googlesyndication.com/pagead/js/adsbygoogle.js?client=ca-pub-9655830461045889\"></script><script>(function(w,d,s,l,i){w[l]=w[l]||[];w[l].push({'gtm.start':\n",
      "        new Date().getTime(),event:'gtm.js'});var f=d.getElementsByTagName(s)[0],\n",
      "        j=d.createElement(s),dl=l!='dataLayer'?'&l='+l:'';j.async=true;j.src=\n",
      "        'https://www.googletagmanager.com/gtm.js?id='+i+dl;f.parentNode.insertBefore(j,f);\n",
      "        })(window,document,'script','dataLayer','GTM-MCDDKRF');</script><title>Home | CodeWithHarry</title><meta content=\"Welcome to Code With Harry. Code With Harry is my attempt to teach basics and those coding techniques to people in short time which took me ages to learn.\" name=\"description\"/><link href=\"/favicon.ico\" rel=\"icon\"/><meta content=\"7\" name=\"next-head-count\"/><link as=\"style\" href=\"/_next/static/css/95fea26d92efb53e.css\" rel=\"preload\"/><link data-n-g=\"\" href=\"/_next/static/css/95fea26d92efb53e.css\" rel=\"stylesheet\"/><link as=\"style\" href=\"/_next/static/css/39f4d8aba4b66723.css\" rel=\"preload\"/><link data-n-p=\"\" href=\"/_next/static/css/39f4d8aba4b66723.css\" rel=\"stylesheet\"/><noscript data-n-css=\"\"></noscript><script defer=\"\" nomodule=\"\" src=\"/_next/static/chunks/polyfills-5cd94c89d3acac5f.js\"></script><script defer=\"\" src=\"/_next/static/chunks/webpack-cb79fe2bfb796200.js\"></script><script defer=\"\" src=\"/_next/static/chunks/framework-91d7f78b5b4003c8.js\"></script><script defer=\"\" src=\"/_next/static/chunks/main-728af1fb3715c9e8.js\"></script><script defer=\"\" src=\"/_next/static/chunks/pages/_app-7ccd4159d18b03be.js\"></script><script defer=\"\" src=\"/_next/static/chunks/pages/index-afddd706d45453a5.js\"></script><script defer=\"\" src=\"/_next/static/NMIVj1Cr7P_Tk6BOc0NXN/_buildManifest.js\"></script><script defer=\"\" src=\"/_next/static/NMIVj1Cr7P_Tk6BOc0NXN/_ssgManifest.js\"></script><script defer=\"\" src=\"/_next/static/NMIVj1Cr7P_Tk6BOc0NXN/_middlewareManifest.js\"></script></head><body><noscript><iframe height=\"0\" src=\"https://www.googletagmanager.com/ns.html?id=GTM-MCDDKRF\" style=\"display:none;visibility:hidden\" width=\"0\"></iframe></noscript><div id=\"__next\"><div class=\"w-full z-10 sticky bg-white top-0 border-b border-grey-light\"><div class=\"w-full flex flex-wrap items-center lg:justify-between mt-0 py-4 justify-center\"><div class=\"mx-0 px-0 lg:pl-4 flex items-center lg:mx-4\"><span class=\"text-teal-700 no-underline hover:no-underline font-bold text-xl text-purple-800\"><a href=\"/\">CodeWithHarry</a></span></div><div class=\"pr-4 absolute top-1 right-1 pt-3\"><button class=\"lg:hidden flex items-center px-3 py-2 border rounded text-grey border-grey-dark hover:text-black hover:border-purple appearance-none focus:outline-none\"><svg class=\"fill-current h-3 w-3\" viewbox=\"0 0 20 20\" xmlns=\"http://www.w3.org/2000/svg\"><title>Menu</title><path d=\"M0 3h20v2H0V3zm0 6h20v2H0V9zm0 6h20v2H0v-2z\"></path></svg></button></div><div class=\"w-full flex-grow lg:flex lg:flex-1 lg:content-center lg:justify-end lg:w-auto h-0 lg:h-auto overflow-hidden mt-2 lg:mt-0 z-20 transition-all\" id=\"nav-content\"><ul class=\"flex items-center flex-col lg:flex-row\"><div class=\"search-icon cursor-pointer px-6 hidden\" id=\"search-toggle\"><svg class=\"fill-current pointer-events-none text-grey-darkest w-4 h-4 inline\" viewbox=\"0 0 20 20\" xmlns=\"http://www.w3.org/2000/svg\"><path d=\"M12.9 14.32a8 8 0 1 1 1.41-1.41l5.35 5.33-1.42 1.42-5.33-5.34zM8 14A6 6 0 1 0 8 2a6 6 0 0 0 0 12z\"></path></svg></div><li class=\"mx-2 my-2\"><a href=\"/\">Home</a></li><li class=\"mx-2 my-2\"><a href=\"/videos/\">Courses</a></li><li class=\"mx-2 my-2\"><a href=\"/blog/\">Blog</a></li><li class=\"mx-2 my-2\"><a href=\"/contact/\">Contact</a></li></ul><div class=\"text-center my-2 px-4\"><button class=\"text-white bg-purple-700 hover:bg-purple-800 focus:ring-4 focus:ring-purple-300 font-medium rounded-lg text-sm px-3 py-2 text-center inline-flex items-center mx-1\" id=\"login\">Login</button><button class=\"text-white bg-purple-700 hover:bg-purple-800 focus:ring-4 focus:ring-purple-300 font-medium rounded-lg text-sm px-3 py-2 text-center inline-flex items-center mx-1\" id=\"signup\">Signup</button></div></div></div></div><div class=\"relative w-full hidden bg-white shadow-xl\" id=\"search-content\"><div class=\"container mx-auto py-4 text-black\"><input autofocus=\"\" class=\"w-full text-grey-800 transition focus:outline-none focus:border-transparent p-2 appearance-none leading-normal text-xl lg:text-2xl\" id=\"searchfield\" placeholder=\"Search...\" type=\"search\"/></div></div><div class=\"mx-auto my-1\"></div><div class=\"\" style=\"position:fixed;top:0;left:0;height:2px;background:transparent;z-index:99999999999;width:100%\"><div class=\"\" style=\"height:100%;background:purple;transition:all 500ms ease;width:0%\"><div style=\"box-shadow:0 0 10px purple, 0 0 10px purple;width:5%;opacity:1;position:absolute;height:100%;transition:all 500ms ease;transform:rotate(3deg) translate(0px, -4px);left:-10rem\"></div></div></div><div class=\"Home_container__bCOhY\"><div class=\"flex bg-white h-96 container mx-auto\"><div class=\"flex items-center text-center lg:text-left px-8 md:px-12 lg:w-1/2\"><div><h2 class=\"text-3xl font-semibold text-gray-800 md:text-4xl\">Welcome to <span class=\"text-indigo-600\">CodeWithHarry</span></h2><p class=\"mt-2 text-sm text-gray-500 md:text-base\">Confused on which course to take? I have got you covered. Browse courses and find out the best course for you. Its free! Code With Harry is my attempt to teach basics and those coding techniques to people in short time which took me ages to learn.</p><div class=\"flex justify-center lg:justify-start mt-6\"><button class=\"px-3 py-2 lg:px-4 lg:py-3 bg-gray-900 text-gray-200 text-xs font-semibold rounded hover:bg-gray-800\">Free Courses</button><button class=\"px-3 py-2 mx-4 lg:px-4 lg:py-3 bg-gray-300 text-gray-900 text-xs font-semibold rounded hover:bg-gray-400\">Explore Blog</button></div></div></div><div class=\"hidden lg:block lg:w-1/2\" style=\"clip-path:polygon(10% 0, 100% 0%, 100% 100%, 0 100%)\"><div class=\"h-full object-cover\" style=\"background-image:url(https://images.unsplash.com/photo-1498050108023-c5249f4df085?ixlib=rb-1.2.1&amp;ixid=eyJhcHBfaWQiOjEyMDd9&amp;auto=format&amp;fit=crop&amp;w=1352&amp;q=80)\"><div class=\"h-full bg-black opacity-25\"></div></div></div></div><div class=\"container mx-auto lg:my-2\"><h2 class=\"text-3xl font-medium title-font text-gray-900 my-10 text-center\">Recommended Courses</h2><div class=\"flex flex-wrap\"><div class=\"lg:p-4 md:w-1/3 flex justify-center\"><div class=\"max-w-sm rounded-2xl overflow-hidden shadow-lg\"><img alt=\"Tailwind Course In Hindi\" class=\"w-full\" src=\"https://codewithharry.nyc3.cdn.digitaloceanspaces.com/assets/e1c843acc10c59c60504cd438a082c6d.png\"/><div class=\"px-6 py-4 lg:h-52\"><span class=\"tracking-widest text-xs title-font font-medium text-gray-400 mb-1\">Free Course</span><div class=\"title-font text-lg font-medium text-gray-900 mb-3\"><a href=\"/videos/tailwind-course-in-hindi-1/\">Tailwind Course In Hindi</a></div><p class=\"text-gray-700 text-base\">Complete Tailwind CSS Course by CodeWithHarry in Hindi - Learn Tailwind CSS from scratch for free! </p></div><div class=\"px-6 pt-4 pb-2\"><span class=\"inline-block bg-purple-800 rounded-full px-3 py-2 text-sm font-semibold text-white mr-2 mb-2 hover:bg-purple-600 cursor-pointer\"> Start Watching</span></div></div></div><div class=\"lg:p-4 md:w-1/3 flex justify-center\"><div class=\"max-w-sm rounded-2xl overflow-hidden shadow-lg\"><img alt=\"Next.js Tutorials For Beginners\" class=\"w-full\" src=\"https://codewithharry.nyc3.cdn.digitaloceanspaces.com/assets/62f60049963012281edcc77dd2ec031b.png\"/><div class=\"px-6 py-4 lg:h-52\"><span class=\"tracking-widest text-xs title-font font-medium text-gray-400 mb-1\">Free Course</span><div class=\"title-font text-lg font-medium text-gray-900 mb-3\"><a href=\"/videos/nextjs-tutorial-in-hindi-1/\">Next.js Tutorials For Beginners</a></div><p class=\"text-gray-700 text-base\">Complete Next.js Course by CodeWithHarry in Hindi - Learn Next.js from Scratch.</p></div><div class=\"px-6 pt-4 pb-2\"><span class=\"inline-block bg-purple-800 rounded-full px-3 py-2 text-sm font-semibold text-white mr-2 mb-2 hover:bg-purple-600 cursor-pointer\"> Start Watching</span></div></div></div><div class=\"lg:p-4 md:w-1/3 flex justify-center\"><div class=\"max-w-sm rounded-2xl overflow-hidden shadow-lg\"><img alt=\"React Js Tutorials For Beginners\" class=\"w-full\" src=\"https://codewithharry.nyc3.cdn.digitaloceanspaces.com/assets/090fefe24d23d47584f6ddc7eb5a241e.png\"/><div class=\"px-6 py-4 lg:h-52\"><span class=\"tracking-widest text-xs title-font font-medium text-gray-400 mb-1\">Free Course</span><div class=\"title-font text-lg font-medium text-gray-900 mb-3\"><a href=\"/videos/react-tutorials-in-hindi-1/\">React Js Tutorials For Beginners</a></div><p class=\"text-gray-700 text-base\">React is a free and open-source front-end JavaScript library. This series will cover React from starting to the end. We will learn react from the ground up!</p></div><div class=\"px-6 pt-4 pb-2\"><span class=\"inline-block bg-purple-800 rounded-full px-3 py-2 text-sm font-semibold text-white mr-2 mb-2 hover:bg-purple-600 cursor-pointer\"> Start Watching</span></div></div></div></div></div><div class=\"container mx-auto\"><section class=\"text-gray-600 body-font\"><div class=\"container px-5 py-12 mx-auto\"><h2 class=\"text-3xl font-medium title-font text-gray-900 mb-12 text-center\">Testimonials</h2><div class=\"flex flex-wrap -m-4\"><div class=\"p-4 md:w-1/2 w-full\"><div class=\"h-full bg-gray-100 p-8 rounded\"><svg class=\"block w-5 h-5 text-gray-400 mb-4\" fill=\"currentColor\" viewbox=\"0 0 975.036 975.036\" xmlns=\"http://www.w3.org/2000/svg\"><path d=\"M925.036 57.197h-304c-27.6 0-50 22.4-50 50v304c0 27.601 22.4 50 50 50h145.5c-1.9 79.601-20.4 143.3-55.4 191.2-27.6 37.8-69.399 69.1-125.3 93.8-25.7 11.3-36.8 41.7-24.8 67.101l36 76c11.6 24.399 40.3 35.1 65.1 24.399 66.2-28.6 122.101-64.8 167.7-108.8 55.601-53.7 93.7-114.3 114.3-181.9 20.601-67.6 30.9-159.8 30.9-276.8v-239c0-27.599-22.401-50-50-50zM106.036 913.497c65.4-28.5 121-64.699 166.9-108.6 56.1-53.7 94.4-114.1 115-181.2 20.6-67.1 30.899-159.6 30.899-277.5v-239c0-27.6-22.399-50-50-50h-304c-27.6 0-50 22.4-50 50v304c0 27.601 22.4 50 50 50h145.5c-1.9 79.601-20.4 143.3-55.4 191.2-27.6 37.8-69.4 69.1-125.3 93.8-25.7 11.3-36.8 41.7-24.8 67.101l35.9 75.8c11.601 24.399 40.501 35.2 65.301 24.399z\"></path></svg><p class=\"leading-relaxed mb-6\">I don't have words to thank this man, I'm really grateful to have this channel and website in my daily routine. If you're a mere beginner, then you can trust this guy and can put your time into his content. I can assure you that it'll be worth it.</p><span class=\"inline-flex items-center\"><span class=\"flex-grow flex flex-col pl-4\"><span class=\"title-font font-medium text-gray-900\">Mohit Kumar</span><span class=\"text-gray-500 text-sm\">Web Developer</span></span></span></div></div><div class=\"p-4 md:w-1/2 w-full\"><div class=\"h-full bg-gray-100 p-8 rounded\"><svg class=\"block w-5 h-5 text-gray-400 mb-4\" fill=\"currentColor\" viewbox=\"0 0 975.036 975.036\" xmlns=\"http://www.w3.org/2000/svg\"><path d=\"M925.036 57.197h-304c-27.6 0-50 22.4-50 50v304c0 27.601 22.4 50 50 50h145.5c-1.9 79.601-20.4 143.3-55.4 191.2-27.6 37.8-69.399 69.1-125.3 93.8-25.7 11.3-36.8 41.7-24.8 67.101l36 76c11.6 24.399 40.3 35.1 65.1 24.399 66.2-28.6 122.101-64.8 167.7-108.8 55.601-53.7 93.7-114.3 114.3-181.9 20.601-67.6 30.9-159.8 30.9-276.8v-239c0-27.599-22.401-50-50-50zM106.036 913.497c65.4-28.5 121-64.699 166.9-108.6 56.1-53.7 94.4-114.1 115-181.2 20.6-67.1 30.899-159.6 30.899-277.5v-239c0-27.6-22.399-50-50-50h-304c-27.6 0-50 22.4-50 50v304c0 27.601 22.4 50 50 50h145.5c-1.9 79.601-20.4 143.3-55.4 191.2-27.6 37.8-69.4 69.1-125.3 93.8-25.7 11.3-36.8 41.7-24.8 67.101l35.9 75.8c11.601 24.399 40.501 35.2 65.301 24.399z\"></path></svg><p class=\"leading-relaxed mb-6\">For everyone who wants to level up their #Coding and #Dev skills - seriously, this channel is for you! Both basic and advanced stacks are covered on this channel, and one can learn according to his skill levels. And the icing on the cake is, everything is available for free.</p><span class=\"inline-flex items-center\"><span class=\"flex-grow flex flex-col pl-4\"><span class=\"title-font font-medium text-gray-900\">Rakesh Shetty</span><span class=\"text-gray-500 text-sm\">Web Developer</span></span></span></div></div></div></div></section></div></div><div><footer class=\"text-gray-600 body-font mt-8 px-10 bg-white\"><div class=\"px-2 py-4 mx-auto flex items-center sm:flex-row flex-col\"><span class=\"flex title-font font-medium items-center md:justify-start justify-center text-gray-900\"><img class=\"rounded h-12\" src=\"/img/logo-blue.png\"/><span class=\"ml-3 text-xl\">CodeWithHarry</span></span><p class=\"text-sm text-gray-500 sm:ml-4 sm:pl-4 sm:border-l-2 sm:border-gray-200 sm:py-2 sm:mt-0 mt-4 text-center\">Copyright © 2022 CodeWithHarry.com</p><span class=\"inline-flex sm:ml-auto sm:mt-0 mt-4 justify-center sm:justify-start\"><a class=\"text-gray-500\" href=\"https://www.facebook.com/CodeWithHarry/\" rel=\"noreferrer\" target=\"_blank\"><svg class=\"w-5 h-5\" fill=\"currentColor\" stroke-linecap=\"round\" stroke-linejoin=\"round\" stroke-width=\"2\" viewbox=\"0 0 24 24\"><path d=\"M18 2h-3a5 5 0 00-5 5v3H7v4h3v8h4v-8h3l1-4h-4V7a1 1 0 011-1h3z\"></path></svg></a><a class=\"ml-3 text-gray-500\" href=\"https://www.instagram.com/CodeWithHarry/\" rel=\"noreferrer\" target=\"_blank\"><svg class=\"w-5 h-5\" fill=\"none\" stroke=\"currentColor\" stroke-linecap=\"round\" stroke-linejoin=\"round\" stroke-width=\"2\" viewbox=\"0 0 24 24\"><rect height=\"20\" rx=\"5\" ry=\"5\" width=\"20\" x=\"2\" y=\"2\"></rect><path d=\"M16 11.37A4 4 0 1112.63 8 4 4 0 0116 11.37zm1.5-4.87h.01\"></path></svg></a></span></div></footer></div></div><script id=\"__NEXT_DATA__\" type=\"application/json\">{\"props\":{\"pageProps\":{\"url\":\"https://cwh-apis-strapi-c39h9.ondigitalocean.app\",\"courses\":[{\"previewimg\":[{\"_id\":\"61e70ca3f8fae000115a0eb0\",\"name\":\"tailwind.png\",\"alternativeText\":\"\",\"caption\":\"\",\"hash\":\"e1c843acc10c59c60504cd438a082c6d\",\"ext\":\".png\",\"mime\":\"image/png\",\"size\":629.53,\"width\":1280,\"height\":720,\"url\":\"https://codewithharry.nyc3.cdn.digitaloceanspaces.com/assets/e1c843acc10c59c60504cd438a082c6d.png\",\"formats\":{\"thumbnail\":{\"name\":\"thumbnail_tailwind.png\",\"hash\":\"b7784c44bdbb1e7b8ece1317b0fdc76b\",\"ext\":\".png\",\"mime\":\"image/png\",\"width\":245,\"height\":138,\"size\":64.67,\"path\":null,\"url\":\"https://codewithharry.nyc3.cdn.digitaloceanspaces.com/assets/b7784c44bdbb1e7b8ece1317b0fdc76b.png\"},\"large\":{\"name\":\"large_tailwind.png\",\"hash\":\"74e0ceaabaf311cd95b57023a9b2fe22\",\"ext\":\".png\",\"mime\":\"image/png\",\"width\":1000,\"height\":563,\"size\":694.47,\"path\":null,\"url\":\"https://codewithharry.nyc3.cdn.digitaloceanspaces.com/assets/74e0ceaabaf311cd95b57023a9b2fe22.png\"},\"medium\":{\"name\":\"medium_tailwind.png\",\"hash\":\"92680d2b9cf6eb586b0a84f851d0de74\",\"ext\":\".png\",\"mime\":\"image/png\",\"width\":750,\"height\":422,\"size\":425.65,\"path\":null,\"url\":\"https://codewithharry.nyc3.cdn.digitaloceanspaces.com/assets/92680d2b9cf6eb586b0a84f851d0de74.png\"},\"small\":{\"name\":\"small_tailwind.png\",\"hash\":\"406fa0451668f7448dfbb0e9ab7d4f95\",\"ext\":\".png\",\"mime\":\"image/png\",\"width\":500,\"height\":281,\"size\":212.8,\"path\":null,\"url\":\"https://codewithharry.nyc3.cdn.digitaloceanspaces.com/assets/406fa0451668f7448dfbb0e9ab7d4f95.png\"}},\"provider\":\"do\",\"related\":[\"61d069b36ff03b00118e19cb\"],\"createdAt\":\"2022-01-18T18:53:23.018Z\",\"updatedAt\":\"2022-01-18T19:09:13.557Z\",\"__v\":0,\"id\":\"61e70ca3f8fae000115a0eb0\"}],\"_id\":\"61d069b36ff03b00118e19cb\",\"ytplaylistid\":\"PLu0W_9lII9ahwFDuExCpPFHAK829Wto2O\",\"title\":\"Tailwind Course In Hindi\",\"description\":\"Complete Tailwind CSS Course by CodeWithHarry in Hindi - Learn Tailwind CSS from scratch for free! \",\"firstSlug\":\"tailwind-course-in-hindi-1\",\"published_at\":\"2022-01-01T14:50:36.984Z\",\"createdAt\":\"2022-01-01T14:48:19.035Z\",\"updatedAt\":\"2022-01-18T19:09:13.563Z\",\"__v\":0,\"id\":\"61d069b36ff03b00118e19cb\"},{\"previewimg\":[{\"_id\":\"61f8316049dac1001207e5d1\",\"name\":\"CourseThumb.png\",\"alternativeText\":\"\",\"caption\":\"\",\"hash\":\"62f60049963012281edcc77dd2ec031b\",\"ext\":\".png\",\"mime\":\"image/png\",\"size\":2820.81,\"width\":2933,\"height\":1650,\"url\":\"https://codewithharry.nyc3.cdn.digitaloceanspaces.com/assets/62f60049963012281edcc77dd2ec031b.png\",\"formats\":{\"thumbnail\":{\"name\":\"thumbnail_CourseThumb.png\",\"hash\":\"66f6ae490e06c5e6d59e7e1dcc7910ed\",\"ext\":\".png\",\"mime\":\"image/png\",\"width\":245,\"height\":138,\"size\":74.13,\"path\":null,\"url\":\"https://codewithharry.nyc3.cdn.digitaloceanspaces.com/assets/66f6ae490e06c5e6d59e7e1dcc7910ed.png\"},\"large\":{\"name\":\"large_CourseThumb.png\",\"hash\":\"9165bfd6283ecf476b99403abcb541e0\",\"ext\":\".png\",\"mime\":\"image/png\",\"width\":1000,\"height\":563,\"size\":740.14,\"path\":null,\"url\":\"https://codewithharry.nyc3.cdn.digitaloceanspaces.com/assets/9165bfd6283ecf476b99403abcb541e0.png\"},\"medium\":{\"name\":\"medium_CourseThumb.png\",\"hash\":\"33f7fb46e969d318a97cdd8cf089e041\",\"ext\":\".png\",\"mime\":\"image/png\",\"width\":750,\"height\":422,\"size\":453.67,\"path\":null,\"url\":\"https://codewithharry.nyc3.cdn.digitaloceanspaces.com/assets/33f7fb46e969d318a97cdd8cf089e041.png\"},\"small\":{\"name\":\"small_CourseThumb.png\",\"hash\":\"7ea2ac243e2ed4891e89c05773b720e1\",\"ext\":\".png\",\"mime\":\"image/png\",\"width\":500,\"height\":281,\"size\":234.67,\"path\":null,\"url\":\"https://codewithharry.nyc3.cdn.digitaloceanspaces.com/assets/7ea2ac243e2ed4891e89c05773b720e1.png\"}},\"provider\":\"do\",\"related\":[\"61f82d0d49dac1001207e5cf\"],\"createdAt\":\"2022-01-31T18:58:40.885Z\",\"updatedAt\":\"2022-01-31T19:00:13.920Z\",\"__v\":0,\"id\":\"61f8316049dac1001207e5d1\"}],\"_id\":\"61f82d0d49dac1001207e5cf\",\"title\":\"Next.js Tutorials For Beginners\",\"ytplaylistid\":\"PLu0W_9lII9agtWvR_TZdb_r0dNI8-lDwG\",\"description\":\"Complete Next.js Course by CodeWithHarry in Hindi - Learn Next.js from Scratch.\",\"firstSlug\":\"nextjs-tutorial-in-hindi-1\",\"published_at\":\"2022-01-31T19:00:16.335Z\",\"createdAt\":\"2022-01-31T18:40:13.364Z\",\"updatedAt\":\"2022-01-31T19:00:16.356Z\",\"__v\":0,\"id\":\"61f82d0d49dac1001207e5cf\"},{\"previewimg\":[{\"_id\":\"61e70ca9347e2500114112a9\",\"name\":\"react.png\",\"alternativeText\":\"\",\"caption\":\"\",\"hash\":\"090fefe24d23d47584f6ddc7eb5a241e\",\"ext\":\".png\",\"mime\":\"image/png\",\"size\":931.17,\"width\":1280,\"height\":720,\"url\":\"https://codewithharry.nyc3.cdn.digitaloceanspaces.com/assets/090fefe24d23d47584f6ddc7eb5a241e.png\",\"formats\":{\"thumbnail\":{\"name\":\"thumbnail_react.png\",\"hash\":\"15a81ab0ce496c67d3cd9ad7fb0d909f\",\"ext\":\".png\",\"mime\":\"image/png\",\"width\":245,\"height\":138,\"size\":68.3,\"path\":null,\"url\":\"https://codewithharry.nyc3.cdn.digitaloceanspaces.com/assets/15a81ab0ce496c67d3cd9ad7fb0d909f.png\"},\"large\":{\"name\":\"large_react.png\",\"hash\":\"08506f77c46079f72b27ccd5673b5b9e\",\"ext\":\".png\",\"mime\":\"image/png\",\"width\":1000,\"height\":563,\"size\":807.14,\"path\":null,\"url\":\"https://codewithharry.nyc3.cdn.digitaloceanspaces.com/assets/08506f77c46079f72b27ccd5673b5b9e.png\"},\"medium\":{\"name\":\"medium_react.png\",\"hash\":\"2ab7229461042bc313a149bcda5a75e6\",\"ext\":\".png\",\"mime\":\"image/png\",\"width\":750,\"height\":422,\"size\":478.78,\"path\":null,\"url\":\"https://codewithharry.nyc3.cdn.digitaloceanspaces.com/assets/2ab7229461042bc313a149bcda5a75e6.png\"},\"small\":{\"name\":\"small_react.png\",\"hash\":\"5e0b3db5d79835893b9b2a370c35d35d\",\"ext\":\".png\",\"mime\":\"image/png\",\"width\":500,\"height\":281,\"size\":234.45,\"path\":null,\"url\":\"https://codewithharry.nyc3.cdn.digitaloceanspaces.com/assets/5e0b3db5d79835893b9b2a370c35d35d.png\"}},\"provider\":\"do\",\"related\":[\"61bf15cbb26eda2ecc384ca2\"],\"createdAt\":\"2022-01-18T18:53:29.898Z\",\"updatedAt\":\"2022-01-18T19:08:24.511Z\",\"__v\":0,\"id\":\"61e70ca9347e2500114112a9\"}],\"_id\":\"61bf15cbb26eda2ecc384ca2\",\"title\":\"React Js Tutorials For Beginners\",\"ytplaylistid\":\"PLu0W_9lII9agx66oZnT6IyhcMIbUMNMdt\",\"description\":\"React is a free and open-source front-end JavaScript library. This series will cover React from starting to the end. We will learn react from the ground up!\",\"firstSlug\":\"react-tutorials-in-hindi-1\",\"published_at\":\"2021-12-19T11:21:47.256Z\",\"createdAt\":\"2021-12-19T11:21:47.258Z\",\"updatedAt\":\"2022-01-18T19:08:24.516Z\",\"__v\":0,\"order\":1,\"id\":\"61bf15cbb26eda2ecc384ca2\"}]},\"__N_SSG\":true},\"page\":\"/\",\"query\":{},\"buildId\":\"NMIVj1Cr7P_Tk6BOc0NXN\",\"isFallback\":false,\"gsp\":true,\"scriptLoader\":[]}</script></body></html>\n",
      "<!DOCTYPE html>\n",
      "<html lang=\"en\"><head><meta content=\"width=device-width\" name=\"viewport\"/><meta charset=\"utf-8\"/><script async=\"\" crossorigin=\"anonymous\" src=\"https://pagead2.googlesyndication.com/pagead/js/adsbygoogle.js?client=ca-pub-9655830461045889\"></script><script>(function(w,d,s,l,i){w[l]=w[l]||[];w[l].push({'gtm.start':\n",
      "        new Date().getTime(),event:'gtm.js'});var f=d.getElementsByTagName(s)[0],\n",
      "        j=d.createElement(s),dl=l!='dataLayer'?'&l='+l:'';j.async=true;j.src=\n",
      "        'https://www.googletagmanager.com/gtm.js?id='+i+dl;f.parentNode.insertBefore(j,f);\n",
      "        })(window,document,'script','dataLayer','GTM-MCDDKRF');</script><title>Home | CodeWithHarry</title><meta content=\"Welcome to Code With Harry. Code With Harry is my attempt to teach basics and those coding techniques to people in short time which took me ages to learn.\" name=\"description\"/><link href=\"/favicon.ico\" rel=\"icon\"/><meta content=\"7\" name=\"next-head-count\"/><link as=\"style\" href=\"/_next/static/css/95fea26d92efb53e.css\" rel=\"preload\"/><link data-n-g=\"\" href=\"/_next/static/css/95fea26d92efb53e.css\" rel=\"stylesheet\"/><link as=\"style\" href=\"/_next/static/css/39f4d8aba4b66723.css\" rel=\"preload\"/><link data-n-p=\"\" href=\"/_next/static/css/39f4d8aba4b66723.css\" rel=\"stylesheet\"/><noscript data-n-css=\"\"></noscript><script defer=\"\" nomodule=\"\" src=\"/_next/static/chunks/polyfills-5cd94c89d3acac5f.js\"></script><script defer=\"\" src=\"/_next/static/chunks/webpack-cb79fe2bfb796200.js\"></script><script defer=\"\" src=\"/_next/static/chunks/framework-91d7f78b5b4003c8.js\"></script><script defer=\"\" src=\"/_next/static/chunks/main-728af1fb3715c9e8.js\"></script><script defer=\"\" src=\"/_next/static/chunks/pages/_app-7ccd4159d18b03be.js\"></script><script defer=\"\" src=\"/_next/static/chunks/pages/index-afddd706d45453a5.js\"></script><script defer=\"\" src=\"/_next/static/NMIVj1Cr7P_Tk6BOc0NXN/_buildManifest.js\"></script><script defer=\"\" src=\"/_next/static/NMIVj1Cr7P_Tk6BOc0NXN/_ssgManifest.js\"></script><script defer=\"\" src=\"/_next/static/NMIVj1Cr7P_Tk6BOc0NXN/_middlewareManifest.js\"></script></head><body><noscript><iframe height=\"0\" src=\"https://www.googletagmanager.com/ns.html?id=GTM-MCDDKRF\" style=\"display:none;visibility:hidden\" width=\"0\"></iframe></noscript><div id=\"__next\"><div class=\"w-full z-10 sticky bg-white top-0 border-b border-grey-light\"><div class=\"w-full flex flex-wrap items-center lg:justify-between mt-0 py-4 justify-center\"><div class=\"mx-0 px-0 lg:pl-4 flex items-center lg:mx-4\"><span class=\"text-teal-700 no-underline hover:no-underline font-bold text-xl text-purple-800\"><a href=\"/\">CodeWithHarry</a></span></div><div class=\"pr-4 absolute top-1 right-1 pt-3\"><button class=\"lg:hidden flex items-center px-3 py-2 border rounded text-grey border-grey-dark hover:text-black hover:border-purple appearance-none focus:outline-none\"><svg class=\"fill-current h-3 w-3\" viewbox=\"0 0 20 20\" xmlns=\"http://www.w3.org/2000/svg\"><title>Menu</title><path d=\"M0 3h20v2H0V3zm0 6h20v2H0V9zm0 6h20v2H0v-2z\"></path></svg></button></div><div class=\"w-full flex-grow lg:flex lg:flex-1 lg:content-center lg:justify-end lg:w-auto h-0 lg:h-auto overflow-hidden mt-2 lg:mt-0 z-20 transition-all\" id=\"nav-content\"><ul class=\"flex items-center flex-col lg:flex-row\"><div class=\"search-icon cursor-pointer px-6 hidden\" id=\"search-toggle\"><svg class=\"fill-current pointer-events-none text-grey-darkest w-4 h-4 inline\" viewbox=\"0 0 20 20\" xmlns=\"http://www.w3.org/2000/svg\"><path d=\"M12.9 14.32a8 8 0 1 1 1.41-1.41l5.35 5.33-1.42 1.42-5.33-5.34zM8 14A6 6 0 1 0 8 2a6 6 0 0 0 0 12z\"></path></svg></div><li class=\"mx-2 my-2\"><a href=\"/\">Home</a></li><li class=\"mx-2 my-2\"><a href=\"/videos/\">Courses</a></li><li class=\"mx-2 my-2\"><a href=\"/blog/\">Blog</a></li><li class=\"mx-2 my-2\"><a href=\"/contact/\">Contact</a></li></ul><div class=\"text-center my-2 px-4\"><button class=\"text-white bg-purple-700 hover:bg-purple-800 focus:ring-4 focus:ring-purple-300 font-medium rounded-lg text-sm px-3 py-2 text-center inline-flex items-center mx-1\" id=\"login\">Login</button><button class=\"text-white bg-purple-700 hover:bg-purple-800 focus:ring-4 focus:ring-purple-300 font-medium rounded-lg text-sm px-3 py-2 text-center inline-flex items-center mx-1\" id=\"signup\">Signup</button></div></div></div></div><div class=\"relative w-full hidden bg-white shadow-xl\" id=\"search-content\"><div class=\"container mx-auto py-4 text-black\"><input autofocus=\"\" class=\"w-full text-grey-800 transition focus:outline-none focus:border-transparent p-2 appearance-none leading-normal text-xl lg:text-2xl\" id=\"searchfield\" placeholder=\"Search...\" type=\"search\"/></div></div><div class=\"mx-auto my-1\"></div><div class=\"\" style=\"position:fixed;top:0;left:0;height:2px;background:transparent;z-index:99999999999;width:100%\"><div class=\"\" style=\"height:100%;background:purple;transition:all 500ms ease;width:0%\"><div style=\"box-shadow:0 0 10px purple, 0 0 10px purple;width:5%;opacity:1;position:absolute;height:100%;transition:all 500ms ease;transform:rotate(3deg) translate(0px, -4px);left:-10rem\"></div></div></div><div class=\"Home_container__bCOhY\"><div class=\"flex bg-white h-96 container mx-auto\"><div class=\"flex items-center text-center lg:text-left px-8 md:px-12 lg:w-1/2\"><div><h2 class=\"text-3xl font-semibold text-gray-800 md:text-4xl\">Welcome to <span class=\"text-indigo-600\">CodeWithHarry</span></h2><p class=\"mt-2 text-sm text-gray-500 md:text-base\">Confused on which course to take? I have got you covered. Browse courses and find out the best course for you. Its free! Code With Harry is my attempt to teach basics and those coding techniques to people in short time which took me ages to learn.</p><div class=\"flex justify-center lg:justify-start mt-6\"><button class=\"px-3 py-2 lg:px-4 lg:py-3 bg-gray-900 text-gray-200 text-xs font-semibold rounded hover:bg-gray-800\">Free Courses</button><button class=\"px-3 py-2 mx-4 lg:px-4 lg:py-3 bg-gray-300 text-gray-900 text-xs font-semibold rounded hover:bg-gray-400\">Explore Blog</button></div></div></div><div class=\"hidden lg:block lg:w-1/2\" style=\"clip-path:polygon(10% 0, 100% 0%, 100% 100%, 0 100%)\"><div class=\"h-full object-cover\" style=\"background-image:url(https://images.unsplash.com/photo-1498050108023-c5249f4df085?ixlib=rb-1.2.1&amp;ixid=eyJhcHBfaWQiOjEyMDd9&amp;auto=format&amp;fit=crop&amp;w=1352&amp;q=80)\"><div class=\"h-full bg-black opacity-25\"></div></div></div></div><div class=\"container mx-auto lg:my-2\"><h2 class=\"text-3xl font-medium title-font text-gray-900 my-10 text-center\">Recommended Courses</h2><div class=\"flex flex-wrap\"><div class=\"lg:p-4 md:w-1/3 flex justify-center\"><div class=\"max-w-sm rounded-2xl overflow-hidden shadow-lg\"><img alt=\"Tailwind Course In Hindi\" class=\"w-full\" src=\"https://codewithharry.nyc3.cdn.digitaloceanspaces.com/assets/e1c843acc10c59c60504cd438a082c6d.png\"/><div class=\"px-6 py-4 lg:h-52\"><span class=\"tracking-widest text-xs title-font font-medium text-gray-400 mb-1\">Free Course</span><div class=\"title-font text-lg font-medium text-gray-900 mb-3\"><a href=\"/videos/tailwind-course-in-hindi-1/\">Tailwind Course In Hindi</a></div><p class=\"text-gray-700 text-base\">Complete Tailwind CSS Course by CodeWithHarry in Hindi - Learn Tailwind CSS from scratch for free! </p></div><div class=\"px-6 pt-4 pb-2\"><span class=\"inline-block bg-purple-800 rounded-full px-3 py-2 text-sm font-semibold text-white mr-2 mb-2 hover:bg-purple-600 cursor-pointer\"> Start Watching</span></div></div></div><div class=\"lg:p-4 md:w-1/3 flex justify-center\"><div class=\"max-w-sm rounded-2xl overflow-hidden shadow-lg\"><img alt=\"Next.js Tutorials For Beginners\" class=\"w-full\" src=\"https://codewithharry.nyc3.cdn.digitaloceanspaces.com/assets/62f60049963012281edcc77dd2ec031b.png\"/><div class=\"px-6 py-4 lg:h-52\"><span class=\"tracking-widest text-xs title-font font-medium text-gray-400 mb-1\">Free Course</span><div class=\"title-font text-lg font-medium text-gray-900 mb-3\"><a href=\"/videos/nextjs-tutorial-in-hindi-1/\">Next.js Tutorials For Beginners</a></div><p class=\"text-gray-700 text-base\">Complete Next.js Course by CodeWithHarry in Hindi - Learn Next.js from Scratch.</p></div><div class=\"px-6 pt-4 pb-2\"><span class=\"inline-block bg-purple-800 rounded-full px-3 py-2 text-sm font-semibold text-white mr-2 mb-2 hover:bg-purple-600 cursor-pointer\"> Start Watching</span></div></div></div><div class=\"lg:p-4 md:w-1/3 flex justify-center\"><div class=\"max-w-sm rounded-2xl overflow-hidden shadow-lg\"><img alt=\"React Js Tutorials For Beginners\" class=\"w-full\" src=\"https://codewithharry.nyc3.cdn.digitaloceanspaces.com/assets/090fefe24d23d47584f6ddc7eb5a241e.png\"/><div class=\"px-6 py-4 lg:h-52\"><span class=\"tracking-widest text-xs title-font font-medium text-gray-400 mb-1\">Free Course</span><div class=\"title-font text-lg font-medium text-gray-900 mb-3\"><a href=\"/videos/react-tutorials-in-hindi-1/\">React Js Tutorials For Beginners</a></div><p class=\"text-gray-700 text-base\">React is a free and open-source front-end JavaScript library. This series will cover React from starting to the end. We will learn react from the ground up!</p></div><div class=\"px-6 pt-4 pb-2\"><span class=\"inline-block bg-purple-800 rounded-full px-3 py-2 text-sm font-semibold text-white mr-2 mb-2 hover:bg-purple-600 cursor-pointer\"> Start Watching</span></div></div></div></div></div><div class=\"container mx-auto\"><section class=\"text-gray-600 body-font\"><div class=\"container px-5 py-12 mx-auto\"><h2 class=\"text-3xl font-medium title-font text-gray-900 mb-12 text-center\">Testimonials</h2><div class=\"flex flex-wrap -m-4\"><div class=\"p-4 md:w-1/2 w-full\"><div class=\"h-full bg-gray-100 p-8 rounded\"><svg class=\"block w-5 h-5 text-gray-400 mb-4\" fill=\"currentColor\" viewbox=\"0 0 975.036 975.036\" xmlns=\"http://www.w3.org/2000/svg\"><path d=\"M925.036 57.197h-304c-27.6 0-50 22.4-50 50v304c0 27.601 22.4 50 50 50h145.5c-1.9 79.601-20.4 143.3-55.4 191.2-27.6 37.8-69.399 69.1-125.3 93.8-25.7 11.3-36.8 41.7-24.8 67.101l36 76c11.6 24.399 40.3 35.1 65.1 24.399 66.2-28.6 122.101-64.8 167.7-108.8 55.601-53.7 93.7-114.3 114.3-181.9 20.601-67.6 30.9-159.8 30.9-276.8v-239c0-27.599-22.401-50-50-50zM106.036 913.497c65.4-28.5 121-64.699 166.9-108.6 56.1-53.7 94.4-114.1 115-181.2 20.6-67.1 30.899-159.6 30.899-277.5v-239c0-27.6-22.399-50-50-50h-304c-27.6 0-50 22.4-50 50v304c0 27.601 22.4 50 50 50h145.5c-1.9 79.601-20.4 143.3-55.4 191.2-27.6 37.8-69.4 69.1-125.3 93.8-25.7 11.3-36.8 41.7-24.8 67.101l35.9 75.8c11.601 24.399 40.501 35.2 65.301 24.399z\"></path></svg><p class=\"leading-relaxed mb-6\">I don't have words to thank this man, I'm really grateful to have this channel and website in my daily routine. If you're a mere beginner, then you can trust this guy and can put your time into his content. I can assure you that it'll be worth it.</p><span class=\"inline-flex items-center\"><span class=\"flex-grow flex flex-col pl-4\"><span class=\"title-font font-medium text-gray-900\">Mohit Kumar</span><span class=\"text-gray-500 text-sm\">Web Developer</span></span></span></div></div><div class=\"p-4 md:w-1/2 w-full\"><div class=\"h-full bg-gray-100 p-8 rounded\"><svg class=\"block w-5 h-5 text-gray-400 mb-4\" fill=\"currentColor\" viewbox=\"0 0 975.036 975.036\" xmlns=\"http://www.w3.org/2000/svg\"><path d=\"M925.036 57.197h-304c-27.6 0-50 22.4-50 50v304c0 27.601 22.4 50 50 50h145.5c-1.9 79.601-20.4 143.3-55.4 191.2-27.6 37.8-69.399 69.1-125.3 93.8-25.7 11.3-36.8 41.7-24.8 67.101l36 76c11.6 24.399 40.3 35.1 65.1 24.399 66.2-28.6 122.101-64.8 167.7-108.8 55.601-53.7 93.7-114.3 114.3-181.9 20.601-67.6 30.9-159.8 30.9-276.8v-239c0-27.599-22.401-50-50-50zM106.036 913.497c65.4-28.5 121-64.699 166.9-108.6 56.1-53.7 94.4-114.1 115-181.2 20.6-67.1 30.899-159.6 30.899-277.5v-239c0-27.6-22.399-50-50-50h-304c-27.6 0-50 22.4-50 50v304c0 27.601 22.4 50 50 50h145.5c-1.9 79.601-20.4 143.3-55.4 191.2-27.6 37.8-69.4 69.1-125.3 93.8-25.7 11.3-36.8 41.7-24.8 67.101l35.9 75.8c11.601 24.399 40.501 35.2 65.301 24.399z\"></path></svg><p class=\"leading-relaxed mb-6\">For everyone who wants to level up their #Coding and #Dev skills - seriously, this channel is for you! Both basic and advanced stacks are covered on this channel, and one can learn according to his skill levels. And the icing on the cake is, everything is available for free.</p><span class=\"inline-flex items-center\"><span class=\"flex-grow flex flex-col pl-4\"><span class=\"title-font font-medium text-gray-900\">Rakesh Shetty</span><span class=\"text-gray-500 text-sm\">Web Developer</span></span></span></div></div></div></div></section></div></div><div><footer class=\"text-gray-600 body-font mt-8 px-10 bg-white\"><div class=\"px-2 py-4 mx-auto flex items-center sm:flex-row flex-col\"><span class=\"flex title-font font-medium items-center md:justify-start justify-center text-gray-900\"><img class=\"rounded h-12\" src=\"/img/logo-blue.png\"/><span class=\"ml-3 text-xl\">CodeWithHarry</span></span><p class=\"text-sm text-gray-500 sm:ml-4 sm:pl-4 sm:border-l-2 sm:border-gray-200 sm:py-2 sm:mt-0 mt-4 text-center\">Copyright © 2022 CodeWithHarry.com</p><span class=\"inline-flex sm:ml-auto sm:mt-0 mt-4 justify-center sm:justify-start\"><a class=\"text-gray-500\" href=\"https://www.facebook.com/CodeWithHarry/\" rel=\"noreferrer\" target=\"_blank\"><svg class=\"w-5 h-5\" fill=\"currentColor\" stroke-linecap=\"round\" stroke-linejoin=\"round\" stroke-width=\"2\" viewbox=\"0 0 24 24\"><path d=\"M18 2h-3a5 5 0 00-5 5v3H7v4h3v8h4v-8h3l1-4h-4V7a1 1 0 011-1h3z\"></path></svg></a><a class=\"ml-3 text-gray-500\" href=\"https://www.instagram.com/CodeWithHarry/\" rel=\"noreferrer\" target=\"_blank\"><svg class=\"w-5 h-5\" fill=\"none\" stroke=\"currentColor\" stroke-linecap=\"round\" stroke-linejoin=\"round\" stroke-width=\"2\" viewbox=\"0 0 24 24\"><rect height=\"20\" rx=\"5\" ry=\"5\" width=\"20\" x=\"2\" y=\"2\"></rect><path d=\"M16 11.37A4 4 0 1112.63 8 4 4 0 0116 11.37zm1.5-4.87h.01\"></path></svg></a></span></div></footer></div></div><script id=\"__NEXT_DATA__\" type=\"application/json\">{\"props\":{\"pageProps\":{\"url\":\"https://cwh-apis-strapi-c39h9.ondigitalocean.app\",\"courses\":[{\"previewimg\":[{\"_id\":\"61e70ca3f8fae000115a0eb0\",\"name\":\"tailwind.png\",\"alternativeText\":\"\",\"caption\":\"\",\"hash\":\"e1c843acc10c59c60504cd438a082c6d\",\"ext\":\".png\",\"mime\":\"image/png\",\"size\":629.53,\"width\":1280,\"height\":720,\"url\":\"https://codewithharry.nyc3.cdn.digitaloceanspaces.com/assets/e1c843acc10c59c60504cd438a082c6d.png\",\"formats\":{\"thumbnail\":{\"name\":\"thumbnail_tailwind.png\",\"hash\":\"b7784c44bdbb1e7b8ece1317b0fdc76b\",\"ext\":\".png\",\"mime\":\"image/png\",\"width\":245,\"height\":138,\"size\":64.67,\"path\":null,\"url\":\"https://codewithharry.nyc3.cdn.digitaloceanspaces.com/assets/b7784c44bdbb1e7b8ece1317b0fdc76b.png\"},\"large\":{\"name\":\"large_tailwind.png\",\"hash\":\"74e0ceaabaf311cd95b57023a9b2fe22\",\"ext\":\".png\",\"mime\":\"image/png\",\"width\":1000,\"height\":563,\"size\":694.47,\"path\":null,\"url\":\"https://codewithharry.nyc3.cdn.digitaloceanspaces.com/assets/74e0ceaabaf311cd95b57023a9b2fe22.png\"},\"medium\":{\"name\":\"medium_tailwind.png\",\"hash\":\"92680d2b9cf6eb586b0a84f851d0de74\",\"ext\":\".png\",\"mime\":\"image/png\",\"width\":750,\"height\":422,\"size\":425.65,\"path\":null,\"url\":\"https://codewithharry.nyc3.cdn.digitaloceanspaces.com/assets/92680d2b9cf6eb586b0a84f851d0de74.png\"},\"small\":{\"name\":\"small_tailwind.png\",\"hash\":\"406fa0451668f7448dfbb0e9ab7d4f95\",\"ext\":\".png\",\"mime\":\"image/png\",\"width\":500,\"height\":281,\"size\":212.8,\"path\":null,\"url\":\"https://codewithharry.nyc3.cdn.digitaloceanspaces.com/assets/406fa0451668f7448dfbb0e9ab7d4f95.png\"}},\"provider\":\"do\",\"related\":[\"61d069b36ff03b00118e19cb\"],\"createdAt\":\"2022-01-18T18:53:23.018Z\",\"updatedAt\":\"2022-01-18T19:09:13.557Z\",\"__v\":0,\"id\":\"61e70ca3f8fae000115a0eb0\"}],\"_id\":\"61d069b36ff03b00118e19cb\",\"ytplaylistid\":\"PLu0W_9lII9ahwFDuExCpPFHAK829Wto2O\",\"title\":\"Tailwind Course In Hindi\",\"description\":\"Complete Tailwind CSS Course by CodeWithHarry in Hindi - Learn Tailwind CSS from scratch for free! \",\"firstSlug\":\"tailwind-course-in-hindi-1\",\"published_at\":\"2022-01-01T14:50:36.984Z\",\"createdAt\":\"2022-01-01T14:48:19.035Z\",\"updatedAt\":\"2022-01-18T19:09:13.563Z\",\"__v\":0,\"id\":\"61d069b36ff03b00118e19cb\"},{\"previewimg\":[{\"_id\":\"61f8316049dac1001207e5d1\",\"name\":\"CourseThumb.png\",\"alternativeText\":\"\",\"caption\":\"\",\"hash\":\"62f60049963012281edcc77dd2ec031b\",\"ext\":\".png\",\"mime\":\"image/png\",\"size\":2820.81,\"width\":2933,\"height\":1650,\"url\":\"https://codewithharry.nyc3.cdn.digitaloceanspaces.com/assets/62f60049963012281edcc77dd2ec031b.png\",\"formats\":{\"thumbnail\":{\"name\":\"thumbnail_CourseThumb.png\",\"hash\":\"66f6ae490e06c5e6d59e7e1dcc7910ed\",\"ext\":\".png\",\"mime\":\"image/png\",\"width\":245,\"height\":138,\"size\":74.13,\"path\":null,\"url\":\"https://codewithharry.nyc3.cdn.digitaloceanspaces.com/assets/66f6ae490e06c5e6d59e7e1dcc7910ed.png\"},\"large\":{\"name\":\"large_CourseThumb.png\",\"hash\":\"9165bfd6283ecf476b99403abcb541e0\",\"ext\":\".png\",\"mime\":\"image/png\",\"width\":1000,\"height\":563,\"size\":740.14,\"path\":null,\"url\":\"https://codewithharry.nyc3.cdn.digitaloceanspaces.com/assets/9165bfd6283ecf476b99403abcb541e0.png\"},\"medium\":{\"name\":\"medium_CourseThumb.png\",\"hash\":\"33f7fb46e969d318a97cdd8cf089e041\",\"ext\":\".png\",\"mime\":\"image/png\",\"width\":750,\"height\":422,\"size\":453.67,\"path\":null,\"url\":\"https://codewithharry.nyc3.cdn.digitaloceanspaces.com/assets/33f7fb46e969d318a97cdd8cf089e041.png\"},\"small\":{\"name\":\"small_CourseThumb.png\",\"hash\":\"7ea2ac243e2ed4891e89c05773b720e1\",\"ext\":\".png\",\"mime\":\"image/png\",\"width\":500,\"height\":281,\"size\":234.67,\"path\":null,\"url\":\"https://codewithharry.nyc3.cdn.digitaloceanspaces.com/assets/7ea2ac243e2ed4891e89c05773b720e1.png\"}},\"provider\":\"do\",\"related\":[\"61f82d0d49dac1001207e5cf\"],\"createdAt\":\"2022-01-31T18:58:40.885Z\",\"updatedAt\":\"2022-01-31T19:00:13.920Z\",\"__v\":0,\"id\":\"61f8316049dac1001207e5d1\"}],\"_id\":\"61f82d0d49dac1001207e5cf\",\"title\":\"Next.js Tutorials For Beginners\",\"ytplaylistid\":\"PLu0W_9lII9agtWvR_TZdb_r0dNI8-lDwG\",\"description\":\"Complete Next.js Course by CodeWithHarry in Hindi - Learn Next.js from Scratch.\",\"firstSlug\":\"nextjs-tutorial-in-hindi-1\",\"published_at\":\"2022-01-31T19:00:16.335Z\",\"createdAt\":\"2022-01-31T18:40:13.364Z\",\"updatedAt\":\"2022-01-31T19:00:16.356Z\",\"__v\":0,\"id\":\"61f82d0d49dac1001207e5cf\"},{\"previewimg\":[{\"_id\":\"61e70ca9347e2500114112a9\",\"name\":\"react.png\",\"alternativeText\":\"\",\"caption\":\"\",\"hash\":\"090fefe24d23d47584f6ddc7eb5a241e\",\"ext\":\".png\",\"mime\":\"image/png\",\"size\":931.17,\"width\":1280,\"height\":720,\"url\":\"https://codewithharry.nyc3.cdn.digitaloceanspaces.com/assets/090fefe24d23d47584f6ddc7eb5a241e.png\",\"formats\":{\"thumbnail\":{\"name\":\"thumbnail_react.png\",\"hash\":\"15a81ab0ce496c67d3cd9ad7fb0d909f\",\"ext\":\".png\",\"mime\":\"image/png\",\"width\":245,\"height\":138,\"size\":68.3,\"path\":null,\"url\":\"https://codewithharry.nyc3.cdn.digitaloceanspaces.com/assets/15a81ab0ce496c67d3cd9ad7fb0d909f.png\"},\"large\":{\"name\":\"large_react.png\",\"hash\":\"08506f77c46079f72b27ccd5673b5b9e\",\"ext\":\".png\",\"mime\":\"image/png\",\"width\":1000,\"height\":563,\"size\":807.14,\"path\":null,\"url\":\"https://codewithharry.nyc3.cdn.digitaloceanspaces.com/assets/08506f77c46079f72b27ccd5673b5b9e.png\"},\"medium\":{\"name\":\"medium_react.png\",\"hash\":\"2ab7229461042bc313a149bcda5a75e6\",\"ext\":\".png\",\"mime\":\"image/png\",\"width\":750,\"height\":422,\"size\":478.78,\"path\":null,\"url\":\"https://codewithharry.nyc3.cdn.digitaloceanspaces.com/assets/2ab7229461042bc313a149bcda5a75e6.png\"},\"small\":{\"name\":\"small_react.png\",\"hash\":\"5e0b3db5d79835893b9b2a370c35d35d\",\"ext\":\".png\",\"mime\":\"image/png\",\"width\":500,\"height\":281,\"size\":234.45,\"path\":null,\"url\":\"https://codewithharry.nyc3.cdn.digitaloceanspaces.com/assets/5e0b3db5d79835893b9b2a370c35d35d.png\"}},\"provider\":\"do\",\"related\":[\"61bf15cbb26eda2ecc384ca2\"],\"createdAt\":\"2022-01-18T18:53:29.898Z\",\"updatedAt\":\"2022-01-18T19:08:24.511Z\",\"__v\":0,\"id\":\"61e70ca9347e2500114112a9\"}],\"_id\":\"61bf15cbb26eda2ecc384ca2\",\"title\":\"React Js Tutorials For Beginners\",\"ytplaylistid\":\"PLu0W_9lII9agx66oZnT6IyhcMIbUMNMdt\",\"description\":\"React is a free and open-source front-end JavaScript library. This series will cover React from starting to the end. We will learn react from the ground up!\",\"firstSlug\":\"react-tutorials-in-hindi-1\",\"published_at\":\"2021-12-19T11:21:47.256Z\",\"createdAt\":\"2021-12-19T11:21:47.258Z\",\"updatedAt\":\"2022-01-18T19:08:24.516Z\",\"__v\":0,\"order\":1,\"id\":\"61bf15cbb26eda2ecc384ca2\"}]},\"__N_SSG\":true},\"page\":\"/\",\"query\":{},\"buildId\":\"NMIVj1Cr7P_Tk6BOc0NXN\",\"isFallback\":false,\"gsp\":true,\"scriptLoader\":[]}</script></body></html>\n"
     ]
    }
   ],
   "source": [
    "for item in searchcontent.parents:\n",
    "    print(item)"
   ]
  },
  {
   "cell_type": "code",
   "execution_count": 78,
   "metadata": {},
   "outputs": [
    {
     "name": "stdout",
     "output_type": "stream",
     "text": [
      "div\n",
      "body\n",
      "html\n",
      "[document]\n"
     ]
    }
   ],
   "source": [
    "for item in searchcontent.parents:\n",
    "    print(item.name)"
   ]
  },
  {
   "cell_type": "code",
   "execution_count": 79,
   "metadata": {},
   "outputs": [
    {
     "data": {
      "text/plain": [
       "<div class=\"mx-auto my-1\"></div>"
      ]
     },
     "execution_count": 79,
     "metadata": {},
     "output_type": "execute_result"
    }
   ],
   "source": [
    "searchcontent.next_sibling"
   ]
  },
  {
   "cell_type": "code",
   "execution_count": 80,
   "metadata": {},
   "outputs": [
    {
     "data": {
      "text/plain": [
       "<div class=\"\" style=\"position:fixed;top:0;left:0;height:2px;background:transparent;z-index:99999999999;width:100%\"><div class=\"\" style=\"height:100%;background:purple;transition:all 500ms ease;width:0%\"><div style=\"box-shadow:0 0 10px purple, 0 0 10px purple;width:5%;opacity:1;position:absolute;height:100%;transition:all 500ms ease;transform:rotate(3deg) translate(0px, -4px);left:-10rem\"></div></div></div>"
      ]
     },
     "execution_count": 80,
     "metadata": {},
     "output_type": "execute_result"
    }
   ],
   "source": [
    "searchcontent.next_sibling.next_sibling"
   ]
  },
  {
   "cell_type": "code",
   "execution_count": 81,
   "metadata": {},
   "outputs": [
    {
     "data": {
      "text/plain": [
       "<div class=\"w-full z-10 sticky bg-white top-0 border-b border-grey-light\"><div class=\"w-full flex flex-wrap items-center lg:justify-between mt-0 py-4 justify-center\"><div class=\"mx-0 px-0 lg:pl-4 flex items-center lg:mx-4\"><span class=\"text-teal-700 no-underline hover:no-underline font-bold text-xl text-purple-800\"><a href=\"/\">CodeWithHarry</a></span></div><div class=\"pr-4 absolute top-1 right-1 pt-3\"><button class=\"lg:hidden flex items-center px-3 py-2 border rounded text-grey border-grey-dark hover:text-black hover:border-purple appearance-none focus:outline-none\"><svg class=\"fill-current h-3 w-3\" viewbox=\"0 0 20 20\" xmlns=\"http://www.w3.org/2000/svg\"><title>Menu</title><path d=\"M0 3h20v2H0V3zm0 6h20v2H0V9zm0 6h20v2H0v-2z\"></path></svg></button></div><div class=\"w-full flex-grow lg:flex lg:flex-1 lg:content-center lg:justify-end lg:w-auto h-0 lg:h-auto overflow-hidden mt-2 lg:mt-0 z-20 transition-all\" id=\"nav-content\"><ul class=\"flex items-center flex-col lg:flex-row\"><div class=\"search-icon cursor-pointer px-6 hidden\" id=\"search-toggle\"><svg class=\"fill-current pointer-events-none text-grey-darkest w-4 h-4 inline\" viewbox=\"0 0 20 20\" xmlns=\"http://www.w3.org/2000/svg\"><path d=\"M12.9 14.32a8 8 0 1 1 1.41-1.41l5.35 5.33-1.42 1.42-5.33-5.34zM8 14A6 6 0 1 0 8 2a6 6 0 0 0 0 12z\"></path></svg></div><li class=\"mx-2 my-2\"><a href=\"/\">Home</a></li><li class=\"mx-2 my-2\"><a href=\"/videos/\">Courses</a></li><li class=\"mx-2 my-2\"><a href=\"/blog/\">Blog</a></li><li class=\"mx-2 my-2\"><a href=\"/contact/\">Contact</a></li></ul><div class=\"text-center my-2 px-4\"><button class=\"text-white bg-purple-700 hover:bg-purple-800 focus:ring-4 focus:ring-purple-300 font-medium rounded-lg text-sm px-3 py-2 text-center inline-flex items-center mx-1\" id=\"login\">Login</button><button class=\"text-white bg-purple-700 hover:bg-purple-800 focus:ring-4 focus:ring-purple-300 font-medium rounded-lg text-sm px-3 py-2 text-center inline-flex items-center mx-1\" id=\"signup\">Signup</button></div></div></div></div>"
      ]
     },
     "execution_count": 81,
     "metadata": {},
     "output_type": "execute_result"
    }
   ],
   "source": [
    "searchcontent.previous_sibling"
   ]
  },
  {
   "cell_type": "code",
   "execution_count": 82,
   "metadata": {},
   "outputs": [],
   "source": [
    "searchcontent.previous_sibling.previous_sibling"
   ]
  },
  {
   "cell_type": "code",
   "execution_count": 83,
   "metadata": {},
   "outputs": [
    {
     "data": {
      "text/plain": [
       "[]"
      ]
     },
     "execution_count": 83,
     "metadata": {},
     "output_type": "execute_result"
    }
   ],
   "source": [
    "elem = soup.select('.container mx-auto py-4 text-black')\n",
    "elem"
   ]
  },
  {
   "cell_type": "markdown",
   "metadata": {},
   "source": [
    "### Example\n",
    "\n",
    "Extracting a single day's weather forecast."
   ]
  },
  {
   "cell_type": "code",
   "execution_count": 84,
   "metadata": {},
   "outputs": [
    {
     "name": "stdout",
     "output_type": "stream",
     "text": [
      "<div class=\"tombstone-container\">\n",
      " <p class=\"period-name\">\n",
      "  Today\n",
      "  <br/>\n",
      "  <br/>\n",
      " </p>\n",
      " <p>\n",
      "  <img alt=\"Today: Sunny, with a high near 68. North wind around 6 mph. \" class=\"forecast-icon\" src=\"newimages/medium/few.png\" title=\"Today: Sunny, with a high near 68. North wind around 6 mph. \"/>\n",
      " </p>\n",
      " <p class=\"short-desc\">\n",
      "  Sunny\n",
      " </p>\n",
      " <p class=\"temp temp-high\">\n",
      "  High: 68 °F\n",
      " </p>\n",
      "</div>\n"
     ]
    }
   ],
   "source": [
    "page = requests.get(\"https://forecast.weather.gov/MapClick.php?lat=37.7772&lon=-122.4168\")\n",
    "soup = BeautifulSoup(page.content, 'html.parser')\n",
    "seven_day = soup.find(id=\"seven-day-forecast\")\n",
    "forecast_items = seven_day.find_all(class_=\"tombstone-container\")\n",
    "tonight = forecast_items[0]\n",
    "print(tonight.prettify())"
   ]
  },
  {
   "cell_type": "code",
   "execution_count": 85,
   "metadata": {},
   "outputs": [
    {
     "name": "stdout",
     "output_type": "stream",
     "text": [
      "Today\n",
      "Sunny\n",
      "High: 68 °F\n"
     ]
    }
   ],
   "source": [
    "period = tonight.find(class_=\"period-name\").get_text()\n",
    "short_desc = tonight.find(class_=\"short-desc\").get_text()\n",
    "temp = tonight.find(class_=\"temp\").get_text()\n",
    "print(period)\n",
    "print(short_desc)\n",
    "print(temp)"
   ]
  },
  {
   "cell_type": "code",
   "execution_count": 86,
   "metadata": {},
   "outputs": [
    {
     "name": "stdout",
     "output_type": "stream",
     "text": [
      "Today: Sunny, with a high near 68. North wind around 6 mph. \n"
     ]
    }
   ],
   "source": [
    "img = tonight.find(\"img\")\n",
    "desc = img['title']\n",
    "print(desc)"
   ]
  },
  {
   "cell_type": "markdown",
   "metadata": {},
   "source": [
    "Extracting all the information from the page"
   ]
  },
  {
   "cell_type": "code",
   "execution_count": 87,
   "metadata": {},
   "outputs": [
    {
     "data": {
      "text/plain": [
       "['Today',\n",
       " 'Tonight',\n",
       " 'Tuesday',\n",
       " 'TuesdayNight',\n",
       " 'Wednesday',\n",
       " 'WednesdayNight',\n",
       " 'Thursday',\n",
       " 'ThursdayNight',\n",
       " 'Friday']"
      ]
     },
     "execution_count": 87,
     "metadata": {},
     "output_type": "execute_result"
    }
   ],
   "source": [
    "period_tags = seven_day.select(\".tombstone-container .period-name\")\n",
    "periods = [pt.get_text() for pt in period_tags]\n",
    "periods"
   ]
  },
  {
   "cell_type": "code",
   "execution_count": 88,
   "metadata": {},
   "outputs": [
    {
     "name": "stdout",
     "output_type": "stream",
     "text": [
      "['Sunny', 'Mostly Clear', 'Sunny', 'Mostly Clear', 'Sunny', 'Clear', 'Sunny', 'Mostly Clear', 'Sunny']\n",
      "['High: 68 °F', 'Low: 47 °F', 'High: 70 °F', 'Low: 49 °F', 'High: 74 °F', 'Low: 51 °F', 'High: 74 °F', 'Low: 50 °F', 'High: 73 °F']\n",
      "['Today: Sunny, with a high near 68. North wind around 6 mph. ', 'Tonight: Mostly clear, with a low around 47. North wind 5 to 10 mph. ', 'Tuesday: Sunny, with a high near 70. North northwest wind 6 to 9 mph. ', 'Tuesday Night: Mostly clear, with a low around 49. West wind 5 to 7 mph becoming calm  in the evening. ', 'Wednesday: Sunny, with a high near 74. North northeast wind 5 to 9 mph. ', 'Wednesday Night: Clear, with a low around 51.', 'Thursday: Sunny, with a high near 74.', 'Thursday Night: Mostly clear, with a low around 50.', 'Friday: Sunny, with a high near 73.']\n"
     ]
    }
   ],
   "source": [
    "short_descs = [sd.get_text() for sd in seven_day.select(\".tombstone-container .short-desc\")]\n",
    "temps = [t.get_text() for t in seven_day.select(\".tombstone-container .temp\")]\n",
    "descs = [d[\"title\"] for d in seven_day.select(\".tombstone-container img\")]\n",
    "print(short_descs)\n",
    "print(temps)\n",
    "print(descs)"
   ]
  },
  {
   "cell_type": "code",
   "execution_count": 89,
   "metadata": {},
   "outputs": [
    {
     "data": {
      "text/html": [
       "<div>\n",
       "<style scoped>\n",
       "    .dataframe tbody tr th:only-of-type {\n",
       "        vertical-align: middle;\n",
       "    }\n",
       "\n",
       "    .dataframe tbody tr th {\n",
       "        vertical-align: top;\n",
       "    }\n",
       "\n",
       "    .dataframe thead th {\n",
       "        text-align: right;\n",
       "    }\n",
       "</style>\n",
       "<table border=\"1\" class=\"dataframe\">\n",
       "  <thead>\n",
       "    <tr style=\"text-align: right;\">\n",
       "      <th></th>\n",
       "      <th>period</th>\n",
       "      <th>short_desc</th>\n",
       "      <th>temp</th>\n",
       "      <th>desc</th>\n",
       "    </tr>\n",
       "  </thead>\n",
       "  <tbody>\n",
       "    <tr>\n",
       "      <th>0</th>\n",
       "      <td>Today</td>\n",
       "      <td>Sunny</td>\n",
       "      <td>High: 68 °F</td>\n",
       "      <td>Today: Sunny, with a high near 68. North wind ...</td>\n",
       "    </tr>\n",
       "    <tr>\n",
       "      <th>1</th>\n",
       "      <td>Tonight</td>\n",
       "      <td>Mostly Clear</td>\n",
       "      <td>Low: 47 °F</td>\n",
       "      <td>Tonight: Mostly clear, with a low around 47. N...</td>\n",
       "    </tr>\n",
       "    <tr>\n",
       "      <th>2</th>\n",
       "      <td>Tuesday</td>\n",
       "      <td>Sunny</td>\n",
       "      <td>High: 70 °F</td>\n",
       "      <td>Tuesday: Sunny, with a high near 70. North nor...</td>\n",
       "    </tr>\n",
       "    <tr>\n",
       "      <th>3</th>\n",
       "      <td>TuesdayNight</td>\n",
       "      <td>Mostly Clear</td>\n",
       "      <td>Low: 49 °F</td>\n",
       "      <td>Tuesday Night: Mostly clear, with a low around...</td>\n",
       "    </tr>\n",
       "    <tr>\n",
       "      <th>4</th>\n",
       "      <td>Wednesday</td>\n",
       "      <td>Sunny</td>\n",
       "      <td>High: 74 °F</td>\n",
       "      <td>Wednesday: Sunny, with a high near 74. North n...</td>\n",
       "    </tr>\n",
       "    <tr>\n",
       "      <th>5</th>\n",
       "      <td>WednesdayNight</td>\n",
       "      <td>Clear</td>\n",
       "      <td>Low: 51 °F</td>\n",
       "      <td>Wednesday Night: Clear, with a low around 51.</td>\n",
       "    </tr>\n",
       "    <tr>\n",
       "      <th>6</th>\n",
       "      <td>Thursday</td>\n",
       "      <td>Sunny</td>\n",
       "      <td>High: 74 °F</td>\n",
       "      <td>Thursday: Sunny, with a high near 74.</td>\n",
       "    </tr>\n",
       "    <tr>\n",
       "      <th>7</th>\n",
       "      <td>ThursdayNight</td>\n",
       "      <td>Mostly Clear</td>\n",
       "      <td>Low: 50 °F</td>\n",
       "      <td>Thursday Night: Mostly clear, with a low aroun...</td>\n",
       "    </tr>\n",
       "    <tr>\n",
       "      <th>8</th>\n",
       "      <td>Friday</td>\n",
       "      <td>Sunny</td>\n",
       "      <td>High: 73 °F</td>\n",
       "      <td>Friday: Sunny, with a high near 73.</td>\n",
       "    </tr>\n",
       "  </tbody>\n",
       "</table>\n",
       "</div>"
      ],
      "text/plain": [
       "           period    short_desc         temp  \\\n",
       "0           Today         Sunny  High: 68 °F   \n",
       "1         Tonight  Mostly Clear   Low: 47 °F   \n",
       "2         Tuesday         Sunny  High: 70 °F   \n",
       "3    TuesdayNight  Mostly Clear   Low: 49 °F   \n",
       "4       Wednesday         Sunny  High: 74 °F   \n",
       "5  WednesdayNight         Clear   Low: 51 °F   \n",
       "6        Thursday         Sunny  High: 74 °F   \n",
       "7   ThursdayNight  Mostly Clear   Low: 50 °F   \n",
       "8          Friday         Sunny  High: 73 °F   \n",
       "\n",
       "                                                desc  \n",
       "0  Today: Sunny, with a high near 68. North wind ...  \n",
       "1  Tonight: Mostly clear, with a low around 47. N...  \n",
       "2  Tuesday: Sunny, with a high near 70. North nor...  \n",
       "3  Tuesday Night: Mostly clear, with a low around...  \n",
       "4  Wednesday: Sunny, with a high near 74. North n...  \n",
       "5      Wednesday Night: Clear, with a low around 51.  \n",
       "6              Thursday: Sunny, with a high near 74.  \n",
       "7  Thursday Night: Mostly clear, with a low aroun...  \n",
       "8                Friday: Sunny, with a high near 73.  "
      ]
     },
     "execution_count": 89,
     "metadata": {},
     "output_type": "execute_result"
    }
   ],
   "source": [
    "import pandas as pd\n",
    "weather = pd.DataFrame({\n",
    "    \"period\": periods,\n",
    "    \"short_desc\": short_descs,\n",
    "    \"temp\": temps,\n",
    "    \"desc\":descs\n",
    "})\n",
    "weather"
   ]
  },
  {
   "cell_type": "markdown",
   "metadata": {},
   "source": [
    "\n",
    "scrape website and save quotes from website"
   ]
  },
  {
   "cell_type": "code",
   "execution_count": 90,
   "metadata": {},
   "outputs": [
    {
     "name": "stdout",
     "output_type": "stream",
     "text": [
      "Bad things do happen; how I respond to them defines my character and the quality of my life. I can choose to sit in perpetual sadness... or I can choose to rise from the pain and treasure the most precious gift I have—life itself.\n",
      "Having somewhere to go is home, having someone to love is family, having both is blessing.\n",
      "Failure cannot cope with persistence.\n",
      "Show me someone who has done something worthwhile, and I’ll show you someone who has overcome adversity.\n",
      "To persist with a goal, you must treasure the dream more than the costs of sacrifice to attain it.\n",
      "Do your little bit of good where you are; its those little bits of good put together that overwhelm the world.\n",
      "At 211 degrees, water is hot. At 212 degrees, it boils. And with boiling water, comes steam. And with steam, you can power a train. \n",
      "You keep putting one foot in front of the other, and then one day you look back and you've climbed a mountain.\n",
      "The creative is the place where no one else has ever been. You have to leave the city of your comfort and go into the wilderness of your intuition.\n",
      "The key of persistence opens all doors closed by resistance.\n",
      " The most important thing is to try and inspire people so that they can be great in whatever they want to do.\n",
      "Just as one cannot live without dreams, one cannot live without hope. If dreams reflect the past, hope summons the future.\n",
      "What greater thing is there for human souls than to feel that they are joined for life - to be with each other in silent unspeakable memories.\n",
      "When we strive to become better than we are, everything around us becomes better, too.\n",
      "Hope is a state of mind, not of the world. Hope, in this deep and powerful sense, is not the same as joy that things are going well…, but rather an ability to work for something because it is good.\n",
      "Creativity requires the courage to let go of certainties.\n",
      "It's not the load that breaks you down, it's the way you carry it.\n",
      "A highly developed values system is like a compass. It serves as a guide to point you in the right direction when you are lost.\n",
      "Though no one can go back and make a brand new start, anyone can start from now and make a brand new ending.\n",
      "It didn’t matter how big our house was; it mattered that there was love in it.\n",
      "Creativity is allowing yourself to make mistakes. Art is knowing which ones to keep.\n",
      "Creative people do not see things for what they are; they see them for what they can be.\n",
      "There was never a night or a problem that could defeat sunrise or hope.\n",
      "I am the me I choose to be.\n",
      "Just don’t give up trying what you really want to do. Where there is love and inspiration, I don’t think you can go wrong.\n",
      "The bond that links your true family is not one of blood, but of respect and joy in each other's life. Rarely do members of one family grow up under the same roof.\n",
      "This is my wish for you: peace of mind, prosperity through the year, happiness that multiplies, health for you and yours, fun around every corner, energy to chase your dreams, joy to fill your holidays!\n",
      "We have always held to the hope, the belief, the conviction that there is a better life, a better world, beyond the horizon.\n",
      "If you can't fly then run, if you can't run then walk, if you can't walk then crawl, but whatever you do you have to keep moving forward.\n",
      "Hope smiles from the threshold of the year to come, whispering 'it will be happier'...\n",
      "Getting over a painful experience is much like crossing monkey bars. You have to let go at some point in order to move forward.\n",
      "There are good ships and wood ships, ships that sail the sea, but the best ships are friendships, may they always be!\n"
     ]
    }
   ],
   "source": [
    "import requests\n",
    "from bs4 import BeautifulSoup\n",
    "import csv\n",
    "   \n",
    "URL = \"http://www.values.com/inspirational-quotes\"\n",
    "r = requests.get(URL)\n",
    "   \n",
    "soup = BeautifulSoup(r.content, 'html5lib')\n",
    "   \n",
    "quotes=[]  # a list to store quotes\n",
    "   \n",
    "table = soup.find('div', attrs = {'id':'all_quotes'}) \n",
    "   \n",
    "quotes = {*\"\"} # a set to store quotes\n",
    "for row in table.findAll('div',\n",
    "                         attrs = {'class':'col-6 col-lg-3 text-center margin-30px-bottom sm-margin-30px-top'}):\n",
    "    quote = row.img['alt'].split(\" #\")[0]\n",
    "    quotes.add(quote)\n",
    "   \n",
    "for quote in quotes:\n",
    "    print(quote)"
   ]
  }
 ],
 "metadata": {
  "interpreter": {
   "hash": "f5fcd04f47f33b9e0f6ea85f02011428fdeda1d6eb9d38dea119125ff144daf0"
  },
  "kernelspec": {
   "display_name": "Python 3.6.12 ('data_science')",
   "language": "python",
   "name": "python3"
  },
  "language_info": {
   "codemirror_mode": {
    "name": "ipython",
    "version": 3
   },
   "file_extension": ".py",
   "mimetype": "text/x-python",
   "name": "python",
   "nbconvert_exporter": "python",
   "pygments_lexer": "ipython3",
   "version": "3.6.12"
  },
  "orig_nbformat": 4
 },
 "nbformat": 4,
 "nbformat_minor": 2
}
