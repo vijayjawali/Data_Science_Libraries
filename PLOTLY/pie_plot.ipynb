{
 "cells": [
  {
   "cell_type": "markdown",
   "metadata": {},
   "source": [
    "A **pie chart** is a circular analytical chart, which is divided into region to symbolize numerical percentage. In px.pie, data anticipated by the sectors of the pie to set the values. All  sector  are classify in names. Pie chart is used usually to show the percentage with next corresponding slice of pie. Pie chart helps to make understand well because of its different portions and color codings."
   ]
  },
  {
   "cell_type": "markdown",
   "metadata": {},
   "source": [
    "**Syntax:** plotly.express.pie(data_frame=None, names=None, values=None, color=None, color_discrete_sequence=None, color_discrete_map={}, hover_name=None, hover_data=None, custom_data=None, labels={}, title=None, template=None, width=None, height=None, opacity=None, hole=None)"
   ]
  },
  {
   "cell_type": "markdown",
   "metadata": {},
   "source": [
    "**Parameters:**\n",
    "\n",
    "|Name|Value|Description|\n",
    "|------|------|------|\n",
    "|data_frame|DataFrame or array-like or dict|This argument needs to be passed for column names (and not keyword names) to be used. Array-like and dict are transformed internally to a pandas DataFrame. Optional: if missing, a DataFrame gets constructed under the hood using the other arguments|\n",
    "|names|str or int or Series or array-like|Either a name of a column in data_frame, or a pandas Series or array_like object. Values from this column or array_like are used as labels for sectors.|\n",
    "|values|str or int or Series or array-like|Either a name of a column in data_frame, or a pandas Series or array_like object. Values from this column or array_like are used to set values associated to sectors.|\n",
    "|color|str or int or Series or array-like|Either a name of a column in data_frame, or a pandas Series or array_like object. Values from this column or array_like are used to assign color to marks.|"
   ]
  },
  {
   "cell_type": "code",
   "execution_count": 1,
   "metadata": {},
   "outputs": [
    {
     "data": {
      "text/plain": [
       "'pie_plot_one.html'"
      ]
     },
     "execution_count": 1,
     "metadata": {},
     "output_type": "execute_result"
    }
   ],
   "source": [
    "import plotly.offline as pyo\n",
    "import plotly.express as px\n",
    "import numpy as np\n",
    "\n",
    "# Random Data\n",
    "random_x = [100, 2000, 550]\n",
    "names = ['A', 'B', 'C']\n",
    "\n",
    "fig = px.pie(values=random_x, names=names)\n",
    "\n",
    "pyo.plot(fig, filename='pie_plot_one.html')"
   ]
  },
  {
   "cell_type": "code",
   "execution_count": 2,
   "metadata": {},
   "outputs": [
    {
     "data": {
      "text/plain": [
       "'pie_plot_two.html'"
      ]
     },
     "execution_count": 2,
     "metadata": {},
     "output_type": "execute_result"
    }
   ],
   "source": [
    "import plotly.express as px\n",
    "\n",
    "# Loading the iris dataset\n",
    "df = px.data.iris()\n",
    "\n",
    "fig = px.pie(df, values=\"sepal_width\", names=\"species\")\n",
    "\n",
    "pyo.plot(fig, filename='pie_plot_two.html')"
   ]
  },
  {
   "cell_type": "code",
   "execution_count": 3,
   "metadata": {},
   "outputs": [
    {
     "data": {
      "text/plain": [
       "'pie_plot_three.html'"
      ]
     },
     "execution_count": 3,
     "metadata": {},
     "output_type": "execute_result"
    }
   ],
   "source": [
    "import plotly.express as px\n",
    "\n",
    "# Loading the iris dataset\n",
    "df = px.data.iris()\n",
    "\n",
    "fig = px.pie(df, values=\"sepal_width\", names=\"species\",\n",
    "\t\t\ttitle='Iris Dataset', hover_data=['sepal_length'])\n",
    "\n",
    "pyo.plot(fig, filename='pie_plot_three.html')"
   ]
  },
  {
   "cell_type": "code",
   "execution_count": 4,
   "metadata": {},
   "outputs": [
    {
     "data": {
      "text/plain": [
       "'pie_plot_four.html'"
      ]
     },
     "execution_count": 4,
     "metadata": {},
     "output_type": "execute_result"
    }
   ],
   "source": [
    "import plotly.express as px\n",
    "\n",
    "# Loading the iris dataset\n",
    "df = px.data.iris()\n",
    "\n",
    "fig = px.pie(df, values=\"sepal_width\",\n",
    "\t\t\tnames=\"species\",\n",
    "\t\t\tcolor_discrete_sequence=px.colors.sequential.RdBu)\n",
    "\n",
    "pyo.plot(fig, filename='pie_plot_four.html')"
   ]
  }
 ],
 "metadata": {
  "interpreter": {
   "hash": "f5fcd04f47f33b9e0f6ea85f02011428fdeda1d6eb9d38dea119125ff144daf0"
  },
  "kernelspec": {
   "display_name": "Python 3.6.12 ('data_science')",
   "language": "python",
   "name": "python3"
  },
  "language_info": {
   "codemirror_mode": {
    "name": "ipython",
    "version": 3
   },
   "file_extension": ".py",
   "mimetype": "text/x-python",
   "name": "python",
   "nbconvert_exporter": "python",
   "pygments_lexer": "ipython3",
   "version": "3.6.12"
  },
  "orig_nbformat": 4
 },
 "nbformat": 4,
 "nbformat_minor": 2
}
