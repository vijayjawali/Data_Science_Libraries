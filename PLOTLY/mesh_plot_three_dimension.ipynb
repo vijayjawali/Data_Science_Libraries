{
 "cells": [
  {
   "cell_type": "markdown",
   "metadata": {},
   "source": [
    "A **Mesh plot** is a plot that has three dimensions surface and has solid edges and no face colors. A Mesh plot is a way to create a 3D set of triangles with vertices given by x, y, and z. If there are only coordinates, then algorithm such as Delaunay triangulation is used to form a triangle. I, J, and K parameters can also be used to create a triangle."
   ]
  },
  {
   "cell_type": "markdown",
   "metadata": {},
   "source": [
    "**Syntax:** class plotly.graph_objects.Mesh3d(arg=None, hoverinfo=None, x=None, y=None, z=None, **kwargs)"
   ]
  },
  {
   "cell_type": "markdown",
   "metadata": {},
   "source": [
    "**Parameters:**\n",
    "\n",
    "|Name|Description|\n",
    "|------|------|\n",
    "|arg|dict of properties compatible with this constructor or an instance of plotly.graph_objects.Mesh3d|\n",
    "|hoverinfo|Determines which trace information appear on hover. If none or skip are set, no information is displayed upon hovering. But, if none is set, click and hover events are still fired.|\n",
    "|x|Sets the X coordinates of the vertices. The nth element of vectors x, y and z jointly represent the X, Y and Z coordinates of the nth vertex.|\n",
    "|y|Sets the Y coordinates of the vertices. The nth element of vectors x, y and z jointly represent the X, Y and Z coordinates of the nth vertex.|\n",
    "|z|Sets the Z coordinates of the vertices. The nth element of vectors x, y and z jointly represent the X, Y and Z coordinates of the nth vertex.|"
   ]
  },
  {
   "cell_type": "code",
   "execution_count": 1,
   "metadata": {},
   "outputs": [
    {
     "data": {
      "text/plain": [
       "'mesh_plot_three_dimension_one.html'"
      ]
     },
     "execution_count": 1,
     "metadata": {},
     "output_type": "execute_result"
    }
   ],
   "source": [
    "import plotly.offline as pyo\n",
    "import plotly.graph_objects as go\n",
    "import numpy as np\n",
    "\n",
    "# Data for three-dimensional scattered points\n",
    "z = 15 * np.random.random(100)\n",
    "x = np.sin(z) + 0.1 * np.random.randn(100)\n",
    "y = np.cos(z) + 0.1 * np.random.randn(100)\n",
    "\n",
    "fig = go.Figure(data=[go.Mesh3d(\n",
    "x=x, y=y, z=z, color='green', opacity=0.20)])\n",
    "\n",
    "pyo.plot(fig, filename='mesh_plot_three_dimension_one.html')"
   ]
  },
  {
   "cell_type": "code",
   "execution_count": 2,
   "metadata": {},
   "outputs": [
    {
     "data": {
      "text/plain": [
       "'mesh_plot_three_dimension_two.html'"
      ]
     },
     "execution_count": 2,
     "metadata": {},
     "output_type": "execute_result"
    }
   ],
   "source": [
    "import plotly.graph_objects as go\n",
    "import numpy as np\n",
    "\n",
    "# Data for three-dimensional scattered points\n",
    "z = 15 * np.random.random(100)\n",
    "x = np.sin(z) + 0.1 * np.random.randn(100)\n",
    "y = np.cos(z) + 0.1 * np.random.randn(100)\n",
    "\n",
    "fig = go.Figure(data=[go.Mesh3d(x=x, y=y, z=z, color='green',\n",
    "\t\t\t\t\t\t\t\topacity=0.20, alphahull=3)])\n",
    "\n",
    "pyo.plot(fig, filename='mesh_plot_three_dimension_two.html')"
   ]
  },
  {
   "cell_type": "code",
   "execution_count": 3,
   "metadata": {},
   "outputs": [
    {
     "data": {
      "text/plain": [
       "'mesh_plot_three_dimension_three.html'"
      ]
     },
     "execution_count": 3,
     "metadata": {},
     "output_type": "execute_result"
    }
   ],
   "source": [
    "import plotly.graph_objects as go\n",
    "import numpy as np\n",
    "\n",
    "# Data for three-dimensional scattered points\n",
    "z = 15 * np.random.random(100)\n",
    "x = np.sin(z) + 0.1 * np.random.randn(100)\n",
    "y = np.cos(z) + 0.1 * np.random.randn(100)\n",
    "\n",
    "fig = go.Figure(data=[go.Mesh3d(x=x, y=y, z=z, color='green',\n",
    "\t\t\t\t\t\t\t\topacity=0.20, alphahull=3,\n",
    "\t\t\t\t\t\t\t\ti=[1, 0, 0, 1],\n",
    "\t\t\t\t\t\t\t\tj=[1, 2, 3, 4],\n",
    "\t\t\t\t\t\t\t\tk=[4, 3, 1, 3],)])\n",
    "\n",
    "pyo.plot(fig, filename='mesh_plot_three_dimension_three.html')"
   ]
  }
 ],
 "metadata": {
  "interpreter": {
   "hash": "f5fcd04f47f33b9e0f6ea85f02011428fdeda1d6eb9d38dea119125ff144daf0"
  },
  "kernelspec": {
   "display_name": "Python 3.6.12 ('data_science')",
   "language": "python",
   "name": "python3"
  },
  "language_info": {
   "codemirror_mode": {
    "name": "ipython",
    "version": 3
   },
   "file_extension": ".py",
   "mimetype": "text/x-python",
   "name": "python",
   "nbconvert_exporter": "python",
   "pygments_lexer": "ipython3",
   "version": "3.6.12"
  },
  "orig_nbformat": 4
 },
 "nbformat": 4,
 "nbformat_minor": 2
}
