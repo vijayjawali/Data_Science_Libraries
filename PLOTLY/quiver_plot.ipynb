{
 "cells": [
  {
   "cell_type": "markdown",
   "metadata": {},
   "source": [
    "A **quiver plot** displays velocity vectors as arrows with the components (u, v) at the points (x, y). The quiver(x, y, u, v) plots vectors as arrows at the coordinates which are specified in each corresponding pair of elements in x and y. The main advantage of using a quiver plot is it can represent a wider range of magnitudes without having the arrows shrink to dots or overlap one another."
   ]
  },
  {
   "cell_type": "markdown",
   "metadata": {},
   "source": [
    "**Syntax:** create_quiver(x, y, u, v, scale=0.1, arrow_scale=0.3, angle=0.3490658503988659, scaleratio=None)"
   ]
  },
  {
   "cell_type": "markdown",
   "metadata": {},
   "source": [
    "**Parameters:**\n",
    "\n",
    "|Name|Description|\n",
    "|------|------|\n",
    "|x|x coordinates of the arrow locations|\n",
    "|y|y coordinates of the arrow locations|\n",
    "|u|x components of the arrow vectors|\n",
    "|v|y components of the arrow vectors|\n",
    "|arrow_scale|value multiplied to length of barb to get length of arrowhead. Default = .3|\n",
    "|angle|angle of arrowhead. Default = pi/|"
   ]
  },
  {
   "cell_type": "code",
   "execution_count": 1,
   "metadata": {},
   "outputs": [
    {
     "data": {
      "text/plain": [
       "'quiver_plot_one.html'"
      ]
     },
     "execution_count": 1,
     "metadata": {},
     "output_type": "execute_result"
    }
   ],
   "source": [
    "import plotly.offline as pyo\n",
    "import plotly.figure_factory as ff\n",
    "import numpy as np\n",
    "\n",
    "x = np.linspace(-2, 2, 60)\n",
    "y = np.linspace(-1, 1, 60)\n",
    "Y, X = np.meshgrid(x, y)\n",
    "u = 1 - X**2 + Y\n",
    "v = -1 + X - Y**2\n",
    "\n",
    "# Create quiver plot\n",
    "fig = ff.create_quiver(x, y, u, v, arrow_scale=.1)\n",
    "\n",
    "pyo.plot(fig, filename='quiver_plot_one.html')"
   ]
  },
  {
   "cell_type": "code",
   "execution_count": 2,
   "metadata": {},
   "outputs": [
    {
     "data": {
      "text/plain": [
       "'quiver_plot_two.html'"
      ]
     },
     "execution_count": 2,
     "metadata": {},
     "output_type": "execute_result"
    }
   ],
   "source": [
    "import plotly.figure_factory as ff\n",
    "import plotly.graph_objects as go\n",
    "import numpy as np\n",
    "\n",
    "x = np.linspace(-2, 2, 60)\n",
    "y = np.linspace(-1, 1, 60)\n",
    "Y, X = np.meshgrid(x, y)\n",
    "u = np.cos(X)*Y\n",
    "v = np.sin(X)*Y\n",
    "\n",
    "# Create quiver plot\n",
    "fig = ff.create_quiver(x, y, u, v, arrow_scale=.1)\n",
    "\n",
    "# Adding scatter as the origin\n",
    "fig.add_trace(go.Scatter(x = [0], y = [0],\n",
    "\t\t\t\t\t\tmode = 'markers',\n",
    "\t\t\t\t\t\tmarker_size = 15\n",
    "\t\t\t\t\t\t))\n",
    "\n",
    "pyo.plot(fig, filename='quiver_plot_two.html')"
   ]
  }
 ],
 "metadata": {
  "interpreter": {
   "hash": "f5fcd04f47f33b9e0f6ea85f02011428fdeda1d6eb9d38dea119125ff144daf0"
  },
  "kernelspec": {
   "display_name": "Python 3.6.12 ('data_science')",
   "language": "python",
   "name": "python3"
  },
  "language_info": {
   "codemirror_mode": {
    "name": "ipython",
    "version": 3
   },
   "file_extension": ".py",
   "mimetype": "text/x-python",
   "name": "python",
   "nbconvert_exporter": "python",
   "pygments_lexer": "ipython3",
   "version": "3.6.12"
  },
  "orig_nbformat": 4
 },
 "nbformat": 4,
 "nbformat_minor": 2
}
