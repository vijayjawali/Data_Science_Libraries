{
 "cells": [
  {
   "cell_type": "markdown",
   "metadata": {},
   "source": [
    "A **bubble chart** can be created using the scatter_3d() method of plotly.express class. A bubble chart is a data visualization which helps to displays multiple circles (bubbles) in a 3d dimensional plot as same in 3d scatter plot. A bubble chart is primarily used to depict and show relationships between numeric variables."
   ]
  },
  {
   "cell_type": "code",
   "execution_count": 2,
   "metadata": {},
   "outputs": [
    {
     "data": {
      "text/plain": [
       "'bubble_chart_three_dimension_one.html'"
      ]
     },
     "execution_count": 2,
     "metadata": {},
     "output_type": "execute_result"
    }
   ],
   "source": [
    "import plotly.offline as pyo\n",
    "import plotly.express as px\n",
    "\n",
    "\n",
    "df = px.data.iris()\n",
    "fig = px.scatter_3d(df, x='sepal_width',\n",
    "\t\t\t\t\ty='sepal_length',\n",
    "\t\t\t\t\tz='petal_width',\n",
    "\t\t\t\t\tsize='petal_length',\n",
    "\t\t\t\t\tcolor='species')\n",
    "\n",
    "pyo.plot(fig, filename='bubble_chart_three_dimension_one.html')"
   ]
  },
  {
   "cell_type": "code",
   "execution_count": 3,
   "metadata": {},
   "outputs": [
    {
     "data": {
      "text/plain": [
       "'bubble_chart_three_dimension_two.html'"
      ]
     },
     "execution_count": 3,
     "metadata": {},
     "output_type": "execute_result"
    }
   ],
   "source": [
    "import plotly.express as px\n",
    "\n",
    "\n",
    "df = px.data.tips()\n",
    "fig = px.scatter_3d(df, x='total_bill',\n",
    "\t\t\t\t\ty='day', z='time',\n",
    "\t\t\t\t\tsize='tip', color='sex')\n",
    "\n",
    "pyo.plot(fig, filename='bubble_chart_three_dimension_two.html')"
   ]
  },
  {
   "cell_type": "code",
   "execution_count": 4,
   "metadata": {},
   "outputs": [
    {
     "data": {
      "text/plain": [
       "'bubble_chart_three_dimension_three.html'"
      ]
     },
     "execution_count": 4,
     "metadata": {},
     "output_type": "execute_result"
    }
   ],
   "source": [
    "import plotly.express as px\n",
    "import plotly.graph_objects as go\n",
    "\n",
    "\n",
    "df = px.data.tips()\n",
    "\n",
    "fig = go.Figure(go.Scatter3d(\n",
    "\tx = df['total_bill'],\n",
    "\ty = df['time'],\n",
    "\tz = df['day'],\n",
    "\tmode = 'markers',\n",
    "\tmarker = dict(\n",
    "\t\tcolor = df['tip'],\n",
    "\t\tsize = df['total_bill'],\n",
    "\t\tcolorscale=[[0, 'rgb(15, 10, 172)'],\n",
    "\t\t\t\t\t[.3, 'rgb(150, 255, 255)'],\n",
    "\t\t\t\t\t[1, 'rgb(100, 10, 100)']]\n",
    "\t\t)\n",
    "))\n",
    "\n",
    "pyo.plot(fig, filename='bubble_chart_three_dimension_three.html')"
   ]
  }
 ],
 "metadata": {
  "interpreter": {
   "hash": "f5fcd04f47f33b9e0f6ea85f02011428fdeda1d6eb9d38dea119125ff144daf0"
  },
  "kernelspec": {
   "display_name": "Python 3.6.12 ('data_science')",
   "language": "python",
   "name": "python3"
  },
  "language_info": {
   "codemirror_mode": {
    "name": "ipython",
    "version": 3
   },
   "file_extension": ".py",
   "mimetype": "text/x-python",
   "name": "python",
   "nbconvert_exporter": "python",
   "pygments_lexer": "ipython3",
   "version": "3.6.12"
  },
  "orig_nbformat": 4
 },
 "nbformat": 4,
 "nbformat_minor": 2
}
