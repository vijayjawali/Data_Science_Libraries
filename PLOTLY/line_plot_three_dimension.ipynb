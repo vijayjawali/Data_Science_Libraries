{
 "cells": [
  {
   "cell_type": "markdown",
   "metadata": {},
   "source": [
    "**Line plot** in plotly is much accessible and illustrious annexation to plotly which manage a variety of types of data and assemble easy-to-style statistic. With px.line_3d each data position is represented as a vertex  (which location is given by the x, y and z columns) of a polyline mark in 3D space. Line chart Displays a series of numerical data as points which are connected by lines. It visualizes to show two data trends. The main productive feature is it can display thousands of data points without scrolling. It can be created using the line_3d() method of plotly.express class."
   ]
  },
  {
   "cell_type": "markdown",
   "metadata": {},
   "source": [
    "**Syntax:** plotly.express.line_3d(data_frame=None, x=None, y=None, z=None, color=None, line_dash=None, text=None, line_group=None, hover_name=None, hover_data=None, custom_data=None, error_x=None, error_x_minus=None, error_y=None, error_y_minus=None, error_z=None, error_z_minus=None, animation_frame=None, animation_group=None, category_orders={}, labels={}, color_discrete_sequence=None, color_discrete_map={}, line_dash_sequence=None, line_dash_map={}, log_x=False, log_y=False, log_z=False, range_x=None, range_y=None, range_z=None, title=None, template=None, width=None, height=None"
   ]
  },
  {
   "cell_type": "markdown",
   "metadata": {},
   "source": [
    "**Parameters:**\n",
    "\n",
    "|Name|Description|\n",
    "|------|------|\n",
    "|data_frame|This argument needs to be passed for column names (and not keyword names) to be used.| \n",
    "|x, y, z|Either a name of a column in data_frame, or a pandas Series or array_like object. Values from this column or array_like are used to position marks along the x, y and z axis respectively in cartesian coordinates.|\n",
    "|color|Either a name of a column in data_frame, or a pandas Series or array_like object. Values from this column or array_like are used to assign color to marks.|"
   ]
  },
  {
   "cell_type": "code",
   "execution_count": 1,
   "metadata": {},
   "outputs": [
    {
     "data": {
      "text/plain": [
       "'line_plot_three_dimension_one.html'"
      ]
     },
     "execution_count": 1,
     "metadata": {},
     "output_type": "execute_result"
    }
   ],
   "source": [
    "import plotly.offline as pyo\n",
    "import plotly.express as px\n",
    "\n",
    "\n",
    "df = px.data.iris()\n",
    "\n",
    "fig = px.line_3d(df, x=\"sepal_width\",\n",
    "\t\t\t\ty=\"petal_length\",\n",
    "\t\t\t\tz=\"petal_width\")\n",
    "\n",
    "pyo.plot(fig, filename=\"line_plot_three_dimension_one.html\")"
   ]
  },
  {
   "cell_type": "code",
   "execution_count": 2,
   "metadata": {},
   "outputs": [
    {
     "data": {
      "text/plain": [
       "'line_plot_three_dimension_two.html'"
      ]
     },
     "execution_count": 2,
     "metadata": {},
     "output_type": "execute_result"
    }
   ],
   "source": [
    "import plotly.express as px\n",
    "\n",
    "\n",
    "df = px.data.iris()\n",
    "\n",
    "fig = px.line_3d(df, x=\"sepal_width\",\n",
    "\t\t\t\ty=\"petal_length\",\n",
    "\t\t\t\tz=\"petal_width\",\n",
    "\t\t\t\tcolor=\"species\")\n",
    "\n",
    "pyo.plot(fig, filename=\"line_plot_three_dimension_two.html\")"
   ]
  },
  {
   "cell_type": "code",
   "execution_count": 3,
   "metadata": {},
   "outputs": [
    {
     "data": {
      "text/plain": [
       "'line_plot_three_dimension_three.html'"
      ]
     },
     "execution_count": 3,
     "metadata": {},
     "output_type": "execute_result"
    }
   ],
   "source": [
    "import plotly.express as px\n",
    "\n",
    "\n",
    "df = px.data.tips()\n",
    "\n",
    "fig = px.line_3d(df, x=\"total_bill\",\n",
    "\t\t\t\ty=\"day\", z=\"time\")\n",
    "\n",
    "pyo.plot(fig, filename=\"line_plot_three_dimension_three.html\")"
   ]
  },
  {
   "cell_type": "code",
   "execution_count": 5,
   "metadata": {},
   "outputs": [
    {
     "data": {
      "text/plain": [
       "'line_plot_three_dimension_four.html'"
      ]
     },
     "execution_count": 5,
     "metadata": {},
     "output_type": "execute_result"
    }
   ],
   "source": [
    "import plotly.express as px\n",
    "\n",
    "\n",
    "df = px.data.tips()\n",
    "\n",
    "fig = px.line_3d(df, x=\"total_bill\", y=\"day\", z=\"time\", color=\"day\")\n",
    "\n",
    "pyo.plot(fig, filename=\"line_plot_three_dimension_four.html\")"
   ]
  }
 ],
 "metadata": {
  "interpreter": {
   "hash": "f5fcd04f47f33b9e0f6ea85f02011428fdeda1d6eb9d38dea119125ff144daf0"
  },
  "kernelspec": {
   "display_name": "Python 3.6.12 ('data_science')",
   "language": "python",
   "name": "python3"
  },
  "language_info": {
   "codemirror_mode": {
    "name": "ipython",
    "version": 3
   },
   "file_extension": ".py",
   "mimetype": "text/x-python",
   "name": "python",
   "nbconvert_exporter": "python",
   "pygments_lexer": "ipython3",
   "version": "3.6.12"
  },
  "orig_nbformat": 4
 },
 "nbformat": 4,
 "nbformat_minor": 2
}
