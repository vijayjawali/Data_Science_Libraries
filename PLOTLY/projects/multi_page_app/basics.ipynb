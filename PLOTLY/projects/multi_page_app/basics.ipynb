{
 "cells": [
  {
   "cell_type": "markdown",
   "metadata": {},
   "source": [
    "### Running in Local"
   ]
  },
  {
   "cell_type": "markdown",
   "metadata": {},
   "source": [
    "<li>Open the Folder in Pycharm</li>\n",
    "<li>Change the python interpreter to `data_science`</li>\n",
    "<li>Run index.py file</li>\n",
    "<li>Dash is running on http://127.0.0.1:8050/</li>"
   ]
  },
  {
   "cell_type": "markdown",
   "metadata": {},
   "source": [
    "### Deploying and Running in Heroku"
   ]
  },
  {
   "cell_type": "markdown",
   "metadata": {},
   "source": [
    "Deploy Multi-Page Dash App to the Web with Heroku\n",
    "\n",
    "**I recommend following these instructions carefully. There are many steps and things can easily malfunction with small mistakes. Once you have this app deployed, you can customize your own graphs and pages and components, then, re-deploy in step #12.\n",
    "\n",
    "<ol>\n",
    "<li> [Sign up for account on Heroku] => (https://signup.heroku.com)\n",
    "</li>\n",
    "<li>Create your new App name (this will be part of the app’s url) \"firstplotlydashapp\"\n",
    "</li>\n",
    "<li>Download and install Heroku CLI (allow you to create and manage your Heroku apps directly from the terminal)\n",
    "</li>\n",
    "<li>Create new project in Pycharm (where your app code and files will be located)</li>\n",
    "<ul>\n",
    "<li>Choose new environment using Virtualenv</li>\n",
    "<li>Select a python Base interpreter (no need to check the boxes under interpreter)</li>\n",
    "</ul>\n",
    "<li>Create a new .py file to start writing the code for your app. If you already created the code for your app, copy those files into your new project folder.\n",
    "</li>\n",
    "<li>Open terminal, and cd into your project folder if necessary \n",
    "</li>\n",
    "<ul><li>If the venv is not activated in pycharm automatically</li>\n",
    "<li>Settings, Tools, Terminal, and add \"\"/K <path-to-your-activate.bat>\"\" to Shell path and add (mind the quotes). Also add quotes around cmd.exe, resulting in:\n",
    "\"cmd.exe\" /k \"\"C:\\mypath\\my-venv\\Scripts\\activate.bat\"\"</li><li>\"cmd.exe\" /k \"\"C:\\Users\\vijay\\Jupyter Lab Scripts\\Data_Science_Libraries\\PLOTLY\\projects\\multi_page_app\\venv\\Scripts\\activate.bat\"\"</li></ul>\n",
    "<li>Pip install any libraries and specific versions your app needs. My app uses the following (install any version you want):\n",
    "<ul>\n",
    "<li>$  pip install numpy==1.19.1</li>\n",
    "<li>$  pip install pandas==1.0.0</li>\n",
    "<li>$  pip install plotly==4.10.0</li>\n",
    "<li>$  pip install dash==1.16.0</li>\n",
    "<li>$ pip install gunicorn==20.0.4</li>\n",
    "</ul>\n",
    "</li>\n",
    "<li>Create .gitignore file inside your project folder (tells Git which files or folders to ignore in a project) and add these lines into it:</li>\n",
    "<ul>\n",
    "<li>$  venv *.pyc .env .DS_Store (4 separate lines)</li>\n",
    "</ul>\n",
    "<li>Create a Procfile inside same folder and add this line inside:</li>\n",
    "<ul>\n",
    "<li>$  web: gunicorn YourAppEntryFileWithout.py:server</li>\n",
    "<li>$  web: gunicorn index:server<</li>\n",
    "</ul>\n",
    "<li>Create requirements. Go back to terminal, cd to project folder if necessary, and type:</li>\n",
    "<ul>\n",
    "<li>$  pip freeze > requirements.txt</li>\n",
    "</ul>\n",
    "<li>Inside the IDE terminal, type the following-</li> \n",
    "<ul>\n",
    "<li>$ heroku login</li>\n",
    "<li>$  git init</li>\n",
    "<li>$  heroku git:remote -a  AppNameFromStep2 [heroku git:remote -a firstplotlydashapp]</li>\n",
    "<li>$  git add .</li>\n",
    "<li>$  git commit -am \"initial launch\"</li>\n",
    "<li>$  git push heroku master</li>\n",
    "</ul>\n",
    "<li>**To Re-deploy your app, follow the instructions on the Deploy tab in the Heroku website</li>\n",
    "</ol>\n",
    "\n",
    "\n"
   ]
  },
  {
   "cell_type": "markdown",
   "metadata": {},
   "source": [
    "### Redeploying applocation"
   ]
  },
  {
   "cell_type": "markdown",
   "metadata": {},
   "source": [
    "If you haven't already, log in to your Heroku account and follow the prompts to create a new SSH public key.\n",
    "<ul>\n",
    "<li>$ heroku login</li>\n",
    "</ul>\n",
    "Clone the repository\n",
    "\n",
    "Use Git to clone firstplotlydashapp's source code to your local machine.\n",
    "<ul>\n",
    "<li>$ heroku git:clone -a firstplotlydashapp</li>\n",
    "<li>$ cd firstplotlydashapp</li>\n",
    "</ul>\n",
    "Deploy your changes\n",
    "\n",
    "Make some changes to the code you just cloned and deploy them to Heroku using Git.\n",
    "<ul>\n",
    "<li>$ git add .</li>\n",
    "<li>$ git commit -am \"make it better\"</li>\n",
    "<li>$ git push heroku master</li>"
   ]
  }
 ],
 "metadata": {
  "language_info": {
   "name": "python"
  },
  "orig_nbformat": 4
 },
 "nbformat": 4,
 "nbformat_minor": 2
}
