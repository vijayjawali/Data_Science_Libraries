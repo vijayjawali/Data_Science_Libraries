{
 "cells": [
  {
   "cell_type": "markdown",
   "metadata": {},
   "source": [
    "The **bubble chart** in Plotly is created using the scatter plot. It can be created using the scatter() method of plotly.express. A bubble chart is a data visualization which helps to displays multiple circles (bubbles) in a two-dimensional plot as same in scatter plot. A bubble chart is primarily used to depict and show relationships between numeric variables."
   ]
  },
  {
   "cell_type": "code",
   "execution_count": 1,
   "metadata": {},
   "outputs": [
    {
     "data": {
      "text/plain": [
       "'bubble_chart_one.html'"
      ]
     },
     "execution_count": 1,
     "metadata": {},
     "output_type": "execute_result"
    }
   ],
   "source": [
    "import plotly.offline as pyo\n",
    "import plotly.express as px\n",
    "\n",
    "df = px.data.iris()\n",
    "\n",
    "fig = px.scatter(df, x=\"sepal_width\", y=\"sepal_length\",\n",
    "\t\t\t\tcolor=\"species\",\n",
    "\t\t\t\tsize='petal_length',\n",
    "\t\t\t\thover_data=['petal_width'])\n",
    "\n",
    "pyo.plot(fig, filename='bubble_chart_one.html')"
   ]
  },
  {
   "cell_type": "code",
   "execution_count": 3,
   "metadata": {},
   "outputs": [
    {
     "data": {
      "text/plain": [
       "'bubble_chart_two.html'"
      ]
     },
     "execution_count": 3,
     "metadata": {},
     "output_type": "execute_result"
    }
   ],
   "source": [
    "import plotly.graph_objects as px\n",
    "import numpy as np\n",
    "\n",
    "\n",
    "# creating random data through randomint\n",
    "# function of numpy.random\n",
    "np.random.seed(42)\n",
    "\n",
    "random_x= np.random.randint(1,101,100)\n",
    "random_y= np.random.randint(1,101,100)\n",
    "\n",
    "plot = px.Figure(data=[px.Scatter(\n",
    "\tx = random_x,\n",
    "\ty = random_y,\n",
    "\tmode = 'markers',\n",
    "\tmarker_size = [115, 20, 30])\n",
    "])\n",
    "\t\t\t\t\n",
    "pyo.plot(plot, filename='bubble_chart_two.html')\n"
   ]
  },
  {
   "cell_type": "code",
   "execution_count": 4,
   "metadata": {},
   "outputs": [
    {
     "data": {
      "text/plain": [
       "'bubble_chart_three.html'"
      ]
     },
     "execution_count": 4,
     "metadata": {},
     "output_type": "execute_result"
    }
   ],
   "source": [
    "import plotly.graph_objects as px\n",
    "import numpy as np\n",
    "\n",
    "\n",
    "# creating random data through randomint\n",
    "# function of numpy.random\n",
    "np.random.seed(42)\n",
    "\n",
    "random_x= np.random.randint(1,101,100)\n",
    "random_y= np.random.randint(1,101,100)\n",
    "\n",
    "size = [20, 40, 60, 80, 100, 80, 60, 40, 20, 40]\n",
    "\n",
    "plot = px.Figure(data=[px.Scatter(\n",
    "\tx = random_x,\n",
    "\ty = random_y,\n",
    "\tmode = 'markers',\n",
    "\tmarker=dict(\n",
    "\t\tsize=size,\n",
    "\t\tsizemode='area',\n",
    "\t\tsizeref=2.*max(size)/(40.**2),\n",
    "\t\tsizemin=4\n",
    "\t)\n",
    ")])\n",
    "\t\t\t\t\n",
    "pyo.plot(plot, filename='bubble_chart_three.html')"
   ]
  },
  {
   "cell_type": "code",
   "execution_count": 5,
   "metadata": {},
   "outputs": [
    {
     "data": {
      "text/plain": [
       "'bubble_chart_four.html'"
      ]
     },
     "execution_count": 5,
     "metadata": {},
     "output_type": "execute_result"
    }
   ],
   "source": [
    "import plotly.graph_objects as px\n",
    "import numpy as np\n",
    "\n",
    "\n",
    "# creating random data through randomint\n",
    "# function of numpy.random\n",
    "np.random.seed(42)\n",
    "\n",
    "random_x= np.random.randint(1,101,100)\n",
    "random_y= np.random.randint(1,101,100)\n",
    "\n",
    "plot = px.Figure(data=[px.Scatter(\n",
    "\tx = random_x,\n",
    "\ty = random_y,\n",
    "\tmode = 'markers',\n",
    "\tmarker=dict(\n",
    "\tcolor = [10, 20, 30, 50],\n",
    "\tsize = [10, 30, 50, 80],\n",
    "\tshowscale=True\n",
    "\t)\n",
    ")])\n",
    "\t\t\t\t\n",
    "pyo.plot(plot, filename='bubble_chart_four.html')"
   ]
  }
 ],
 "metadata": {
  "interpreter": {
   "hash": "f5fcd04f47f33b9e0f6ea85f02011428fdeda1d6eb9d38dea119125ff144daf0"
  },
  "kernelspec": {
   "display_name": "Python 3.6.12 ('data_science')",
   "language": "python",
   "name": "python3"
  },
  "language_info": {
   "codemirror_mode": {
    "name": "ipython",
    "version": 3
   },
   "file_extension": ".py",
   "mimetype": "text/x-python",
   "name": "python",
   "nbconvert_exporter": "python",
   "pygments_lexer": "ipython3",
   "version": "3.6.12"
  },
  "orig_nbformat": 4
 },
 "nbformat": 4,
 "nbformat_minor": 2
}
