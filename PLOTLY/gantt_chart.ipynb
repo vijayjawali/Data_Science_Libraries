{
 "cells": [
  {
   "cell_type": "markdown",
   "metadata": {},
   "source": [
    "A **Gantt chart** is parallel to bar chart that delineates a project schedule. In Gantt chart tasks are performed in the vertical axis and the time intervals are performed in the horizontal axis. The width of the horizontal bars in the graph shows the endurance of both the activity"
   ]
  },
  {
   "cell_type": "markdown",
   "metadata": {},
   "source": [
    "A  Gantt chart is made up of numerous different elements. the main 8 key components are:\n",
    "\n",
    "<li>Task list</li>\n",
    "<li>Timeline</li>\n",
    "<li>Date line</li>\n",
    "<li>Bars</li>\n",
    "<li>Milestones</li>\n",
    "<li>Dependencies</li>\n",
    "<li>Progress</li>\n",
    "<li>Resource assigned</li>"
   ]
  },
  {
   "cell_type": "markdown",
   "metadata": {},
   "source": [
    "**Syntax:** plotly.figure_factory.create_gantt(df, colors=None, index_col=None, show_colorbar=False, reverse_colors=False, title=’Gantt Chart’, bar_width=0.2, showgrid_x=False, showgrid_y=False, height=600, width=None, tasks=None, task_names=None, data=None, group_tasks=False, show_hover_fill=True)"
   ]
  },
  {
   "cell_type": "markdown",
   "metadata": {},
   "source": [
    "**Parameters:**\n",
    "\n",
    "|Name|Description|\n",
    "|------|------|\n",
    "|df|input data for gantt chart. Must be either a a dataframe or a list.|\n",
    "|colors|either a plotly scale name, an rgb or hex color, a color tuple or a list of colors|\n",
    "|show_colorbar|determines if colorbar will be visible. Only applies if values in the index column are numeric.|\n",
    "|show_hover_fill|enables/disables the hovertext for the filled area of the chart.|\n",
    "|title|title of the chart|\n",
    "|height|Height of the chart|\n",
    "|weight|Weight of the chart|"
   ]
  },
  {
   "cell_type": "code",
   "execution_count": 1,
   "metadata": {},
   "outputs": [
    {
     "data": {
      "text/plain": [
       "'gantt_chart_one.html'"
      ]
     },
     "execution_count": 1,
     "metadata": {},
     "output_type": "execute_result"
    }
   ],
   "source": [
    "import plotly.offline as pyo\n",
    "import plotly.figure_factory as ff\n",
    "\n",
    "df = [dict(Task=\"A\", Start='2020-01-01', Finish='2009-02-02'),\n",
    "\tdict(Task=\"Job B\", Start='2020-03-01', Finish='2020-11-11'),\n",
    "\tdict(Task=\"Job C\", Start='2020-08-06', Finish='2020-09-21')]\n",
    "\n",
    "fig = ff.create_gantt(df)\n",
    "\n",
    "pyo.plot(fig, filename='gantt_chart_one.html')"
   ]
  },
  {
   "cell_type": "code",
   "execution_count": 2,
   "metadata": {},
   "outputs": [
    {
     "data": {
      "text/plain": [
       "'gantt_chart_two.html'"
      ]
     },
     "execution_count": 2,
     "metadata": {},
     "output_type": "execute_result"
    }
   ],
   "source": [
    "import plotly.figure_factory as ff\n",
    "\n",
    "df = [dict(Task=\"A\", Start='2020-01-01', Finish='2009-02-02'),\n",
    "\tdict(Task=\"Job B\", Start='2020-03-01', Finish='2020-11-11'),\n",
    "\tdict(Task=\"Job C\", Start='2020-08-06', Finish='2020-09-21')]\n",
    "\n",
    "colors = ['#7a0504', (0.2, 0.7, 0.3), 'rgb(210, 60, 180)']\n",
    "\n",
    "fig = ff.create_gantt(df, show_colorbar = True, colors = colors )\n",
    "\n",
    "pyo.plot(fig, filename='gantt_chart_two.html')"
   ]
  }
 ],
 "metadata": {
  "interpreter": {
   "hash": "f5fcd04f47f33b9e0f6ea85f02011428fdeda1d6eb9d38dea119125ff144daf0"
  },
  "kernelspec": {
   "display_name": "Python 3.6.12 ('data_science')",
   "language": "python",
   "name": "python3"
  },
  "language_info": {
   "codemirror_mode": {
    "name": "ipython",
    "version": 3
   },
   "file_extension": ".py",
   "mimetype": "text/x-python",
   "name": "python",
   "nbconvert_exporter": "python",
   "pygments_lexer": "ipython3",
   "version": "3.6.12"
  },
  "orig_nbformat": 4
 },
 "nbformat": 4,
 "nbformat_minor": 2
}
