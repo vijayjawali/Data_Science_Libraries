{
 "cells": [
  {
   "cell_type": "markdown",
   "metadata": {},
   "source": [
    "A **contour plot** has a function of two variables of curves along which the function has constant values so that these curves join the points with equal values. In contour plot, a 2d contour plot presents contour lines of a 2D numerical array z, i.e. interpolated lines of iso values of z."
   ]
  },
  {
   "cell_type": "markdown",
   "metadata": {},
   "source": [
    "**Syntax:** plotly.graph_objects.Contour(arg=None,colorbar=None, hoverinfo=None, x=None,y=None,**kwargs)"
   ]
  },
  {
   "cell_type": "markdown",
   "metadata": {},
   "source": [
    "**Parameters:**\n",
    "\n",
    "|Name|Description|\n",
    "|------|------|\n",
    "|arg|dict of properties compatible with this constructor or an instance of plotly.graph_objects.Contour|\n",
    "|colorbar|plotly.graph_objects.contour.ColorBar instance or dict with compatible properties\n",
    "|x|Sets the x coordinates.|\n",
    "|y|Sets the y coordinates.|\n",
    "|z|Sets the z coordinates.|\n",
    "|hoverinfo|Determines which trace information appear on hover. If none or skip are set, no information is displayed upon hovering. But, if none is set, click and hover events are still fired.|"
   ]
  },
  {
   "cell_type": "code",
   "execution_count": 1,
   "metadata": {},
   "outputs": [
    {
     "data": {
      "text/plain": [
       "'contour_plot_one.html'"
      ]
     },
     "execution_count": 1,
     "metadata": {},
     "output_type": "execute_result"
    }
   ],
   "source": [
    "import plotly.offline as pyo\n",
    "import plotly.graph_objects as go\n",
    "import numpy as np\n",
    "\n",
    "data = [[1,2,3,4,5],\n",
    "\t[3,4,5,6,7],\n",
    "\t[7,8,9,6,4],\n",
    "\t[3,7,2,4,2]]\n",
    "\n",
    "fig = go.Figure(data =\n",
    "\tgo.Contour(z = data))\n",
    "\n",
    "pyo.plot(fig, filename = 'contour_plot_one.html')\n"
   ]
  },
  {
   "cell_type": "code",
   "execution_count": 2,
   "metadata": {},
   "outputs": [
    {
     "data": {
      "text/plain": [
       "'contour_plot_two.html'"
      ]
     },
     "execution_count": 2,
     "metadata": {},
     "output_type": "execute_result"
    }
   ],
   "source": [
    "import plotly.graph_objects as go\n",
    "\n",
    "feature_x = np.arange(0, 50, 2)\n",
    "feature_y = np.arange(0, 50, 3)\n",
    "\n",
    "# Creating 2-D grid of features\n",
    "[X, Y] = np.meshgrid(feature_x, feature_y)\n",
    "\n",
    "Z = np.cos(X / 2) + np.sin(Y / 4)\n",
    "\n",
    "fig = go.Figure(data =\n",
    "\tgo.Contour(x = feature_x, y = feature_y, z = Z))\n",
    "\n",
    "pyo.plot(fig, filename = 'contour_plot_two.html')"
   ]
  },
  {
   "cell_type": "code",
   "execution_count": 3,
   "metadata": {},
   "outputs": [
    {
     "data": {
      "text/plain": [
       "'contour_plot_three.html'"
      ]
     },
     "execution_count": 3,
     "metadata": {},
     "output_type": "execute_result"
    }
   ],
   "source": [
    "import plotly.graph_objects as go\n",
    "\n",
    "feature_x = np.arange(0, 50, 2)\n",
    "feature_y = np.arange(0, 50, 3)\n",
    "\n",
    "# Creating 2-D grid of features\n",
    "[X, Y] = np.meshgrid(feature_x, feature_y)\n",
    "\n",
    "Z = np.cos(X / 2) + np.sin(Y / 4)\n",
    "\n",
    "fig = go.Figure(data =\n",
    "\tgo.Contour(x = feature_x, y = feature_y, z = Z,\n",
    "\t\t\tcolorscale='rainbow'\n",
    "\t\t\t))\n",
    "\n",
    "pyo.plot(fig, filename = 'contour_plot_three.html')"
   ]
  },
  {
   "cell_type": "markdown",
   "metadata": {},
   "source": [
    "The following color set is available on colorscale.\n",
    "\n",
    "‘aggrnyl’, ‘agsunset’, ‘algae’, ‘amp’, ‘armyrose’, ‘balance’, ‘blackbody’, ‘bluered’, ‘blues’, ‘blugrn’, ‘bluyl’, ‘brbg’,’brwnyl’, ‘bugn’, ‘bupu’, ‘burg’, ‘burgyl’, ‘cividis’, ‘curl’, ‘darkmint’, ‘deep’, ‘delta’, ‘dense’, ‘earth’, ‘edge’, ‘electric’, ’emrld’, ‘fall’, ‘geyser’, ‘gnbu’, ‘gray’, ‘greens’, ‘greys’,’haline’, ‘hot’, ‘hsv’, ‘ice’, ‘icefire’, ‘inferno’, ‘jet’, ‘magenta’, ‘magma’, ‘matter’, ‘mint’, ‘mrybm’, ‘mygbm’, ‘oranges’, ‘orrd’, ‘oryel’, ‘oxy’, ‘peach’, ‘phase’, ‘picnic’, ‘pinkyl’, ‘piyg’, ‘plasma’, ‘plotly3’, ‘portland’, ‘prgn’, ‘pubu’, ‘pubugn’,’puor’, ‘purd’, ‘purp’, ‘purples’, ‘purpor’, ‘rainbow’, ‘rdbu’, ‘rdgy’, ‘rdpu’, ‘rdylbu’, ‘rdylgn’, ‘redor’, ‘reds’, ‘solar’, ‘spectral’, ‘speed’, ‘sunset’, ‘sunsetdark’, ‘teal’, ‘tealgrn’, ‘tealrose’, ‘tempo’, ‘temps’, ‘thermal’, ‘tropic’, ‘turbid’, ‘turbo’, ‘twilight’, ‘viridis’, ‘ylgn’, ‘ylgnbu’, ‘ylorbr’, ‘ylorrd’"
   ]
  },
  {
   "cell_type": "code",
   "execution_count": 4,
   "metadata": {},
   "outputs": [
    {
     "data": {
      "text/plain": [
       "'contour_plot_four.html'"
      ]
     },
     "execution_count": 4,
     "metadata": {},
     "output_type": "execute_result"
    }
   ],
   "source": [
    "import plotly.graph_objects as go\n",
    "\n",
    "feature_x = np.arange(0, 50, 2)\n",
    "feature_y = np.arange(0, 50, 3)\n",
    "\n",
    "colorscale = colorscale = [[0, 'green'], [0.5, 'red'],\n",
    "\t\t\t\t\t\t[1.0, 'rgb(0, 0, 255)']]\n",
    "\n",
    "# Creating 2-D grid of features\n",
    "[X, Y] = np.meshgrid(feature_x, feature_y)\n",
    "\n",
    "Z = np.cos(X / 2) + np.sin(Y / 4)\n",
    "\n",
    "fig = go.Figure(data =\n",
    "\tgo.Contour(x = feature_x, y = feature_y, z = Z,\n",
    "\t\t\tcolorscale = colorscale))\n",
    "\n",
    "pyo.plot(fig, filename = 'contour_plot_four.html')"
   ]
  },
  {
   "cell_type": "code",
   "execution_count": 5,
   "metadata": {},
   "outputs": [
    {
     "data": {
      "text/plain": [
       "'contour_plot_five.html'"
      ]
     },
     "execution_count": 5,
     "metadata": {},
     "output_type": "execute_result"
    }
   ],
   "source": [
    "import plotly.graph_objects as go\n",
    "\n",
    "feature_x = np.arange(0, 50, 2)\n",
    "feature_y = np.arange(0, 50, 3)\n",
    "\n",
    "# Creating 2-D grid of features\n",
    "[X, Y] = np.meshgrid(feature_x, feature_y)\n",
    "\n",
    "Z = np.cos(X / 2) + np.sin(Y / 4)\n",
    "\n",
    "fig = go.Figure(data =\n",
    "\tgo.Contour(x = feature_x,\n",
    "\t\t\t\ty = feature_y, z = Z,\n",
    "\t\t\t\t\n",
    "\t\t\tcontours=dict(\n",
    "\t\t\t\tstart=1,\n",
    "\t\t\t\tend=5,\n",
    "\t\t\t\tsize=.2)\n",
    "\t\t\t)\n",
    "\t\t\t)\n",
    "\n",
    "pyo.plot(fig, filename = 'contour_plot_five.html')"
   ]
  },
  {
   "cell_type": "code",
   "execution_count": 6,
   "metadata": {},
   "outputs": [
    {
     "data": {
      "text/plain": [
       "'contour_plot_six.html'"
      ]
     },
     "execution_count": 6,
     "metadata": {},
     "output_type": "execute_result"
    }
   ],
   "source": [
    "import plotly.graph_objects as go\n",
    "\n",
    "feature_x = np.arange(0, 50, 2)\n",
    "feature_y = np.arange(0, 50, 3)\n",
    "\n",
    "# Creating 2-D grid of features\n",
    "[X, Y] = np.meshgrid(feature_x, feature_y)\n",
    "\n",
    "Z = np.cos(X / 2) + np.sin(Y / 4)\n",
    "\n",
    "fig = go.Figure(data=go.Contour(\n",
    "\tx=feature_x, y=feature_y, z=Z,\n",
    "\tcontours=dict(\n",
    "\t\tcoloring='lines',\n",
    "\t\tshowlabels=True,)\n",
    "))\n",
    "\n",
    "pyo.plot(fig, filename = 'contour_plot_six.html')"
   ]
  }
 ],
 "metadata": {
  "interpreter": {
   "hash": "f5fcd04f47f33b9e0f6ea85f02011428fdeda1d6eb9d38dea119125ff144daf0"
  },
  "kernelspec": {
   "display_name": "Python 3.6.12 ('data_science')",
   "language": "python",
   "name": "python3"
  },
  "language_info": {
   "codemirror_mode": {
    "name": "ipython",
    "version": 3
   },
   "file_extension": ".py",
   "mimetype": "text/x-python",
   "name": "python",
   "nbconvert_exporter": "python",
   "pygments_lexer": "ipython3",
   "version": "3.6.12"
  },
  "orig_nbformat": 4
 },
 "nbformat": 4,
 "nbformat_minor": 2
}
