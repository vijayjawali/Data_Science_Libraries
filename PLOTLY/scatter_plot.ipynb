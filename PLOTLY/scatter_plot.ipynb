{
 "cells": [
  {
   "cell_type": "markdown",
   "metadata": {},
   "source": [
    "A **scatter plot** is a diagram where each value is represented by the dot graph. Scatter  plot needs arrays for the same length, one for the value of x-axis and other value for the y-axis. Each data is represented as a dot point, whose location is given by x and y columns. It can be created using the scatter() method of plotly.express"
   ]
  },
  {
   "cell_type": "markdown",
   "metadata": {},
   "source": [
    "**Syntax:** plotly.express.scatter(data_frame=None, x=None, y=None, color=None, symbol=None, size=None, hover_name=None, hover_data=None, custom_data=None, text=None, facet_row=None, facet_col=None, facet_col_wrap=0, error_x=None, error_x_minus=None, error_y=None, error_y_minus=None, animation_frame=None, animation_group=None, category_orders={}, labels={}, orientation=None, color_discrete_sequence=None, color_discrete_map={}, color_continuous_scale=None, range_color=None, color_continuous_midpoint=None, symbol_sequence=None, symbol_map={}, opacity=None, size_max=None, marginal_x=None, marginal_y=None, trendline=None, trendline_color_override=None, log_x=False, log_y=False, range_x=None, range_y=None, render_mode=’auto’, title=None, template=None, width=None, height=None)"
   ]
  },
  {
   "cell_type": "markdown",
   "metadata": {},
   "source": [
    "**Parameters:**\n",
    "\n",
    "|Name|Value|Description|\n",
    "|------|------|------|\n",
    "|x, y|array_like, shape (n, )|The data positions|\n",
    "|s|scalar or array_like, shape (n, ), optional|The marker size in points**2. Default is rcParams[‘lines.markersize’] ** 2.|\n",
    "|c|color, sequence, or sequence of color, optional|The marker color. Possible values:<li>A single color format string.</li><li>A sequence of color specifications of length n.</li><li>A sequence of n numbers to be mapped to colors using cmap and norm.</li><li>A 2-D array in which the rows are RGB or RGBA</li>|\n",
    "|marker|MarkerStyle, optional|The marker style. marker can be either an instance of the class or the text shorthand for a particular marker. Defaults to None, in which case it takes the value of rcParams[“scatter.marker”] = ‘o’ = ‘o’. See markers for more information about marker styles.|"
   ]
  },
  {
   "cell_type": "code",
   "execution_count": 2,
   "metadata": {},
   "outputs": [
    {
     "data": {
      "text/plain": [
       "'scatter_plot_one.html'"
      ]
     },
     "execution_count": 2,
     "metadata": {},
     "output_type": "execute_result"
    }
   ],
   "source": [
    "import plotly.offline as pyo\n",
    "import plotly.express as px\n",
    "import numpy as np \n",
    "    \n",
    "  \n",
    "# creating random data through randomint \n",
    "# function of numpy.random \n",
    "np.random.seed(42) \n",
    "    \n",
    "random_x= np.random.randint(1,101,100) \n",
    "random_y= np.random.randint(1,101,100) \n",
    "    \n",
    "plot = px.scatter(random_x, random_y)\n",
    "\n",
    "pyo.plot(plot, filename='scatter_plot_one.html')"
   ]
  },
  {
   "cell_type": "code",
   "execution_count": 3,
   "metadata": {},
   "outputs": [
    {
     "data": {
      "text/plain": [
       "'scatter_plot_two.html'"
      ]
     },
     "execution_count": 3,
     "metadata": {},
     "output_type": "execute_result"
    }
   ],
   "source": [
    "import plotly.express as px\n",
    "\n",
    "# Loading the iris dataset\n",
    "df = px.data.iris()\n",
    "\n",
    "fig = px.scatter(df, x=\"sepal_width\", y=\"sepal_length\",\n",
    "\t\t\t\tcolor=\"species\")\n",
    "\n",
    "pyo.plot(fig, filename='scatter_plot_two.html')"
   ]
  },
  {
   "cell_type": "code",
   "execution_count": 4,
   "metadata": {},
   "outputs": [
    {
     "data": {
      "text/plain": [
       "'scatter_plot_three.html'"
      ]
     },
     "execution_count": 4,
     "metadata": {},
     "output_type": "execute_result"
    }
   ],
   "source": [
    "import plotly.express as px\n",
    "\n",
    "# Loading the iris dataset\n",
    "df = px.data.iris()\n",
    "\n",
    "fig = px.scatter(df, x=\"sepal_width\", y=\"sepal_length\",\n",
    "\t\t\t\tcolor=\"species\", size='petal_length',\n",
    "\t\t\t\thover_data=['petal_width'])\n",
    "\n",
    "pyo.plot(fig, filename='scatter_plot_three.html')"
   ]
  }
 ],
 "metadata": {
  "interpreter": {
   "hash": "f5fcd04f47f33b9e0f6ea85f02011428fdeda1d6eb9d38dea119125ff144daf0"
  },
  "kernelspec": {
   "display_name": "Python 3.6.12 ('data_science')",
   "language": "python",
   "name": "python3"
  },
  "language_info": {
   "codemirror_mode": {
    "name": "ipython",
    "version": 3
   },
   "file_extension": ".py",
   "mimetype": "text/x-python",
   "name": "python",
   "nbconvert_exporter": "python",
   "pygments_lexer": "ipython3",
   "version": "3.6.12"
  },
  "orig_nbformat": 4
 },
 "nbformat": 4,
 "nbformat_minor": 2
}
