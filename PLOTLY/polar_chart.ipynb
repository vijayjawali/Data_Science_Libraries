{
 "cells": [
  {
   "cell_type": "markdown",
   "metadata": {},
   "source": [
    "**Polar Charts** use a polar coordinate system, where its x-axis looks like a circle with the origin point as a center and each point is determined by distance from a fixed point and angle from a fixed direction. Polar charts are also known as radar charts, web charts, spider charts, and star charts, and many others. The radial and angular coordinates names are given as r and theta arguments."
   ]
  },
  {
   "cell_type": "markdown",
   "metadata": {},
   "source": [
    "**Syntax:** plotly.graph_objects.Scatterpolar(arg=None, cliponaxis=None,dr=None, dtheta=None,  line=None, marker=None,r=None, theta=None)"
   ]
  },
  {
   "cell_type": "markdown",
   "metadata": {},
   "source": [
    "**Parameters:**\n",
    "\n",
    "|Name|Description|\n",
    "|------|------|\n",
    "|arg|dict of properties compatible with this constructor or an instance of plotly.graph_objects.Scatterpolar|\n",
    "|r|Sets the radial coordinates|\n",
    "|theta|Sets the radial coordinates|\n",
    "|line|plotly.graph_objects.scatterpolar.Line instance or dict with compatible properties|\n",
    "|marker|plotly.graph_objects.scatterpolar.Marker instance or dict with compatible properties|"
   ]
  },
  {
   "cell_type": "code",
   "execution_count": 1,
   "metadata": {},
   "outputs": [
    {
     "data": {
      "text/plain": [
       "'polar_chart_one.html'"
      ]
     },
     "execution_count": 1,
     "metadata": {},
     "output_type": "execute_result"
    }
   ],
   "source": [
    "import plotly.offline as pyo\n",
    "import plotly.graph_objects as go\n",
    "\n",
    "fig = go.Figure(data=go.Scatterpolar(\n",
    "\tr=[1, 2, 3, 4, 5, 6, 7, 8, 9],\n",
    "\ttheta=[69, 141, 213, 285, 357,\n",
    "\t\t429, 501, 573, 645],\n",
    "\tmode='markers',\n",
    "))\n",
    "\n",
    "pyo.plot(fig, filename='polar_chart_one.html')"
   ]
  },
  {
   "cell_type": "code",
   "execution_count": 2,
   "metadata": {},
   "outputs": [
    {
     "data": {
      "text/plain": [
       "'polar_chart_two.html'"
      ]
     },
     "execution_count": 2,
     "metadata": {},
     "output_type": "execute_result"
    }
   ],
   "source": [
    "import plotly.graph_objects as go\n",
    "\n",
    "fig = go.Figure(data=go.Barpolar(\n",
    "\tr=[1, 2, 3, 4, 5, 6, 7, 8, 9],\n",
    "\ttheta=[69, 141, 213, 285, 357,\n",
    "\t\t429, 501, 573, 645],\n",
    "))\n",
    "\n",
    "pyo.plot(fig, filename='polar_chart_two.html')"
   ]
  },
  {
   "cell_type": "code",
   "execution_count": 3,
   "metadata": {},
   "outputs": [
    {
     "data": {
      "text/plain": [
       "'polar_chart_three.html'"
      ]
     },
     "execution_count": 3,
     "metadata": {},
     "output_type": "execute_result"
    }
   ],
   "source": [
    "import plotly.graph_objects as go\n",
    "\n",
    "fig = go.Figure(data=go.Scatterpolar(\n",
    "\tr=[1, 2, 3, 4, 5, 6, 7, 8, 9],\n",
    "\ttheta=[69, 141, 213, 285, 357,\n",
    "\t\t429, 501, 573, 645],\n",
    "\tmode='lines',\n",
    "))\n",
    "\n",
    "pyo.plot(fig, filename='polar_chart_three.html')"
   ]
  }
 ],
 "metadata": {
  "interpreter": {
   "hash": "f5fcd04f47f33b9e0f6ea85f02011428fdeda1d6eb9d38dea119125ff144daf0"
  },
  "kernelspec": {
   "display_name": "Python 3.6.12 ('data_science')",
   "language": "python",
   "name": "python3"
  },
  "language_info": {
   "codemirror_mode": {
    "name": "ipython",
    "version": 3
   },
   "file_extension": ".py",
   "mimetype": "text/x-python",
   "name": "python",
   "nbconvert_exporter": "python",
   "pygments_lexer": "ipython3",
   "version": "3.6.12"
  },
  "orig_nbformat": 4
 },
 "nbformat": 4,
 "nbformat_minor": 2
}
