{
 "cells": [
  {
   "cell_type": "markdown",
   "metadata": {},
   "source": [
    "**Surface plot** is those plot which has three-dimensions data which is X, Y, and Z. Rather than showing individual data points, the surface plot has a functional relationship between dependent variable Y and have two independent variables X and Z. This plot is used to distinguish between dependent and independent variables."
   ]
  },
  {
   "cell_type": "markdown",
   "metadata": {},
   "source": [
    "**Syntax:** plotly.graph_objects.Surface(arg=None, hoverinfo=None, x=None, y=None, z=None, **kwargs)"
   ]
  },
  {
   "cell_type": "markdown",
   "metadata": {},
   "source": [
    "**Parameters:**\n",
    "\n",
    "|Name|Description|\n",
    "|------|------|\n",
    "|arg|dict of properties compatible with this constructor or an instance of plotly.graph_objects.Surface|\n",
    "|x|Sets the x coordinates.|\n",
    "|y|Sets the y coordinates.|\n",
    "|z|Sets the z coordinates.|\n",
    "|hoverinfo|Determines which trace information appear on hover. If none or skip are set, no information is displayed upon hovering. But, if none is set, click and hover events are still fired.|"
   ]
  },
  {
   "cell_type": "code",
   "execution_count": 1,
   "metadata": {},
   "outputs": [
    {
     "data": {
      "text/plain": [
       "'surface_plot_three_dimension_one.html'"
      ]
     },
     "execution_count": 1,
     "metadata": {},
     "output_type": "execute_result"
    }
   ],
   "source": [
    "import plotly.offline as pyo\n",
    "import plotly.graph_objects as go\n",
    "import numpy as np\n",
    "\n",
    "x = np.outer(np.linspace(-2, 2, 30), np.ones(30))\n",
    "y = x.copy().T\n",
    "z = np.cos(x ** 2 + y ** 2)\n",
    "\n",
    "fig = go.Figure(data=[go.Surface(x=x, y=y, z=z)])\n",
    "\n",
    "pyo.plot(fig, filename='surface_plot_three_dimension_one.html')"
   ]
  }
 ],
 "metadata": {
  "interpreter": {
   "hash": "f5fcd04f47f33b9e0f6ea85f02011428fdeda1d6eb9d38dea119125ff144daf0"
  },
  "kernelspec": {
   "display_name": "Python 3.6.12 ('data_science')",
   "language": "python",
   "name": "python3"
  },
  "language_info": {
   "codemirror_mode": {
    "name": "ipython",
    "version": 3
   },
   "file_extension": ".py",
   "mimetype": "text/x-python",
   "name": "python",
   "nbconvert_exporter": "python",
   "pygments_lexer": "ipython3",
   "version": "3.6.12"
  },
  "orig_nbformat": 4
 },
 "nbformat": 4,
 "nbformat_minor": 2
}
