{
 "cells": [
  {
   "cell_type": "markdown",
   "metadata": {},
   "source": [
    "**Sankey diagrams** are a type of flow diagram in which the width of the arrows is comparative to the flow rate. Sankey diagrams can also visualize the source to represent the source node, target for the target node, value to set the flow volume and label that shows the node name. If the flow is twice as wide it represents double the quantity."
   ]
  },
  {
   "cell_type": "code",
   "execution_count": 2,
   "metadata": {},
   "outputs": [
    {
     "data": {
      "text/plain": [
       "'sankey_diagram_one.html'"
      ]
     },
     "execution_count": 2,
     "metadata": {},
     "output_type": "execute_result"
    }
   ],
   "source": [
    "import plotly.offline as pyo\n",
    "import plotly.graph_objects as go\n",
    "\n",
    "fig = go.Figure(data=[go.Sankey(\n",
    "\tnode = dict(\n",
    "\tthickness = 5,\n",
    "\tline = dict(color = \"green\", width = 0.1),\n",
    "\tlabel = [\"A\", \"B\", \"C\", \"D\", \"E\", \"F\"],\n",
    "\tcolor = \"blue\"\n",
    "\t),\n",
    "\tlink = dict(\n",
    "\t\t\n",
    "\t# indices correspond to labels\n",
    "\tsource = [0, 6, 1, 4, 2, 3],\n",
    "\ttarget = [2, 1, 5, 2, 1, 5],\n",
    "\tvalue = [7, 1, 3, 6, 9, 4]\n",
    "))])\n",
    "\n",
    "pyo.plot(fig, filename=\"sankey_diagram_one.html\")"
   ]
  },
  {
   "cell_type": "code",
   "execution_count": 3,
   "metadata": {},
   "outputs": [
    {
     "data": {
      "text/plain": [
       "'sankey_diagram_two.html'"
      ]
     },
     "execution_count": 3,
     "metadata": {},
     "output_type": "execute_result"
    }
   ],
   "source": [
    "fig = go.Figure(data=[go.Sankey(\n",
    "\tnode = dict(\n",
    "\tthickness = 5,\n",
    "\tline = dict(color = \"green\", width = 0.1),\n",
    "\tlabel = [\"A\", \"B\", \"C\", \"D\", \"E\", \"F\"],\n",
    "\tcolor = \"blue\"\n",
    "\t),\n",
    "\tlink = dict(\n",
    "\t\t\n",
    "\t# indices correspond to labels\n",
    "\tsource = [0, 6, 1, 4, 2, 3],\n",
    "\ttarget = [2, 1, 5, 2, 1, 5],\n",
    "\tvalue = [7, 1, 3, 6, 9, 4]\n",
    "))])\n",
    "\n",
    "fig.update_layout(\n",
    "\thovermode = 'x',\n",
    "\ttitle=\"Sankey Diagram\",\n",
    "\tfont=dict(size = 10, color = 'green'),\n",
    "\tplot_bgcolor='blue',\n",
    "\tpaper_bgcolor='yellow'\n",
    ")\n",
    "\n",
    "pyo.plot(fig, filename=\"sankey_diagram_two.html\")"
   ]
  }
 ],
 "metadata": {
  "interpreter": {
   "hash": "f5fcd04f47f33b9e0f6ea85f02011428fdeda1d6eb9d38dea119125ff144daf0"
  },
  "kernelspec": {
   "display_name": "Python 3.6.12 ('data_science')",
   "language": "python",
   "name": "python3"
  },
  "language_info": {
   "codemirror_mode": {
    "name": "ipython",
    "version": 3
   },
   "file_extension": ".py",
   "mimetype": "text/x-python",
   "name": "python",
   "nbconvert_exporter": "python",
   "pygments_lexer": "ipython3",
   "version": "3.6.12"
  },
  "orig_nbformat": 4
 },
 "nbformat": 4,
 "nbformat_minor": 2
}
