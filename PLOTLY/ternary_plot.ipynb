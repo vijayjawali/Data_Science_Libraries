{
 "cells": [
  {
   "cell_type": "markdown",
   "metadata": {},
   "source": [
    "A **ternary plot** is also known as a ternary graph, triangle plot, simplex plot which is a barycentric plot on three variables which sum to a constant. It graphically depicts the ratios of the three variables as positions in an equilateral triangle. It can be created using two-class i.e. express class and graph_objects class."
   ]
  },
  {
   "cell_type": "markdown",
   "metadata": {},
   "source": [
    "**Syntax:** scatter_ternary( a=None, b=None, c=None, color=None,labels={},width=None, height=None)"
   ]
  },
  {
   "cell_type": "markdown",
   "metadata": {},
   "source": [
    "**Parameters:**\n",
    "\n",
    "|Name|Description|\n",
    "|------|------|\n",
    "|a|Values from this column or array_like are used to position marks along the a axis in ternary coordinates.|\n",
    "|b|Values from this column or array_like are used to position marks along the b axis in ternary coordinates.|\n",
    "|c|Values from this column or array_like are used to position marks along the c axis in ternary coordinates.|\n",
    "|color|Either a name of a column in data_frame, or a pandas Series or array_like object. Values from this column or array_like are used to assign color to marks.|\n",
    "|width|The figure width in pixels.|\n",
    "|height|The figure height in pixels|"
   ]
  },
  {
   "cell_type": "code",
   "execution_count": 1,
   "metadata": {},
   "outputs": [
    {
     "data": {
      "text/plain": [
       "'ternary_plot_one.html'"
      ]
     },
     "execution_count": 1,
     "metadata": {},
     "output_type": "execute_result"
    }
   ],
   "source": [
    "import plotly.offline as pyo\n",
    "import plotly.express as px\n",
    "\n",
    "\n",
    "df = px.data.iris()\n",
    "fig = px.scatter_ternary(df, a=\"sepal_length\",\n",
    "\t\t\t\t\t\tb=\"sepal_width\", c=\"petal_length\",\n",
    "\t\t\t\t\t\tcolor=\"species\", size_max=20)\n",
    "\n",
    "pyo.plot(fig, filename=\"ternary_plot_one.html\")"
   ]
  },
  {
   "cell_type": "code",
   "execution_count": 2,
   "metadata": {},
   "outputs": [
    {
     "data": {
      "text/plain": [
       "'ternary_plot_two.html'"
      ]
     },
     "execution_count": 2,
     "metadata": {},
     "output_type": "execute_result"
    }
   ],
   "source": [
    "import plotly.express as px\n",
    "import plotly.graph_objects as go\n",
    "\n",
    "\n",
    "df = px.data.iris()\n",
    "fig = go.Figure(go.Scatterternary({\n",
    "\t'mode': 'markers',\n",
    "\t'a': df['sepal_length'],\n",
    "\t'b': df['sepal_width'],\n",
    "\t'c': df['petal_length'],\n",
    "\t'marker': {\n",
    "\t\t'color': 'green',\n",
    "\t\t'size': 14,\n",
    "\t\t'line': {'width': 2}\n",
    "\t}\n",
    "}))\n",
    "\n",
    "pyo.plot(fig, filename=\"ternary_plot_two.html\")"
   ]
  }
 ],
 "metadata": {
  "interpreter": {
   "hash": "f5fcd04f47f33b9e0f6ea85f02011428fdeda1d6eb9d38dea119125ff144daf0"
  },
  "kernelspec": {
   "display_name": "Python 3.6.12 ('data_science')",
   "language": "python",
   "name": "python3"
  },
  "language_info": {
   "codemirror_mode": {
    "name": "ipython",
    "version": 3
   },
   "file_extension": ".py",
   "mimetype": "text/x-python",
   "name": "python",
   "nbconvert_exporter": "python",
   "pygments_lexer": "ipython3",
   "version": "3.6.12"
  },
  "orig_nbformat": 4
 },
 "nbformat": 4,
 "nbformat_minor": 2
}
