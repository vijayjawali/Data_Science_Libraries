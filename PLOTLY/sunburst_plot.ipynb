{
 "cells": [
  {
   "cell_type": "markdown",
   "metadata": {},
   "source": [
    "**Sunburst plot** visualizes stratified data gradually from roots to leaves. The root starts from the center and squirt are added to the outer rings. Each level of the hierarchy is represented by one ring or circle with the innermost circle, further rings are divided into slices that represent data points and the size of the slice represents data values."
   ]
  },
  {
   "cell_type": "markdown",
   "metadata": {},
   "source": [
    "**Syntax:** plotly.express.sunburst(data_frame=None, names=None, values=None, parents=None, path=None, ids=None, color=None, color_continuous_scale=None, range_color=None, color_continuous_midpoint=None, color_discrete_sequence=None, color_discrete_map={}, hover_name=None, hover_data=None, custom_data=None, labels={}, title=None, template=None, width=None, height=None, branchvalues=None, maxdepth=None)"
   ]
  },
  {
   "cell_type": "markdown",
   "metadata": {},
   "source": [
    "**Parameters:**\n",
    "\n",
    "|Name|Description|\n",
    "|------|------|\n",
    "|data_frame|This argument needs to be passed for column names (and not keyword names) to be used.| \n",
    "|names|Either a name of a column in data_frame, or a pandas Series or array_like object. Values from this column or array_like are used as labels for sectors.|\n",
    "|values|Either a name of a column in data_frame or a pandas Series or array_like object. Values from this column or array_like are used to set values associated to sectors.|\n",
    "|parents|Either a name of a column in data_frame, or a pandas Series or array_like object. Values from this column or array_like are used as parents in sunburst and treemap charts.|\n",
    "|path|Either names of columns in data_frame, or pandas Series, or array_like objects List of columns names or columns of a rectangular dataframe defining the hierarchy of sectors, from root to leaves.|\n",
    "|ids|Either a name of a column in data_frame, or a pandas Series or array_like object. Values from this column or array_like are used to set ids of sectors|"
   ]
  },
  {
   "cell_type": "code",
   "execution_count": 1,
   "metadata": {},
   "outputs": [
    {
     "data": {
      "text/plain": [
       "'sunburst_plot_one.html'"
      ]
     },
     "execution_count": 1,
     "metadata": {},
     "output_type": "execute_result"
    }
   ],
   "source": [
    "import plotly.offline as pyo\n",
    "import plotly.express as px\n",
    "\n",
    "df = px.data.iris()\n",
    "\n",
    "fig = px.sunburst(df, path=['sepal_length',\n",
    "\t\t\t\t\t\t\t'sepal_width',\n",
    "\t\t\t\t\t\t\t'petal_length'],\n",
    "\t\t\t\tvalues='petal_width')\n",
    "\n",
    "pyo.plot(fig, filename='sunburst_plot_one.html')"
   ]
  },
  {
   "cell_type": "code",
   "execution_count": 2,
   "metadata": {},
   "outputs": [
    {
     "data": {
      "text/plain": [
       "'sunburst_plot_two.html'"
      ]
     },
     "execution_count": 2,
     "metadata": {},
     "output_type": "execute_result"
    }
   ],
   "source": [
    "import plotly.express as px\n",
    "\n",
    "df = px.data.tips()\n",
    "\n",
    "fig = px.sunburst(df, path=['day', 'sex'],\n",
    "\t\t\t\tvalues='total_bill')\n",
    "\n",
    "pyo.plot(fig, filename='sunburst_plot_two.html')"
   ]
  },
  {
   "cell_type": "code",
   "execution_count": 3,
   "metadata": {},
   "outputs": [
    {
     "data": {
      "text/plain": [
       "'sunburst_plot_three.html'"
      ]
     },
     "execution_count": 3,
     "metadata": {},
     "output_type": "execute_result"
    }
   ],
   "source": [
    "import plotly.express as px\n",
    "\n",
    "df = px.data.tips()\n",
    "\n",
    "fig = px.sunburst(df, path=['day', 'sex'],\n",
    "\t\t\t\tvalues='total_bill', color='total_bill')\n",
    "\n",
    "pyo.plot(fig, filename='sunburst_plot_three.html')"
   ]
  },
  {
   "cell_type": "code",
   "execution_count": 4,
   "metadata": {},
   "outputs": [
    {
     "data": {
      "text/plain": [
       "'sunburst_plot_four.html'"
      ]
     },
     "execution_count": 4,
     "metadata": {},
     "output_type": "execute_result"
    }
   ],
   "source": [
    "import plotly.express as px\n",
    "\n",
    "df = px.data.tips()\n",
    "\n",
    "fig = px.sunburst(df, path=['day', 'sex'],\n",
    "\t\t\t\tvalues='total_bill', color='time')\n",
    "\n",
    "pyo.plot(fig, filename='sunburst_plot_four.html')"
   ]
  },
  {
   "cell_type": "code",
   "execution_count": 5,
   "metadata": {},
   "outputs": [
    {
     "data": {
      "text/plain": [
       "'sunburst_plot_five.html'"
      ]
     },
     "execution_count": 5,
     "metadata": {},
     "output_type": "execute_result"
    }
   ],
   "source": [
    "import plotly.express as px\n",
    "import pandas as pd\n",
    "\n",
    "\n",
    "A = [\"A\", \"B\", \"C\", \"D\", None, \"E\",\n",
    "\t\t\"F\", \"G\", \"H\", None]\n",
    "\n",
    "B = [\"A1\", \"A1\", \"B1\", \"B1\", \"N\",\n",
    "\t\t\"A1\", \"A1\", \"B1\", \"B1\", \"N\"]\n",
    "C = [\"N\", \"N\", \"N\", \"N\", \"N\",\n",
    "\t\t\"S\", \"S\", \"S\", \"S\", \"S\"]\n",
    "D = [1, 13, 21, 14, 1, 12, 25, 1, 14, 1]\n",
    "\n",
    "df = pd.DataFrame(\n",
    "\tdict(A=A, B=B, C=C, D=D)\n",
    ")\n",
    "\n",
    "fig = px.sunburst(df, path=['C', 'B', 'A'], values='D')\n",
    "\n",
    "pyo.plot(fig, filename='sunburst_plot_five.html')"
   ]
  }
 ],
 "metadata": {
  "interpreter": {
   "hash": "f5fcd04f47f33b9e0f6ea85f02011428fdeda1d6eb9d38dea119125ff144daf0"
  },
  "kernelspec": {
   "display_name": "Python 3.6.12 ('data_science')",
   "language": "python",
   "name": "python3"
  },
  "language_info": {
   "codemirror_mode": {
    "name": "ipython",
    "version": 3
   },
   "file_extension": ".py",
   "mimetype": "text/x-python",
   "name": "python",
   "nbconvert_exporter": "python",
   "pygments_lexer": "ipython3",
   "version": "3.6.12"
  },
  "orig_nbformat": 4
 },
 "nbformat": 4,
 "nbformat_minor": 2
}
