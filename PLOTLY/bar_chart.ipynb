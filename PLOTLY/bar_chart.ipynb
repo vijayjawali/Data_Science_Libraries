{
 "cells": [
  {
   "cell_type": "markdown",
   "metadata": {},
   "source": [
    "In a **bar chart** the data categories are displayed on the vertical axis and the data values are displayed on the horizontal axis. Labels are easier to display and with a big data set they impel to work better in a narrow layout such as mobile view. "
   ]
  },
  {
   "cell_type": "markdown",
   "metadata": {},
   "source": [
    "**Syntax:** plotly.express.bar(data_frame=None, x=None, y=None, color=None, facet_row=None, facet_col=None, facet_col_wrap=0, hover_name=None, hover_data=None, custom_data=None, text=None, error_x=None, error_x_minus=None, error_y=None, error_y_minus=None, animation_frame=None, animation_group=None, category_orders={}, labels={}, color_discrete_sequence=None, color_discrete_map={}, color_continuous_scale=None, range_color=None, color_continuous_midpoint=None, opacity=None, orientation=None, barmode=’relative’, log_x=False, log_y=False, range_x=None, range_y=None, title=None, template=None, width=None, height=None)"
   ]
  },
  {
   "cell_type": "markdown",
   "metadata": {},
   "source": [
    "**Parameters:**\n",
    "\n",
    "|Name|Description|\n",
    "|------|------|\n",
    "|data_frame|This argument needs to be passed for column names (and not keyword names) to be used. Array-like and dict are transformed internally to a pandas DataFrame. Optional: if missing, a DataFrame gets constructed under the hood using the other arguments.|\n",
    "|x|Either a name of a column in data_frame, or a pandas Series or array_like object. Values from this column or array_like are used to position marks along the x axis in cartesian coordinates. Either x or y can optionally be a list of column references or array_likes, in which case the data will be treated as if it were ‘wide’ rather than ‘long’.|\n",
    "|y|Either a name of a column in data_frame, or a pandas Series or array_like object. Values from this column or array_like are used to position marks along the y axis in cartesian coordinates. Either x or y can optionally be a list of column references or array_likes, in which case the data will be treated as if it were ‘wide’ rather than ‘long’.|\n",
    "|color|Either a name of a column in data_frame, or a pandas Series or array_like object. Values from this column or array_like are used to assign color to marks.|"
   ]
  },
  {
   "cell_type": "code",
   "execution_count": 1,
   "metadata": {},
   "outputs": [
    {
     "data": {
      "text/plain": [
       "'bar_chart_one.html'"
      ]
     },
     "execution_count": 1,
     "metadata": {},
     "output_type": "execute_result"
    }
   ],
   "source": [
    "import plotly.offline as pyo\n",
    "import plotly.express as px\n",
    "import numpy as np\n",
    " \n",
    "# creating random data through randomint\n",
    "# function of numpy.random\n",
    "np.random.seed(42)\n",
    "   \n",
    "random_x= np.random.randint(1, 101, 100)\n",
    "random_y= np.random.randint(1, 101, 100)\n",
    " \n",
    "fig = px.bar(random_x, y = random_y)\n",
    "\n",
    "pyo.plot(fig, filename='bar_chart_one.html')"
   ]
  },
  {
   "cell_type": "code",
   "execution_count": 2,
   "metadata": {},
   "outputs": [
    {
     "data": {
      "text/plain": [
       "'bar_chart_two.html'"
      ]
     },
     "execution_count": 2,
     "metadata": {},
     "output_type": "execute_result"
    }
   ],
   "source": [
    "import plotly.express as px\n",
    " \n",
    "df = px.data.iris()\n",
    " \n",
    "fig = px.bar(df, x = \"sepal_width\", y = \"sepal_length\")\n",
    "\n",
    "pyo.plot(fig, filename='bar_chart_two.html')"
   ]
  },
  {
   "cell_type": "code",
   "execution_count": 3,
   "metadata": {},
   "outputs": [
    {
     "data": {
      "text/plain": [
       "'bar_chart_three.html'"
      ]
     },
     "execution_count": 3,
     "metadata": {},
     "output_type": "execute_result"
    }
   ],
   "source": [
    "import plotly.express as px\n",
    "long_df = px.data.medals_long()\n",
    " \n",
    "fig = px.bar(long_df, x = \"nation\", y = \"count\",\n",
    "             color = \"medal\", title = \"Long-Form Input\")\n",
    "\n",
    "pyo.plot(fig, filename='bar_chart_three.html')"
   ]
  },
  {
   "cell_type": "code",
   "execution_count": 4,
   "metadata": {},
   "outputs": [
    {
     "data": {
      "text/plain": [
       "'bar_chart_four.html'"
      ]
     },
     "execution_count": 4,
     "metadata": {},
     "output_type": "execute_result"
    }
   ],
   "source": [
    "import plotly.express as px\n",
    "df = px.data.medals_wide()\n",
    " \n",
    "fig = px.bar(df, x=\"nation\",\n",
    "             y=[\"gold\", \"silver\", \"bronze\"],\n",
    "             title=\"Wide Form Data\")\n",
    "\n",
    "pyo.plot(fig, filename='bar_chart_four.html')"
   ]
  },
  {
   "cell_type": "code",
   "execution_count": 5,
   "metadata": {},
   "outputs": [
    {
     "data": {
      "text/plain": [
       "'bar_chart_five.html'"
      ]
     },
     "execution_count": 5,
     "metadata": {},
     "output_type": "execute_result"
    }
   ],
   "source": [
    "import plotly.express as px\n",
    " \n",
    "df = px.data.iris()\n",
    " \n",
    "fig = px.bar(df, x=\"sepal_width\", y=\"sepal_length\",\n",
    "             color=\"species\", barmode=\"group\",\n",
    "             facet_row=\"species\", facet_col=\"species_id\")\n",
    "\n",
    "pyo.plot(fig, filename='bar_chart_five.html')"
   ]
  },
  {
   "cell_type": "code",
   "execution_count": 6,
   "metadata": {},
   "outputs": [
    {
     "data": {
      "text/plain": [
       "'bar_chart_six.html'"
      ]
     },
     "execution_count": 6,
     "metadata": {},
     "output_type": "execute_result"
    }
   ],
   "source": [
    "import plotly.express as px\n",
    " \n",
    "df = px.data.iris()\n",
    " \n",
    "fig = px.bar(df, x=\"sepal_width\", y=\"sepal_length\", color=\"species\")\n",
    "\n",
    "pyo.plot(fig, filename='bar_chart_six.html')"
   ]
  },
  {
   "cell_type": "code",
   "execution_count": 7,
   "metadata": {},
   "outputs": [
    {
     "data": {
      "text/plain": [
       "'bar_chart_seven.html'"
      ]
     },
     "execution_count": 7,
     "metadata": {},
     "output_type": "execute_result"
    }
   ],
   "source": [
    "import plotly.express as px\n",
    " \n",
    "df = px.data.iris()\n",
    " \n",
    "fig = px.bar(df, x=\"sepal_width\", y=\"sepal_length\",\n",
    "             color=\"species\", barmode = 'group')\n",
    "\n",
    "pyo.plot(fig, filename='bar_chart_seven.html')"
   ]
  },
  {
   "cell_type": "code",
   "execution_count": 8,
   "metadata": {},
   "outputs": [
    {
     "data": {
      "text/plain": [
       "'bar_chart_eight.html'"
      ]
     },
     "execution_count": 8,
     "metadata": {},
     "output_type": "execute_result"
    }
   ],
   "source": [
    "\n",
    "import plotly.express as px\n",
    " \n",
    "df = px.data.iris()\n",
    " \n",
    "fig = px.bar(df, x=\"sepal_width\", y=\"sepal_length\",\n",
    "             color=\"species\", barmode='overlay')\n",
    "\n",
    "pyo.plot(fig, filename='bar_chart_eight.html')"
   ]
  },
  {
   "cell_type": "code",
   "execution_count": null,
   "metadata": {},
   "outputs": [],
   "source": []
  }
 ],
 "metadata": {
  "interpreter": {
   "hash": "f5fcd04f47f33b9e0f6ea85f02011428fdeda1d6eb9d38dea119125ff144daf0"
  },
  "kernelspec": {
   "display_name": "Python 3.6.12 ('data_science')",
   "language": "python",
   "name": "python3"
  },
  "language_info": {
   "codemirror_mode": {
    "name": "ipython",
    "version": 3
   },
   "file_extension": ".py",
   "mimetype": "text/x-python",
   "name": "python",
   "nbconvert_exporter": "python",
   "pygments_lexer": "ipython3",
   "version": "3.6.12"
  },
  "orig_nbformat": 4
 },
 "nbformat": 4,
 "nbformat_minor": 2
}
