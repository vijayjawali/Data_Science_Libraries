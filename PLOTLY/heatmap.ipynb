{
 "cells": [
  {
   "cell_type": "markdown",
   "metadata": {},
   "source": [
    "A **heatmap** is a two-dimensional graphical representation of data where the individual values that are contained in a matrix are represented as colors."
   ]
  },
  {
   "cell_type": "markdown",
   "metadata": {},
   "source": [
    "**Syntax:** plotly.graph_objects.Heatmap(arg=None, autocolorscale=None, colorbar=None, colorscale=None, x=None, y=None, z=None, **kwargs)"
   ]
  },
  {
   "cell_type": "markdown",
   "metadata": {},
   "source": [
    "**Parameters:**\n",
    "\n",
    "|Name|Description|\n",
    "|------|------|\n",
    "|arg|dict of properties compatible with this constructor|\n",
    "|autocolorscale|Determines whether the colorscale is a default palette (autocolorscale: true) or the palette determined by colorscale.|\n",
    "|colorbar|plotly.graph_objects.heatmap.ColorBar instance or dict with compatible properties|\n",
    "|colorscale|Sets the colorscale. The colorscale must be an array containing arrays mapping a normalized value to an rgb, rgba, hex, hsl, hsv, or named color string.|\n",
    "|x|Sets the x coordinates.|\n",
    "|y|Sets the y coordinates.|\n",
    "|z|Sets the z coordinates.|"
   ]
  },
  {
   "cell_type": "code",
   "execution_count": 2,
   "metadata": {},
   "outputs": [
    {
     "data": {
      "text/plain": [
       "'heatmap_one.html'"
      ]
     },
     "execution_count": 2,
     "metadata": {},
     "output_type": "execute_result"
    }
   ],
   "source": [
    "import plotly.offline as pyo\n",
    "import plotly.graph_objects as go\n",
    "import numpy as np\n",
    "\n",
    "feature_x = np.arange(0, 50, 2)\n",
    "feature_y = np.arange(0, 50, 3)\n",
    "\n",
    "# Creating 2-D grid of features\n",
    "[X, Y] = np.meshgrid(feature_x, feature_y)\n",
    "\n",
    "Z = np.cos(X / 2) + np.sin(Y / 4)\n",
    "\n",
    "fig = go.Figure(data =\n",
    "\tgo.Heatmap(x = feature_x, y = feature_y, z = Z,))\n",
    "\n",
    "pyo.plot(fig, filename = 'heatmap_one.html')"
   ]
  },
  {
   "cell_type": "code",
   "execution_count": 3,
   "metadata": {},
   "outputs": [
    {
     "data": {
      "text/plain": [
       "'heatmap_two.html'"
      ]
     },
     "execution_count": 3,
     "metadata": {},
     "output_type": "execute_result"
    }
   ],
   "source": [
    "import plotly.graph_objects as go\n",
    "\n",
    "feature_x = np.arange(0, 50, 2)\n",
    "feature_y = np.arange(0, 50, 3)\n",
    "\n",
    "# Creating 2-D grid of features\n",
    "[X, Y] = np.meshgrid(feature_x, feature_y)\n",
    "\n",
    "Z = np.cos(X / 2) + np.sin(Y / 4)\n",
    "\n",
    "fig = go.Figure(data=go.Heatmap(\n",
    "x=feature_x, y=feature_y, z=Z,))\n",
    "\n",
    "fig.update_layout(\n",
    "\tmargin=dict(t=200, r=200, b=200, l=200),\n",
    "\tshowlegend=False,\n",
    "\twidth=700, height=700,\n",
    "\tautosize=False)\n",
    "\n",
    "\n",
    "pyo.plot(fig, filename = 'heatmap_two.html')"
   ]
  }
 ],
 "metadata": {
  "interpreter": {
   "hash": "f5fcd04f47f33b9e0f6ea85f02011428fdeda1d6eb9d38dea119125ff144daf0"
  },
  "kernelspec": {
   "display_name": "Python 3.6.12 ('data_science')",
   "language": "python",
   "name": "python3"
  },
  "language_info": {
   "codemirror_mode": {
    "name": "ipython",
    "version": 3
   },
   "file_extension": ".py",
   "mimetype": "text/x-python",
   "name": "python",
   "nbconvert_exporter": "python",
   "pygments_lexer": "ipython3",
   "version": "3.6.12"
  },
  "orig_nbformat": 4
 },
 "nbformat": 4,
 "nbformat_minor": 2
}
