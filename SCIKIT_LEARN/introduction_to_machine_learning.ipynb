{
 "cells": [
  {
   "cell_type": "markdown",
   "metadata": {},
   "source": [
    "Machine Learning is an application of artificial intelligence (AI) that provides systems the ability to automatically learn and improve from experience without being explicitly programmed. \n",
    "\n",
    "Machine Learning focuses on the development of computer programs that can access data and use it learn from it."
   ]
  },
  {
   "cell_type": "markdown",
   "metadata": {},
   "source": [
    "There are four main types of machine learning algorithms:\n",
    "1. Supervised learning: learning from data that is labeled.\n",
    "2. Unsupervised learning: learning from data that is unlabeled.\n",
    "3. Semi-supervised learning: learning from data that is labeled and unlabeled.\n",
    "4. Reinforcement learning: learning from data that is labeled and used to improve the quality of the system.\n",
    "\n"
   ]
  },
  {
   "cell_type": "markdown",
   "metadata": {},
   "source": [
    "#### Supervised learning:\n",
    "In supervised learning, the machine is taught by example. The operator provides the machine learning algorithm with a known dataset that includes desired inputs and outputs, and the algorithm must find a method to determine how to arrive at those inputs and outputs. While the operator knows the correct answers to the problem, the algorithm identifies patterns in data, learns from observations and makes predictions. The algorithm makes predictions and is corrected by the operator – and this process continues until the algorithm achieves a high level of accuracy/performance.\n",
    "\n",
    "Under the umbrella of supervised learning fall: Classification, Regression and Forecasting.\n",
    "\n",
    "1. Classification: In classification tasks, the machine learning program must draw a conclusion from observed values and determine to\n",
    "what category new observations belong. For example, when filtering emails as ‘spam’ or ‘not spam’, the program must look at existing observational data and filter the emails accordingly.\n",
    "2. Regression: In regression tasks, the machine learning program must estimate – and understand – the relationships among variables. Regression analysis focuses on one dependent variable and a series of other changing variables – making it particularly useful for prediction and forecasting.\n",
    "3. Forecasting: Forecasting is the process of making predictions about the future based on the past and present data, and is commonly used to analyse trends."
   ]
  },
  {
   "cell_type": "markdown",
   "metadata": {},
   "source": [
    "#### Semi-supervised learning:\n",
    "\n",
    "Semi-supervised learning is similar to supervised learning, but instead uses both labelled and unlabelled data. Labelled data is essentially information that has meaningful tags so that the algorithm can understand the data, whilst unlabelled data lacks that information. By using this\n",
    "combination, machine learning algorithms can learn to label unlabelled data."
   ]
  },
  {
   "cell_type": "markdown",
   "metadata": {},
   "source": [
    "#### Unsupervised learning\n",
    "\n",
    "Here, the machine learning algorithm studies data to identify patterns. There is no answer key or human operator to provide instruction. Instead, the machine determines the correlations and relationships by analysing available data. In an unsupervised learning process, the machine learning algorithm is left to interpret large data sets and address that data accordingly. The algorithm tries to organise that data in some way to describe its structure. This might mean grouping the data into clusters or arranging it in a way that looks more organised.\n",
    "\n",
    "As it assesses more data, its ability to make decisions on that data gradually improves and becomes more refined.\n",
    "\n",
    "Under the umbrella of unsupervised learning, fall:Clustering, Dimension reduction\n",
    "\n",
    "1. Clustering: Clustering involves grouping sets of similar data (based on defined criteria). It’s useful for segmenting data into several groups and performing analysis on each data set to find patterns.\n",
    "2. Dimension reduction: Dimension reduction reduces the number of variables being considered to find the exact information required."
   ]
  },
  {
   "cell_type": "markdown",
   "metadata": {},
   "source": [
    "#### Reinforcement learning\n",
    "Reinforcement learning focuses on regimented learning processes, where a machine learning algorithm is provided with a set of actions, parameters and end values. By defining the rules, the machine learning algorithm then tries to explore different options and possibilities, monitoring and evaluating each result to determine which one is optimal. Reinforcement learning teaches the machine trial and error. It learns from past experiences and begins to adapt its approach in response to the situation to achieve the best possible result."
   ]
  },
  {
   "cell_type": "markdown",
   "metadata": {},
   "source": [
    "### most common and popular machine learning algorithms\n",
    "\n",
    "<ol>\n",
    "<li> Naïve Bayes Classifier Algorithm (Supervised Learning - Classification)\n",
    "The Naïve Bayes classifier is based on Bayes’ theorem and classifies every value as independent of any other value. It allows us to predict a class/category, based on a given set of features, using probability.\n",
    "\n",
    "Despite its simplicity, the classifier does surprisingly well and is often used due to the fact it outperforms more sophisticated classification methods.</li> \n",
    "\n",
    "<li> K Means Clustering Algorithm (Unsupervised Learning - Clustering)\n",
    "The K Means Clustering algorithm is a type of unsupervised learning, which is used to categorise unlabelled data, i.e. data without defined categories or groups. The algorithm works by finding groups within the data, with the number of groups represented by the variable K. It then works iteratively to assign each data point to one of K groups based on the features provided.</li>\n",
    "<br>\n",
    "<li>  Support Vector Machine Algorithm (Supervised Learning - Classification)\n",
    "Support Vector Machine algorithms are supervised learning models that analyse data used for classification and regression analysis. They essentially filter data into categories, which is achieved by providing a set of training examples, each set marked as belonging to one or the other of the two categories. The algorithm then works to build a model that assigns new values to one category or the other.</li>\n",
    "<br>\n",
    "<li>  Linear Regression (Supervised Learning/Regression)\n",
    "Linear regression is the most basic type of regression. Simple linear regression allows us to understand the relationships between two continuous variables. </li>\n",
    "<br>\n",
    "<li>  Logistic Regression (Supervised learning – Classification)\n",
    "Logistic regression focuses on estimating the probability of an event occurring based on the previous data provided. It is used to cover a binary dependent variable, that is where only two values, 0 and 1, represent outcomes.</li>\n",
    "<br>\n",
    "<li>  Artificial Neural Networks (Reinforcement Learning)\n",
    "An artificial neural network (ANN) comprises ‘units’ arranged in a series of layers, each of which connects to layers on either side. ANNs are inspired by biological systems, such as the brain, and how they process information. ANNs are essentially a large number of interconnected processing elements, working in unison to solve specific problems.\n",
    "\n",
    "ANNs also learn by example and through experience, and they are extremely useful for modelling non-linear relationships in high-dimensional data or where the relationship amongst the input variables is difficult to understand.</li>\n",
    "\n",
    "<li>  Decision Trees (Supervised Learning – Classification/Regression)\n",
    "A decision tree is a flow-chart-like tree structure that uses a branching method to illustrate every possible outcome of a decision. Each node within the tree represents a test on a specific variable – and each branch is the outcome of that test.</li>\n",
    "<br>\n",
    "<li>  Random Forests (Supervised Learning – Classification/Regression)\n",
    "Random forests or ‘random decision forests’ is an ensemble learning method, combining multiple algorithms to generate better results for classification, regression and other tasks. Each individual classifier is weak, but when combined with others, can produce excellent results. The algorithm starts with a ‘decision tree’ (a tree-like graph or model of decisions) and an input is entered at the top. It then travels down the tree, with data being segmented into smaller and smaller sets, based on specific variables.</li>\n",
    "<br>\n",
    "<li>  Nearest Neighbours (Supervised Learning)\n",
    "The K-Nearest-Neighbour algorithm estimates how likely a data point is to be a member of one group or another. It essentially looks at the data points around a single data point to determine what group it is actually in. For example, if one point is on a grid and the algorithm is trying to determine what group that data point is in (Group A or Group B, for example) it would look at the data points near it to see what group the majority of the points are in.</li>\n",
    "</ol>"
   ]
  },
  {
   "cell_type": "markdown",
   "metadata": {},
   "source": [
    "<img src = \"machine-learning-cheet-sheet.png\">"
   ]
  },
  {
   "cell_type": "markdown",
   "metadata": {},
   "source": [
    "### How to Choose the Right Machine Learning Algorithm for Your Application\n",
    "\n",
    "1. The Data\n",
    "2. The Accuracy\n",
    "3. The Speed\n",
    "4. Features and parameters"
   ]
  },
  {
   "cell_type": "markdown",
   "metadata": {},
   "source": [
    "##### The Data\n",
    "Knowing your data is the first and foremost step of deciding on an algorithm. Before you start thinking about the different algorithms, you need to familiarize yourself with your data. A simple way to do that is to visualize the data and try to find patterns within it, try to observe it’s behavior, and, most importantly of all, its size.\n",
    "\n",
    "Knowing the critical information about your data will help you make an initial decision on an algorithm.\n",
    "1. The size of data: Some algorithms perform better with larger data than others. For example, for small training datasets, algorithms with high bais/ low variance classifiers will work better than low bias/ high variance classifiers. So, for small training data, Naïve Bayes will perform better than kNN.\n",
    "2. The characteristics of data: This means how your data is formed. Is your data linear? Then maybe a linear model will fit it best, such as regressions — linear and logistic — or SVM (support vector machine). However, if your data is more complex, then you need an algorithm like random forest.\n",
    "3. The behavior of data: Are your features sequential or chained? If it is sequential? Are you trying to forecast the weather or the stock market? Then it would be best if you used an algorithm that matches that, such as Markov models and decision trees.\n",
    "4. The type of data: You can either categorize your input or output data. If your input data is labeled, then use a supervised learning algorithm; if not, it’s probably an unsupervised learning problem. On the other hand, if your output data is numeric, then use regression, but if it’s a set of groups, then it’s a clustering problem."
   ]
  },
  {
   "cell_type": "markdown",
   "metadata": {},
   "source": [
    "##### The Accuracy\n",
    "\n",
    "Now that you have studied your data, analyzed its type, characteristics, and size, you need to ask yourself how much does accuracy matter to the problem you’re trying to solve?\n",
    "\n",
    "The accuracy of a model refers to its ability to predict an answer from a given observation set close to the correct response for that observation set.\n",
    "\n",
    "Sometimes getting an accurate answer is not necessary for our target application. If an approximation is good enough, we can cut our training and processing time significantly by choosing an approximate model. Approximate methods avoid or don’t perform overfitting or the data, such as linear regression on not-so-linear data."
   ]
  },
  {
   "cell_type": "markdown",
   "metadata": {},
   "source": [
    "##### The Speed\n",
    "Often, accuracy and speed stand on opposite sides; you need to make some trade-offs between the two when deciding on an algorithm. Higher accuracy typically means more extended training and processing times.\n",
    "\n",
    "Algorithms like Naïve Bayes and Linear and Logistic regression are easy to understand and implement and, hence they have fast execution. More complex algorithms like SVM, Neural networks, and random forests, need a much longer time to process and train data.\n",
    "\n",
    "So, which is of more value to your project? Accuracy or time? If it’s time, going with a simpler algorithm will be better, while if accuracy is the most important thing, then choosing a more complex algorithm will work better for your project."
   ]
  },
  {
   "cell_type": "markdown",
   "metadata": {},
   "source": [
    "<img src = \"accuracy_time.png\">"
   ]
  },
  {
   "cell_type": "markdown",
   "metadata": {},
   "source": [
    "##### Features and parameters\n",
    "\n",
    "The parameter of your problems is numbers that will affect how the algorithm you will choose to behave. Parameters are factors such as error tolerance or the number of iterations, or options between variants of how the algorithm behaves. The time needed to train and process your data is often related to how many parameters you have.\n",
    "\n",
    "The time required to process and train a model increases exponentially with the number of parameters. However, having many parameters typically indicates that an algorithm is more flexible.\n",
    "\n",
    "In machine learning — or data science, in general, a feature is a quantifiable variable of the problem you are trying to analyze.\n",
    "\n",
    "Having a large number of features can slow down some algorithms, making training time quite long. If your problem has many features, then using an algorithm such as SVM, which is well suited to applications with a high number of features, is the best way to go."
   ]
  },
  {
   "cell_type": "markdown",
   "metadata": {},
   "source": [
    "<img src = \"common_ml_algorithms.png\">"
   ]
  },
  {
   "cell_type": "markdown",
   "metadata": {},
   "source": [
    "Linear regression is an approach for modeling the relationship between a continuous dependent variable y and one or more predictors X. The relationship between y and X can be linearly modeled as y=βTX+ϵ Given the training examples {xi,yi}Ni=1, the parameter vector β can be learnt"
   ]
  }
 ],
 "metadata": {
  "language_info": {
   "name": "python"
  },
  "orig_nbformat": 4
 },
 "nbformat": 4,
 "nbformat_minor": 2
}
