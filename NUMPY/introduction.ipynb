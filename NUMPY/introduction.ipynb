{
 "cells": [
  {
   "cell_type": "markdown",
   "metadata": {},
   "source": [
    "### NUMPY BASICS"
   ]
  },
  {
   "cell_type": "markdown",
   "metadata": {},
   "source": [
    "<img src=\"numpy_image.png\">"
   ]
  },
  {
   "cell_type": "markdown",
   "metadata": {},
   "source": [
    "<ul>\n",
    "<li>What is Numpy?</li>\n",
    "<li>Installing and Importing Numpy</li>\n",
    "<li>Numpy Array vs Python List</li>\n",
    "<li>Basics Of Nympy</li>\n",
    "<li>Finding size and shape of any array</li>\n",
    "<li>Range and arrange functions</li>\n",
    "<li>Numpy String Functions</li>\n",
    "<li>Array Manipulation</li>\n",
    "<li>Numpy Arthematic Operations</li>\n",
    "<li>Slicing Arrays</li>\n",
    "<li>Iterating Over Arrays</li>\n",
    "<li>Joining Array</li>\n",
    "<li>Splitting Arrays</li>\n",
    "<li>Resizing an Array</li>\n",
    "<li>Numpy Histogram Using Matplotlib</li>\n",
    "<li>Other Useful Functions in Numpy</li>\n",
    "<li>Practice Example</li>\n",
    "</ul>"
   ]
  },
  {
   "cell_type": "markdown",
   "metadata": {},
   "source": []
  }
 ],
 "metadata": {
  "interpreter": {
   "hash": "f5fcd04f47f33b9e0f6ea85f02011428fdeda1d6eb9d38dea119125ff144daf0"
  },
  "kernelspec": {
   "display_name": "Python 3.6.12 64-bit ('data_science': conda)",
   "language": "python",
   "name": "python3"
  },
  "language_info": {
   "codemirror_mode": {
    "name": "ipython",
    "version": 3
   },
   "file_extension": ".py",
   "mimetype": "text/x-python",
   "name": "python",
   "nbconvert_exporter": "python",
   "pygments_lexer": "ipython3",
   "version": "3.6.12"
  },
  "orig_nbformat": 4
 },
 "nbformat": 4,
 "nbformat_minor": 2
}
